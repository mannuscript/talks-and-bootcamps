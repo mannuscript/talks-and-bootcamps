{
 "cells": [
  {
   "cell_type": "markdown",
   "metadata": {},
   "source": [
    "# Sentiment Analysis (unsupervised, lexicon-based)\n",
    "\n",
    "With the main preprocessing steps in place, we can start with higher-level text analysis. In this tutorial, we perform sentiment analysis using so called sentiment lexicons. A sentiment lexicon is a set of words that have be labeled with \"positive\" or \"negative\" or a numerical value reflecting the sentiment of the word. For example, the word \"happy\" is intuitively associated with a positive sentiment.\n",
    "\n",
    "This approach is called unsupervised since it does not rely on the labeld input data -- i.e., the text for which we want to calculate the sentiment does not need to be labeled.\n"
   ]
  },
  {
   "cell_type": "markdown",
   "metadata": {},
   "source": [
    "## Import important packages"
   ]
  },
  {
   "cell_type": "code",
   "execution_count": 1,
   "metadata": {},
   "outputs": [],
   "source": [
    "import pandas as pd\n",
    "import random\n",
    "\n",
    "# The next imports are only needed for the preprocessing\n",
    "from nltk.tokenize import TweetTokenizer\n",
    "from nltk.stem.porter import PorterStemmer\n",
    "from nltk.stem import WordNetLemmatizer\n",
    "from utils.nlputil import preprocess_text\n",
    "\n",
    "from sklearn.metrics import confusion_matrix\n",
    "from sklearn.metrics import classification_report\n",
    "\n",
    "tweet_tokenizer = TweetTokenizer()\n",
    "porter_stemmer = PorterStemmer()\n",
    "wordnet_lemmatizer = WordNetLemmatizer()"
   ]
  },
  {
   "cell_type": "markdown",
   "metadata": {},
   "source": [
    "## Load and prepare data\n",
    "\n",
    "We need to load and prepare two types of data:\n",
    "\n",
    "* the sentiment lexicon\n",
    "\n",
    "* the input data (here: tweets)"
   ]
  },
  {
   "cell_type": "markdown",
   "metadata": {},
   "source": [
    "### Load and process sentiment lexicon\n",
    "\n",
    "We use `pandas` to load the publicly availble VADER sentiment lexicon. The advantage of this lexicon compared to others is that it also contains a wide range of non-word such as emoticons. This is useful when dealing with social media data."
   ]
  },
  {
   "cell_type": "code",
   "execution_count": 2,
   "metadata": {},
   "outputs": [
    {
     "data": {
      "text/html": [
       "<div>\n",
       "<table border=\"1\" class=\"dataframe\">\n",
       "  <thead>\n",
       "    <tr style=\"text-align: right;\">\n",
       "      <th></th>\n",
       "      <th>0</th>\n",
       "      <th>1</th>\n",
       "      <th>2</th>\n",
       "      <th>3</th>\n",
       "    </tr>\n",
       "  </thead>\n",
       "  <tbody>\n",
       "    <tr>\n",
       "      <th>0</th>\n",
       "      <td>$:</td>\n",
       "      <td>-1.5</td>\n",
       "      <td>0.80623</td>\n",
       "      <td>[-1, -1, -1, -1, -3, -1, -3, -1, -2, -1]</td>\n",
       "    </tr>\n",
       "    <tr>\n",
       "      <th>1</th>\n",
       "      <td>%)</td>\n",
       "      <td>-0.4</td>\n",
       "      <td>1.01980</td>\n",
       "      <td>[-1, 0, -1, 0, 0, -2, -1, 2, -1, 0]</td>\n",
       "    </tr>\n",
       "    <tr>\n",
       "      <th>2</th>\n",
       "      <td>%-)</td>\n",
       "      <td>-1.5</td>\n",
       "      <td>1.43178</td>\n",
       "      <td>[-2, 0, -2, -2, -1, 2, -2, -3, -2, -3]</td>\n",
       "    </tr>\n",
       "    <tr>\n",
       "      <th>3</th>\n",
       "      <td>&amp;-:</td>\n",
       "      <td>-0.4</td>\n",
       "      <td>1.42829</td>\n",
       "      <td>[-3, -1, 0, 0, -1, -1, -1, 2, -1, 2]</td>\n",
       "    </tr>\n",
       "    <tr>\n",
       "      <th>4</th>\n",
       "      <td>&amp;:</td>\n",
       "      <td>-0.7</td>\n",
       "      <td>0.64031</td>\n",
       "      <td>[0, -1, -1, -1, 1, -1, -1, -1, -1, -1]</td>\n",
       "    </tr>\n",
       "  </tbody>\n",
       "</table>\n",
       "</div>"
      ],
      "text/plain": [
       "     0    1        2                                         3\n",
       "0   $: -1.5  0.80623  [-1, -1, -1, -1, -3, -1, -3, -1, -2, -1]\n",
       "1   %) -0.4  1.01980       [-1, 0, -1, 0, 0, -2, -1, 2, -1, 0]\n",
       "2  %-) -1.5  1.43178    [-2, 0, -2, -2, -1, 2, -2, -3, -2, -3]\n",
       "3  &-: -0.4  1.42829      [-3, -1, 0, 0, -1, -1, -1, 2, -1, 2]\n",
       "4   &: -0.7  0.64031    [0, -1, -1, -1, 1, -1, -1, -1, -1, -1]"
      ]
     },
     "execution_count": 2,
     "metadata": {},
     "output_type": "execute_result"
    }
   ],
   "source": [
    "df_sentiment = pd.read_csv('data/sentiment-lexicon/sentilex-vader.txt', sep='\\t', encoding = \"ISO-8859-1\", header=None)\n",
    "df_sentiment.head()"
   ]
  },
  {
   "cell_type": "markdown",
   "metadata": {},
   "source": [
    "While the lexicon contains the 10 individual labels from each annotator, we only need the average value in Column 1. While not crucial here, we also normalized the sentiment scores from [-4, ..., 4] to [-1, ..., 1]. This is usually a good practice when combining different sentiment lexicons since many use a different scoring theme."
   ]
  },
  {
   "cell_type": "code",
   "execution_count": 3,
   "metadata": {},
   "outputs": [
    {
     "name": "stdout",
     "output_type": "stream",
     "text": [
      "[('beaten', -0.45), ('fubar', -0.75), ('unhappier', -0.6), ('brooding', 0.025), ('wellsite', 0.125)]\n"
     ]
    }
   ],
   "source": [
    "sentiment_dict = {}\n",
    "\n",
    "for index, row in df_sentiment.iterrows():\n",
    "    token, score = row[0], row[1]\n",
    "    sentiment_dict[token] = score / 4.0 # normalize score from [-4,...,4] to [-1,...,1]\n",
    "\n",
    "# Print a random sample for     \n",
    "print (random.sample( sentiment_dict.items(), 5 ))"
   ]
  },
  {
   "cell_type": "markdown",
   "metadata": {},
   "source": [
    "Let's illustrate the approach with 2 example sentences, one positive and one negative."
   ]
  },
  {
   "cell_type": "code",
   "execution_count": 4,
   "metadata": {},
   "outputs": [],
   "source": [
    "pos = \"I was very happy with the service.\"\n",
    "neg = \"I wasn't very happy with the service.\"\n",
    "\n",
    "documents = [pos, neg]"
   ]
  },
  {
   "cell_type": "markdown",
   "metadata": {},
   "source": [
    "As usual, we first need to preprocess our input documents. Most sentiment lexicons only contain words in the base form, e.g., \"happy\", but not derived forms, e.g., \"happier\". Not also that not only adjectives are associated with a sentiment but also nouns such as \"love\", \"hate\", \"mistake\", \"luck\", etc. as well as verbs such as \"celebrate\", \"suffer\", \"enjoy\", etc.\n",
    "\n",
    "Note that we do NOT remove stopwords, since \"not\" and \"n't\" are considered a stopworda and removing them would clearly alter the meaning of a document. You can try removing the stopwords and see it's effects."
   ]
  },
  {
   "cell_type": "code",
   "execution_count": 5,
   "metadata": {},
   "outputs": [
    {
     "name": "stdout",
     "output_type": "stream",
     "text": [
      "['i be very happy with the service .', \"i be n't very happy with the service .\"]\n"
     ]
    }
   ],
   "source": [
    "processed_documents = [''] * len(documents)\n",
    "\n",
    "for idx, doc in enumerate(documents):\n",
    "    #processed_reviews[idx] = preprocess_text(doc, remove_stopwords=False, remove_punctuation=False)\n",
    "    #processed_reviews[idx] = preprocess_text(doc, stemmer=porter_stemmer, remove_stopwords=False, remove_punctuation=False)\n",
    "    processed_documents[idx] = preprocess_text(doc, lemmatizer=wordnet_lemmatizer, remove_stopwords=False, remove_punctuation=False)\n",
    "    \n",
    "print (processed_documents)"
   ]
  },
  {
   "cell_type": "markdown",
   "metadata": {},
   "source": [
    "Let's go through both documents check if a word is in the sentiment document. If so, we add the sentiment score of the word to the overall score `review_score`."
   ]
  },
  {
   "cell_type": "code",
   "execution_count": 8,
   "metadata": {},
   "outputs": [
    {
     "name": "stdout",
     "output_type": "stream",
     "text": [
      "0.675\n",
      "0.675\n"
     ]
    }
   ],
   "source": [
    "for doc in documents:\n",
    "    review_score = 0.0\n",
    "    for token in doc.split(): # Here split() is sufficient\n",
    "        if token in sentiment_dict:\n",
    "            review_score = review_score + sentiment_dict[token]\n",
    "    print (review_score)"
   ]
  },
  {
   "cell_type": "markdown",
   "metadata": {},
   "source": [
    "As you can see, both documents got the same score although they clearly express opposite sentiments. That's because we didn't properly handle the negation. \"not\" or \"n't\" themselves are not association with any sentiment score, but indicated that the scores of the following words need to be flipped (change of sign).\n",
    "\n",
    "To accomplish this, we first need to know which words (beyond \"not\" and \"n't\") can flip the polarities of words."
   ]
  },
  {
   "cell_type": "code",
   "execution_count": 7,
   "metadata": {},
   "outputs": [
    {
     "name": "stdout",
     "output_type": "stream",
     "text": [
      "['neither', 'never', 'no', 'nor', 'nothing', 'nowhere', 'noone', 'none', 'not', 'havent', \"haven't\", 'hasnt', \"hasn't\", 'hadnt', \"hadn't\", 'cant', \"can't\", 'cannot', 'couldnt', \"couldn't\", 'shouldnt', \"shouldn't\", 'wont', \"won't\", 'wouldnt', \"wouldn't\", 'dont', \"don't\", 'doesnt', \"doesn't\", 'didnt', \"didn't\", 'isnt', \"isn't\", 'arent', \"aren't\", 'aint', \"ain't\", 'wasnt', \"wasn't\", 'werent', \"weren't\", \"n't\"]\n"
     ]
    }
   ],
   "source": [
    "df_negation_words = pd.read_csv('data/word-lists/english-negation-words-lowercase.txt', sep='\\t', encoding = \"ISO-8859-1\", header=None)\n",
    "\n",
    "negation_words = df_negation_words[0].tolist()\n",
    "\n",
    "print(negation_words)"
   ]
  },
  {
   "cell_type": "markdown",
   "metadata": {},
   "source": [
    "We can now improve the scoring method. To what extent a negation word is effecting a document is actually a challenging task. In the following, we adopt the common and simple heuristic that we flip the sentiment score of the next 3 words -- that is, the scope of a negation is the list if the 3 succeeeding words."
   ]
  },
  {
   "cell_type": "code",
   "execution_count": 8,
   "metadata": {},
   "outputs": [
    {
     "name": "stdout",
     "output_type": "stream",
     "text": [
      "0.675\n",
      "-0.675\n"
     ]
    }
   ],
   "source": [
    "for doc in processed_documents:\n",
    "    review_score = 0.0\n",
    "    negation_scope = -1\n",
    "    \n",
    "    for token in doc.split(): # Here split() is sufficient\n",
    "        if token in negation_words:\n",
    "            negation_scope = 2\n",
    "        if token in sentiment_dict:\n",
    "            token_score =  sentiment_dict[token]\n",
    "            if negation_scope >= 0: # If we are still in the negation scope, flip the sentiment score\n",
    "                token_score *= (-1)\n",
    "            review_score = token_score\n",
    "        negation_scope -= 1 # Reduce the negation score by 1\n",
    "    print (review_score)"
   ]
  },
  {
   "cell_type": "markdown",
   "metadata": {},
   "source": [
    "Now we handle the negation in a better way. Be aware, however, that this approach is far from fool-proof. For example, image the 2nd sentence is *\"I wasn't really very very happy with the service.\"*. Here, the word \"happy\" would be outside of the scope of the negation."
   ]
  },
  {
   "cell_type": "markdown",
   "metadata": {},
   "source": [
    "### Load and process Twitter data\n",
    "\n",
    "We use a publicly dataset of several hundreds of tweets. All tweets a labeled with a polarity:\n",
    "\n",
    "* 0 = negative\n",
    "* 2 = neutral\n",
    "* 4 = negative\n",
    "\n",
    "Note that we need these labels only to evalute the performance and not for any training."
   ]
  },
  {
   "cell_type": "code",
   "execution_count": 9,
   "metadata": {},
   "outputs": [
    {
     "data": {
      "text/html": [
       "<div>\n",
       "<table border=\"1\" class=\"dataframe\">\n",
       "  <thead>\n",
       "    <tr style=\"text-align: right;\">\n",
       "      <th></th>\n",
       "      <th>tweet</th>\n",
       "      <th>senti</th>\n",
       "    </tr>\n",
       "  </thead>\n",
       "  <tbody>\n",
       "    <tr>\n",
       "      <th>0</th>\n",
       "      <td>@united UA5396 can wait for me. I'm on the gro...</td>\n",
       "      <td>0</td>\n",
       "    </tr>\n",
       "    <tr>\n",
       "      <th>1</th>\n",
       "      <td>I hate Time Warner! Soooo wish I had Vios. Can...</td>\n",
       "      <td>0</td>\n",
       "    </tr>\n",
       "    <tr>\n",
       "      <th>2</th>\n",
       "      <td>Tom Shanahan's latest column on SDSU and its N...</td>\n",
       "      <td>2</td>\n",
       "    </tr>\n",
       "    <tr>\n",
       "      <th>3</th>\n",
       "      <td>Found the self driving car!! /IWo3QSvdu2</td>\n",
       "      <td>2</td>\n",
       "    </tr>\n",
       "    <tr>\n",
       "      <th>4</th>\n",
       "      <td>@united arrived in YYZ to take our flight to T...</td>\n",
       "      <td>0</td>\n",
       "    </tr>\n",
       "  </tbody>\n",
       "</table>\n",
       "</div>"
      ],
      "text/plain": [
       "                                               tweet  senti\n",
       "0  @united UA5396 can wait for me. I'm on the gro...      0\n",
       "1  I hate Time Warner! Soooo wish I had Vios. Can...      0\n",
       "2  Tom Shanahan's latest column on SDSU and its N...      2\n",
       "3           Found the self driving car!! /IWo3QSvdu2      2\n",
       "4  @united arrived in YYZ to take our flight to T...      0"
      ]
     },
     "execution_count": 9,
     "metadata": {},
     "output_type": "execute_result"
    }
   ],
   "source": [
    "df_tweets = pd.read_csv('data/twitter-sentiment/twitter-sentiment-bowden-training.csv')\n",
    "df_tweets.head()"
   ]
  },
  {
   "cell_type": "markdown",
   "metadata": {},
   "source": [
    "We store the polarities and tweets in 2 separate lists for further processing. The list `polarities` contains to true polarities of each tweet we can use to evaluate our approach."
   ]
  },
  {
   "cell_type": "code",
   "execution_count": 10,
   "metadata": {},
   "outputs": [],
   "source": [
    "polarities = df_tweets['senti'].tolist() \n",
    "tweets = df_tweets['tweet'].tolist() "
   ]
  },
  {
   "cell_type": "markdown",
   "metadata": {},
   "source": [
    "Again, we need to properly preprocess all tweets"
   ]
  },
  {
   "cell_type": "code",
   "execution_count": null,
   "metadata": {},
   "outputs": [],
   "source": [
    "processed_tweets = [''] * len(tweets)\n",
    "\n",
    "for idx, doc in enumerate(tweets):\n",
    "    #processed_tweets[idx] = preprocess_text(doc, remove_stopwords=False, remove_punctuation=False)\n",
    "    #processed_tweets[idx] = preprocess_text(doc, stemmer=porter_stemmer, remove_stopwords=False, remove_punctuation=False)\n",
    "    processed_tweets[idx] = preprocess_text(doc, tokenizer=tweet_tokenizer, lemmatizer=wordnet_lemmatizer, remove_stopwords=False, remove_punctuation=False)\n",
    "    \n",
    "  "
   ]
  },
  {
   "cell_type": "markdown",
   "metadata": {},
   "source": [
    "## Sentiment calculation\n",
    "\n",
    "The following two methods do the same steps as shown above. Both loop over all tweets and check for all words in each tweet if a word has a sentiment score (i.e., is in the sentiment lexicon). Depending on the overall score for a tweet (less than 0 or greater than 0) it assigns the respective polarity to the tweet (0, 2, or 4). The method `calc_polarities_negation()` considers the scope of a negation the same way as shown above: flip the sentiment scores of the next 3 words.\n",
    "\n",
    "Note that there is one special case. Let's assume we only want to label the tweets with \"positive\" or \"negative\" (thus, only 2 classes). How do we handle tweets with an overall score of 0. In this case, we assume that the tweet is positive. \n",
    "\n",
    "Both methods return a list of polarity labels, e.g., `[2, 0, 0, 2, 0, 4, 2, 0, 4, 4, ...]`. The length of the list is the number of documents (tweets)."
   ]
  },
  {
   "cell_type": "code",
   "execution_count": 17,
   "metadata": {},
   "outputs": [],
   "source": [
    "def calc_polarities(docs, num_polarities=3):\n",
    "    calculated_polarities = []\n",
    "    for doc in docs:\n",
    "        doc_score = 0.0\n",
    "        for token in doc.split(): # Here split() is sufficient\n",
    "            if token in sentiment_dict:\n",
    "                doc_score += sentiment_dict[token]\n",
    "        if doc_score > 0:\n",
    "            calculated_polarities.append(4)\n",
    "        elif doc_score < 0:\n",
    "            calculated_polarities.append(0)\n",
    "        else:\n",
    "            if num_polarities == 3:\n",
    "                calculated_polarities.append(2)\n",
    "            else:\n",
    "                calculated_polarities.append(4) # By default, assume it's positive (for 2 classes)\n",
    "    return calculated_polarities\n",
    "\n",
    "\n",
    "def calc_polarities_negation(docs, num_polarities=3):\n",
    "    calculated_polarities = []\n",
    "    for doc in docs:\n",
    "        doc_score = 0.0\n",
    "        negation_scope = -1\n",
    "        for token in doc.split(): # Here split() is sufficient\n",
    "            if token in negation_words:\n",
    "                negation_scope = 2\n",
    "            if token in sentiment_dict:\n",
    "                token_score = sentiment_dict[token]\n",
    "                if negation_scope >= 0:\n",
    "                    token_score *= (-1)\n",
    "                doc_score += token_score\n",
    "            negation_scope -= 1\n",
    "        if doc_score > 0:\n",
    "            calculated_polarities.append(4)\n",
    "        elif doc_score < 0:\n",
    "            calculated_polarities.append(0)\n",
    "        else:\n",
    "            if num_polarities == 3:\n",
    "                calculated_polarities.append(2)\n",
    "            else:\n",
    "                calculated_polarities.append(4) # By default, assume it's positive (for 2 classes)\n",
    "    return calculated_polarities\n",
    "\n"
   ]
  },
  {
   "cell_type": "markdown",
   "metadata": {},
   "source": [
    "Let's calculate the polarities for all tweets using the methods as defined above. You can try both methods (with or without negation handling) and see its effects."
   ]
  },
  {
   "cell_type": "code",
   "execution_count": 26,
   "metadata": {},
   "outputs": [
    {
     "name": "stdout",
     "output_type": "stream",
     "text": [
      "[0, 4, 2, 2, 0, 2, 0, 2, 2, 0, 0, 0, 4, 4, 0, 4, 0, 2, 4, 2, 2, 4, 4, 4, 2, 4, 0, 4, 2, 0, 4, 4, 4, 4, 0, 0, 0, 4, 0, 2, 4, 4, 0, 2, 0, 0, 2, 0, 4, 2, 4, 0, 0, 4, 4, 2, 4, 2, 4, 4, 0, 0, 2, 2, 4, 4, 0, 4, 0, 4, 2, 4, 4, 0, 0, 0, 2, 0, 0, 0, 4, 4, 0, 4, 4, 0, 4, 0, 4, 4, 0, 2, 4, 4, 0, 0, 4, 4, 0, 4, 4, 4, 0, 2, 2, 2, 4, 4, 2, 4, 4, 0, 4, 2, 4, 0, 4, 4, 4, 0, 0, 4, 4, 2, 4, 2, 0, 2, 2, 4, 0, 4, 4, 4, 4, 4, 2, 4, 4, 2, 4, 0, 4, 0, 2, 4, 4, 0, 4, 4, 4, 0, 4, 4, 4, 2, 0, 2, 0, 0, 4, 0, 2, 2, 2, 4, 0, 0, 4, 2, 4, 4, 0, 2, 0, 2, 2, 0, 0, 0, 2, 4, 0, 4, 4, 4, 4, 2, 4, 0, 4, 2, 4, 4, 4, 2, 0, 2, 4, 4, 4, 4, 4, 4, 4, 2, 0, 4, 4, 2, 4, 2, 0, 2, 0, 0, 4, 4, 2, 0, 4, 0, 2, 4, 4, 4, 0, 4, 4, 4, 2, 4, 4, 0, 4, 2, 4, 0, 4, 4, 2, 4, 2, 2, 4, 0, 2, 4, 2, 4, 4, 0, 0, 4, 0, 4, 0, 4, 4, 2, 0, 0, 2, 0, 4, 4, 4, 2, 2, 0, 0, 4, 0, 4, 4, 4, 4, 4, 2, 4, 4, 4, 4, 4, 2, 2, 4, 0, 4, 2, 0, 0, 2, 0, 0, 0, 0, 0, 4, 4, 2, 4, 4, 2, 4, 4, 4, 0, 4, 4, 0, 2, 2, 4, 2, 2, 0, 4, 4, 2, 4, 2, 4, 0, 4, 0, 4, 0, 4, 2, 2, 0, 0, 4, 0, 4, 4, 4, 4, 2, 2, 2, 4, 4, 4, 4, 0, 0, 4, 4, 4, 0, 4, 4, 4, 2, 2, 4, 0, 2, 4, 4, 0, 4, 0, 4, 0, 0, 4, 0, 2, 2, 0, 0, 4, 0, 4, 4, 2, 2, 4, 0, 4, 4, 4, 2, 4, 0, 0, 4, 4, 2, 4, 0, 4, 0, 2, 2, 4, 4, 0, 0, 4, 4, 4, 0, 2, 4, 2, 2, 4, 2, 4, 4, 4, 4, 4, 4, 2, 0, 0, 4, 0, 4, 4, 0, 0, 4, 4, 4, 4, 4, 4, 4, 0, 4, 0, 4, 2, 4, 4, 4, 2, 0, 4, 4, 4, 0, 2, 0, 0, 0, 4, 4, 2, 4, 0, 0, 2, 4, 0, 0, 0, 2, 0, 4, 0, 0, 0, 4, 4, 0, 0, 0, 2, 0, 2, 4, 0, 4, 4, 4, 2, 2, 4, 0, 2, 4, 2, 4, 4, 0, 2, 0, 4, 4, 0, 2, 4, 0, 0, 4, 0, 4, 4, 4, 4, 4, 4, 4, 0, 4, 0, 0, 0, 2, 0, 0, 2, 4, 0, 4, 2, 4, 4, 0, 4, 4, 0, 2, 0, 4, 4, 0, 0, 0, 0, 4, 4, 0, 4, 0, 4, 4, 0, 0, 4, 0, 0, 2, 4, 4, 2, 4, 0, 2, 2, 4, 0, 0, 0, 4, 2, 0, 2, 2, 4, 0, 2, 0, 0, 4, 4, 0, 2, 4, 4, 0, 0, 0, 4, 2, 4, 2, 4, 4, 4, 0, 4, 4, 4, 0, 0, 0, 0, 4, 0, 4, 4, 4, 2, 4, 4, 4, 0, 4, 4, 4, 0, 4, 0, 0, 0, 4, 2, 4, 0, 4, 0, 4, 0, 0, 4, 0, 4, 2, 4, 2, 4, 2, 4, 4, 0, 4, 0, 4, 0, 4, 4, 0, 4, 4, 4, 4, 4, 4, 4, 2, 2, 4, 2, 4, 4, 0, 2, 4, 4, 4, 4, 0, 4, 0, 2, 4, 0, 2, 4, 0, 4, 4, 4, 2, 4, 2, 4, 4, 0, 0, 0, 4, 4, 2, 4, 2, 0, 4, 0, 4, 4, 0, 2, 0, 4, 4, 4, 0, 4, 0, 0]\n"
     ]
    }
   ],
   "source": [
    "#calculated_polarities = calc_polarities(processed_tweets)\n",
    "calculated_polarities = calc_polarities_negation(processed_tweets)\n",
    "\n",
    "print(calculated_polarities)"
   ]
  },
  {
   "cell_type": "markdown",
   "metadata": {},
   "source": [
    "## Evaluation\n",
    "\n",
    "### Common metrics\n",
    "\n",
    "We can now use existing metrics to evaluate how well our sentiment analysis performed. Recall that `polarities` contains the true polaritie labels."
   ]
  },
  {
   "cell_type": "code",
   "execution_count": 27,
   "metadata": {},
   "outputs": [
    {
     "name": "stdout",
     "output_type": "stream",
     "text": [
      "[[180  22  62]\n",
      " [ 26  92  50]\n",
      " [ 13  29 225]]\n"
     ]
    }
   ],
   "source": [
    "print (confusion_matrix(polarities, calculated_polarities))"
   ]
  },
  {
   "cell_type": "code",
   "execution_count": 22,
   "metadata": {},
   "outputs": [
    {
     "name": "stdout",
     "output_type": "stream",
     "text": [
      "             precision    recall  f1-score   support\n",
      "\n",
      "          0       0.82      0.68      0.75       264\n",
      "          2       0.64      0.55      0.59       168\n",
      "          4       0.67      0.84      0.75       267\n",
      "\n",
      "avg / total       0.72      0.71      0.71       699\n",
      "\n"
     ]
    }
   ],
   "source": [
    "print (classification_report(polarities, calculated_polarities))"
   ]
  },
  {
   "cell_type": "markdown",
   "metadata": {},
   "source": [
    "A combined f1-score is actually not bad value for sentiment analysis. Sentiments are often highly subjective, and often annotator disagree significantly when labeling a document."
   ]
  },
  {
   "cell_type": "markdown",
   "metadata": {},
   "source": [
    "### Error analysis\n",
    "\n",
    "A common task part of the evaluation is the so-called error analysis. The idea is to manually inspect all misclassified documents to get an idea in what cases the sentiment assignment fails. This in turn serves as basis to improve the approach."
   ]
  },
  {
   "cell_type": "code",
   "execution_count": 28,
   "metadata": {},
   "outputs": [
    {
     "name": "stdout",
     "output_type": "stream",
     "text": [
      "True: 0, Predicted: 4, Tweet: I hate Time Warner! Soooo wish I had Vios. Cant watch the fricken Mets game w/o buffering. I feel like im watching free internet porn.\n",
      "True: 0, Predicted: 2, Tweet: Driverless cars ? What's the point ?\n",
      "True: 4, Predicted: 0, Tweet: how can you not love Obama? he makes jokes about himself.\n",
      "True: 4, Predicted: 2, Tweet: Safeway is very rock n roll tonight\n",
      "True: 2, Predicted: 0, Tweet: I saw Night at the Museum: Battle of the Swithsonian today. It was okay. Your typical [kids] Ben Stiller movie.\n",
      "True: 2, Predicted: 0, Tweet:  Missed this. each is 'newer generation'. I'd start w allegra then go claritin then zyrtec. I don't envy you!\n",
      "True: 2, Predicted: 4, Tweet: I hope the girl at work  buys my Kindle2\n",
      "True: 4, Predicted: 0, Tweet: @ontheMAPP DITTO! not as good as the Nirvana Sandwiches \n",
      "True: 2, Predicted: 4, Tweet: 12 Gift Ideas For The Apple Lover Who Has Everything /0RTcyLOsAD  #technology\n",
      "True: 2, Predicted: 4, Tweet: New blog post: Harvard Versus Stanford - Who Wins? http://bit.ly/MCoCo\n",
      "True: 4, Predicted: 0, Tweet: Ok, first assesment of the #kindle2 ...it fucking rocks!!!\n",
      "True: 2, Predicted: 4, Tweet: RT @WaterSISWEB: CA Merced's water bottled by Safeway, resold at a profit: Wells are drying up across the county http://tinyurl.com/mb573s\n",
      "True: 2, Predicted: 0, Tweet:   we don't have much data on IND balls, but likely started at higher PSI / lower tmp than pats balls. #DeflateGate\n",
      "True: 4, Predicted: 0, Tweet: Fine-tuning part of a song Maddy and I r making.  Sounding good. I feel pro. Not. Hahaha\n",
      "True: 2, Predicted: 4, Tweet: playing with cURL and the Twitter API\n",
      "True: 2, Predicted: 4, Tweet:  Hi guys checking in US/AA 639 JFK PHX and renewed Admirals Club today.\n",
      "True: 2, Predicted: 4, Tweet: Missed this insight-filled May column: One smart guy looking closely at why he's impressed with Kindle2 http://bit.ly/i0peY @wroush\n",
      "True: 4, Predicted: 2, Tweet: um, can i have it tmrrw? â€œ@engadget: Would you buy a self-driving car powered by @Google?\" http://t.co/Dk0YZSeaXK http://t.co/2pkm4y61z6â€\n",
      "True: 2, Predicted: 0, Tweet: What's Buffet Doing? Warren Buffett Kicks Butt In Battle of the Boots: Posted By:Alex Crippe.. http://bit.ly/AUIzO\n",
      "True: 2, Predicted: 4, Tweet:  thanks bae\n",
      "True: 2, Predicted: 0, Tweet:  will you check the air pressure on  truck. I think his tires might need some air. #DeflateGate #GOBRONCOS #LSULSU\n",
      "True: 2, Predicted: 0, Tweet:   I made a #DeflateGate Sad Einstein Brady for you: /Vh80XLd7az\n",
      "True: 2, Predicted: 0, Tweet: How is an automated vehicle supposed to behave in an emergency? #AutoAuto\n",
      "True: 0, Predicted: 4, Tweet: looks like summize has gone down. too many tweets from WWDC perhaps?\n",
      "True: 2, Predicted: 4, Tweet: I'm going to bed. It was a successful weekend. Stanford, here I come.\n",
      "True: 2, Predicted: 4, Tweet: Great post by  on how public investors should think about investing in a world with self driving cars /FphlmnKtp7\n",
      "True: 2, Predicted: 0, Tweet: Should really check the air pressure in my tires more often. They were as bad as a New England #Patriots football. #DeflateGate\n",
      "True: 0, Predicted: 2, Tweet: Time Warner Cable slogan: Where calling it a day at 2pm Happens.\n",
      "True: 0, Predicted: 2, Tweet: @broskiii OH SNAP YOU WORK AT AT&amp;T DON'T YOU\n",
      "True: 0, Predicted: 4, Tweet: omg so bored &amp; my tattoooos are so itchy!!  help! aha =)\n",
      "True: 0, Predicted: 4, Tweet: @petewentz @trohman @fuckcity omg i'm so so sorry guys  that's really sad. I hope you're safe now.\n",
      "True: 4, Predicted: 0, Tweet: Automotive technology: Driver-less cars will reduce accidents, ease congestion.\n",
      "True: 4, Predicted: 2, Tweet: @Pmillzz lebron IS THE BOSS\n",
      "True: 2, Predicted: 4, Tweet: need suggestions for a good IR filter for my canon 40D ... got some? pls DM\n",
      "True: 2, Predicted: 4, Tweet: Hi there, does anyone have a great source for advice on viral marketing?... http://link.gs/YtZ8\n",
      "True: 0, Predicted: 2, Tweet: 100% against  driverless car. #cbs\n",
      "True: 0, Predicted: 4, Tweet: @littleben2009 no way would I put my trust in a driverless car. That's were they would lose people.\n",
      "True: 2, Predicted: 4, Tweet: NFL plz focus as intently on id-ing \"Who Let The Air Out\" of Patriots balls as in forcing SeaHawks #MarshawnLynch to talk.\n",
      "#DeflateGate\n",
      "True: 2, Predicted: 4, Tweet: 10 tips for healthy eating ? ResultsBy Fitness Blog :: Fitness ... http://bit.ly/62gFn\n",
      "True: 0, Predicted: 2, Tweet: @kyleconnecticut no fucking way. \n",
      "True: 4, Predicted: 0, Tweet: @uscsports21 LeBron is a monsta and he is only 24. SMH The world ain't ready.\n",
      "True: 0, Predicted: 4, Tweet: Son has me looking at cars online.  I hate car shopping.  Would rather go to the dentist!  Anyone with a good car at a good price to sell?\n",
      "True: 0, Predicted: 2, Tweet: @ Safeway. Place is a nightmare right now. Bumming.\n",
      "True: 4, Predicted: 2, Tweet: Off to the NIKE factory!!!\n",
      "True: 0, Predicted: 4, Tweet: @sekseemess no. I'm not itchy for now. Maybe later, lol.\n",
      "True: 4, Predicted: 2, Tweet: Saw the Google Car again. Asked if I could drive. The driver showed me how the car can \"see\". Awesomeâ€¦ http://t.co/HTuaMykMsy\n",
      "True: 4, Predicted: 2, Tweet: Could go for a lot of McDonalds. i mean A LOT.\n",
      "True: 4, Predicted: 2, Tweet: LAKERS tonight let's go!!!!\n",
      "True: 2, Predicted: 4, Tweet: Cardinals baseball advance to Super Regionals. Face CS-Fullerton Friday.\n",
      "True: 2, Predicted: 4, Tweet: : This was pretty funny thanks Dad #DeflateGate #GoPats /ppQC7hQ0UT\n",
      "True: 2, Predicted: 4, Tweet: ok.. do nothing.. just thinking about 40D\n",
      "True: 0, Predicted: 2, Tweet: OMG - time warner f'ed up my internet install - instead of today  its now NEXT saturday - another week w/o internet! &amp;$*ehfa^V9fhg[*# fml.\n",
      "True: 4, Predicted: 2, Tweet: The Times of India: The wonder that is India's election. http://bit.ly/p7u1H\n",
      "True: 0, Predicted: 4, Tweet: @united is there a United gold number? I've been on hold 24 minutes and think I may be lost in nowhereland. Have a gold reservation. Help.\n",
      "True: 2, Predicted: 0, Tweet: @mattcutts have google profiles stopped showing up in searches? cant see them anymore\n",
      "True: 4, Predicted: 2, Tweet: These self driving cars are fucking amazing\n",
      "True: 0, Predicted: 4, Tweet: itchy back!! dont ya hate it!\n",
      "True: 2, Predicted: 4, Tweet: I keep seeing a lot of people talk about seeing the Google maps car and I'm just like oh I've seen the Google self-driving car so ðŸ’ðŸš˜\n",
      "True: 0, Predicted: 2, Tweet: I just realized we three monkeys in the white Obama.Biden,Pelosi . Sarah Palin 2012\n",
      "True: 2, Predicted: 0, Tweet: Weird Piano Guitar House in China! http://u2s.me/72i8\n",
      "True: 2, Predicted: 4, Tweet:  What confirmation number?\n",
      "True: 0, Predicted: 2, Tweet: Boarding plane for San Francisco in 1 hour; 6 hr flight. Blech.\n",
      "True: 4, Predicted: 2, Tweet: @united @parryaftab done thnx\n",
      "True: 2, Predicted: 4, Tweet: I think I may have a new favorite restaurant. On our way to see \"Night at the Museum 2\".\n",
      "True: 4, Predicted: 2, Tweet: I can't wait, going to see star trek tonight!!\n",
      "True: 0, Predicted: 4, Tweet: Driverless Cars: Now Street-Legal in California ... a good reason to leave CA... no one is behind the wheel http://t.co/1keEMOpH\n",
      "True: 4, Predicted: 2, Tweet: After using LaTeX a lot, any other typeset mathematics just looks hideous.\n",
      "True: 0, Predicted: 4, Tweet: Today is a good day to dislike AT&amp;T. Vote out of office indeed, @danielpunkass\n",
      "True: 0, Predicted: 4, Tweet: Thanks for share. Driverless cars won't make us thinner, healthier, happier â€œ@transitfok: Driverless cars and sprawl http://t.co/q6OI1IfwLhâ€\n",
      "True: 0, Predicted: 2, Tweet: Sadie hates the google car. ðŸ˜‚\n",
      "True: 4, Predicted: 2, Tweet: House Correspondents dinner was last night whoopi, barbara &amp; sherri went, Obama got a standing ovation\n",
      "True: 2, Predicted: 0, Tweet: Slight delay, something to do with the basketball... #DeflateGate?\n",
      "True: 2, Predicted: 4, Tweet: I'd like to hear what  thinks about Tom Brady's saggy balls #DeflateGate\n",
      "True: 0, Predicted: 4, Tweet: @ludajuice Lebron is a Beast, but I'm still cheering 4 the A..til the end.\n",
      "True: 0, Predicted: 4, Tweet: Colin Powell rocked yesterday on CBS. Cheney needs to shut the hell up and go home.Powell is a man of Honor and served our country proudly\n",
      "True: 0, Predicted: 4, Tweet: @united been on the phone for over an hour with customer service and they can't figure it out! awesome service... NOT!\n",
      "True: 0, Predicted: 4, Tweet: Man I kinda dislike Apple right now. Case in point: the iPhone 3GS. Wish there was a video recorder app. Please?? http://bit.ly/DZm1T\n",
      "True: 0, Predicted: 2, Tweet: Google developing a driverless car??? da facckk?!\n",
      "True: 0, Predicted: 4, Tweet: Good morning at work  don't wanna be there fuckit another day another dollar!!!\n",
      "True: 2, Predicted: 4, Tweet: Soooooooooo has everyone learned everything the EVAH wanted to know about FB players &amp; their balls? Have you? #DEFLATEGATE\n",
      "True: 0, Predicted: 2, Tweet: RT @sportsguy33: New Time Warner slogan: \"Time Warner, where we make you long for the days before cable.\"\n",
      "True: 0, Predicted: 4, Tweet: fuck omg  austins always there though man &lt;3 love you\n",
      "True: 0, Predicted: 2, Tweet: Google driver-less car is not viable , insurance companies would have no part of it.\n",
      "True: 0, Predicted: 2, Tweet: Cheney and Bush are the real culprits - http://fwix.com/article/939496\n",
      "True: 0, Predicted: 2, Tweet: Oooooooh... North Korea is in troubleeeee! http://bit.ly/19epAH\n",
      "True: 2, Predicted: 4, Tweet: Google Tested The Safety Of Its Self-Driving Cars By Swarming Them With Bikes /2dxztZTqSs\n",
      "True: 2, Predicted: 0, Tweet:  do you sell open tickets? I have a sick relative and may have to travel at a moments notice. Sad but true.\n",
      "True: 0, Predicted: 4, Tweet: @united  gate agent at EWR \" if you are disabled or in a wheel chair, it's time to board, please step\". STEP UP??? Lol\n",
      "True: 2, Predicted: 0, Tweet: Am I the only one who thought #DeflateGate was about a bad shipment of Viagra? :)\n",
      "True: 2, Predicted: 4, Tweet: : In honor of #DeflateGate, we are having a sale on things that are supposed to be flat! /1…\n",
      "True: 4, Predicted: 2, Tweet: @Croconaw goodnight \n",
      "True: 2, Predicted: 0, Tweet:   taking the air out of the membership costs?.. heh.. #DeflateGate #IcanDoItToo\n",
      "True: 0, Predicted: 4, Tweet: Monday already. Iran may implode. Kitchen is a disaster. @annagoss seems happy. @sebulous had a nice weekend and @goldpanda is great. whoop.\n",
      "True: 2, Predicted: 4, Tweet:  Does  not take fraud as seriously?\n",
      "True: 0, Predicted: 4, Tweet: @smiIingbarakat @Apple YEAH APPLE UR SLACKIN\n",
      "True: 0, Predicted: 4, Tweet: The safeway bathroom still smells like ass!\n",
      "True: 0, Predicted: 4, Tweet: Wat the heck is North Korea doing!!??!! They just conducted powerful nuclear tests! Follow the link: http://www.msnbc.msn.com/id/30921379\n",
      "True: 0, Predicted: 4, Tweet: Gooood mooorning world. I had a dream last night I fucked my knee again  Def need to kick start my strengthening ready for Bournemouth 7s!\n",
      "True: 4, Predicted: 2, Tweet: I need the self-driving car of Google ðŸ˜©\n",
      "True: 0, Predicted: 4, Tweet: I am such a fucking failtastic IRL friend. \n",
      "True: 2, Predicted: 4, Tweet: just started playing Major League Baseball 2K9. http://raptr.com/H3LLGWAR\n",
      "True: 4, Predicted: 2, Tweet: @united Give Cyndi &amp; Troy each a gold star.\n",
      "True: 2, Predicted: 0, Tweet:   Not blaming Jet Blue.  This wasn't weather. Can't have planes in the air and runways a mess. That's a disaster waiting to happen.\n",
      "True: 0, Predicted: 4, Tweet: Driverless cars?!! Wth!i honestly don't think that's a good idea..\n",
      "True: 4, Predicted: 2, Tweet: zomg!!! I have a G2!!!!!!!\n",
      "True: 0, Predicted: 2, Tweet: Listening to Obama... Friggin North Korea...\n",
      "True: 2, Predicted: 4, Tweet:     wonder what their plans are for the Super Bowl? Deflated balls are trademark. #DeflateGate\n",
      "True: 4, Predicted: 2, Tweet: I JUST SAW A SELF-DRIVING GOOGLE CAR HOW AWSOMMEE!!\n",
      "True: 2, Predicted: 4, Tweet: Self-driving cars could be a decade away: A number of carmakers, with Nissan being the latest, claim that they... /DwF33TJMuN\n",
      "True: 0, Predicted: 4, Tweet: @zampeachie @Farscale To answer both of you: I studied for FOUR hours before the exam and I'm pretty sure I still fucked it \n",
      "True: 0, Predicted: 4, Tweet: @cnni Driverless truck?! Perfect 'car (((Bomb))). I'll take 2 4 AIPC rats nest in Hymie town &amp; DC.\n",
      "True: 2, Predicted: 4, Tweet:  I would love to Fort Lauderdale now that would cool.\n",
      "True: 0, Predicted: 4, Tweet: @Apple, For the love of GAWD, CENTER the '1'on the damn calendar app. You fixed it once, its back, off center, AGAIN! http://t.co/dMyAHEm1Lc\n",
      "True: 4, Predicted: 2, Tweet: @ work til 6pm... lets go lakers!!!\n",
      "True: 2, Predicted: 4, Tweet: #jobs #sittercity Help with taking care of sick child (East Palo Alto, CA) http://tinyurl.com/qwrr2m\n",
      "True: 0, Predicted: 4, Tweet: LEbron james got in a car accident i guess..just heard it on evening news...wow i cant believe it..will he be ok ? http://twtad.com/69750\n",
      "True: 2, Predicted: 4, Tweet: Time Warner CEO hints at online fees for magazines      (AP) - Read from Mountain View,United States. Views 16209 http://bit.ly/UdFCH\n",
      "True: 4, Predicted: 2, Tweet: In montreal for a long weekend of R&amp;R. Much needed.\n",
      "True: 0, Predicted: 4, Tweet: love u dane cook, u funny fuck!    party time for my lil sister well not so little anymore now 14!  how sad they grow up so fast\n",
      "True: 0, Predicted: 2, Tweet: I Will NEVER Buy a Government Motors Vehicle: Until just recently, I drove GM cars. Since 1988, when I bought a .. http://tinyurl.com/lulsw8\n",
      "True: 4, Predicted: 2, Tweet: Will the Lakers kick the Nuggets ass tonight?\n",
      "True: 0, Predicted: 4, Tweet: Ok, @apple. You win. I won't use your browser anymore since it keeps closing on me. Literally 8 times today. I counted.\n",
      "True: 2, Predicted: 4, Tweet: Dentist tomorrow. Have to brush well in the morning. Like I make my hair all nice before I get it cut. Why?\n",
      "True: 4, Predicted: 0, Tweet: Booz Allen Hamilton has a bad ass homegrown social collaboration platform. Way cool!  #ttiv\n",
      "True: 2, Predicted: 4, Tweet: NCAA Baseball Super Regional - Rams Club http://bit.ly/Ro7nx\n",
      "True: 0, Predicted: 2, Tweet: ps just broke my fucking phone \n",
      "True: 4, Predicted: 0, Tweet: I seriously underestimated Malcolm Gladwell.  I want to meet this dude.\n",
      "True: 0, Predicted: 4, Tweet: @StreetWearBear.  yes I am thanks for reaveling to the world bro fuck my life hahaha\n",
      "True: 2, Predicted: 4, Tweet: Launched! http://imgsearch.net  #imgsearch #ajax #jquery #webapp\n",
      "True: 2, Predicted: 4, Tweet: Amazon making self driving cars in 2017 to deliver packages? #drone\n",
      "True: 2, Predicted: 0, Tweet:  A month ago I had a flight booked but then had to Cancelled Flight it... I'm now Flight Booking Problems a separate flight for a different occasion.\n",
      "True: 2, Predicted: 4, Tweet:  So just like when Claritin went over the counter it isn't covered by any prescription drug plans anymore?\n",
      "True: 4, Predicted: 2, Tweet: @united took this picture on Thursday. #awesome http://t.co/IVGpZSjtkW\n",
      "True: 0, Predicted: 4, Tweet: I would rather pay reasonable yearly taxes for \"free\" fast internet, than get gouged by Time Warner for a slow connection.\n",
      "True: 2, Predicted: 0, Tweet: dropped her broccoli walking home from safeway! ;( so depressed\n",
      "True: 0, Predicted: 2, Tweet: @QuantTrader i own a GM car and it is junk as far as quality compared to a honda\n",
      "True: 2, Predicted: 4, Tweet:  - nice segment on the Google car.  Interesting how ideas like this could disrupt the Insurance Industry.     /571XAf3w5R\n",
      "True: 2, Predicted: 0, Tweet: :-/ : Google forced to add steering wheels to driverless car designs:  /m1PYOJ1V5S\n",
      "True: 4, Predicted: 0, Tweet: @ryanchris I drive hundreds of miles a week. Bring on the driverless car. Canâ€™t wait to stop driving.\n",
      "True: 0, Predicted: 4, Tweet: @sheridanmarfil - its not so much my obsession with cell phones, but the iphone!  i'm a slave to at&amp;t forever because of it. :)\n",
      "True: 2, Predicted: 4, Tweet: @johncmayer is Bobby Flay joining you?\n",
      "True: 0, Predicted: 4, Tweet: @xambix wow, welcome home eh  that's well shit, especially just coming back off holiday!!! Some fucking people!\n",
      "True: 4, Predicted: 2, Tweet: First ride in a Google self-driving car. Amaaaazing @ComputerHistory\n",
      "True: 0, Predicted: 4, Tweet: shud be sleeping but cant! im guna be so fucked and grumpy for this 6am flight!  but hey... im going on holiday so good times!\n",
      "True: 4, Predicted: 2, Tweet: When the first mass-produced self-driving car hits the market you can bet your ass I'm buying one.\n",
      "True: 0, Predicted: 2, Tweet: MT Exactly! â€œ@OssyFont: #ScareTactic 1st child hit by driverless car? How about fewer children hit by drivers today? #RiseOfTheMachinesâ€\n",
      "True: 4, Predicted: 0, Tweet: good news, just had a call from the Visa office, saying everything is fine.....what a relief! I am sick of scams out there! Stealing!\n",
      "True: 0, Predicted: 4, Tweet: I just created my first LaTeX file from scratch. That didn't work out very well. (See @amandabittner , it's a great time waster)\n",
      "True: 4, Predicted: 0, Tweet: Malcolm Gladwell might be my new man crush\n",
      "True: 2, Predicted: 0, Tweet: Conflict in auto tech race? Google, Detroit diverge on road map for self-driving cars: /v020sXRGps\n",
      "True: 0, Predicted: 4, Tweet: so the clown suits were a waste of money... but a good night anyway  except im fucking broke \n",
      "True: 0, Predicted: 4, Tweet: @siratomofbones we tried but Time Warner wasn't being nice so we recorded today. :)\n",
      "True: 2, Predicted: 4, Tweet: Phillies Driving in the Cadillac with the Top Down in Cali, Win 5-3 - http://tinyurl.com/nzcjqa\n",
      "True: 0, Predicted: 4, Tweet: @drgitlin yes, I just meant in the sense that people on it aren't driving. We don't need f'n driverless passenger cars.\n",
      "True: 2, Predicted: 0, Tweet: RT @justindavey: RT @tweetmeme GM OnStar now instantly sends accident location coordinates to 911 | GPS Obsessed http://bit.ly/16szL1\n",
      "True: 0, Predicted: 4, Tweet: \"Driver-less cars could be potentially lethal\" - news ticker.   Yeah I mean I would think so too...\n",
      "True: 2, Predicted: 4, Tweet: @pambeeslyjenna Jenna, I went to see Night At The Museum 2 today and I was so surprised to see three cast members from The Office...\n",
      "True: 0, Predicted: 4, Tweet: Impatiently awaiting the arrival of the time warner guy. It's way too pretty to be inside all afternoon\n",
      "True: 0, Predicted: 4, Tweet: Good. I still won't even do self check-out RT @techreview Driverless Cars Are Further Away Than You Think http://t.co/3bIsL2mK7s\n",
      "True: 0, Predicted: 4, Tweet: @jdreiss oh yes but if GM dies it will only be worth more boo hahaha\n",
      "True: 2, Predicted: 4, Tweet: Whatever happens, please DO NOT alter football valves to include those little electronic sensors like I have in my car tires! #DeflateGate\n",
      "True: 0, Predicted: 4, Tweet: No signal in the academy  papa roach fuckin owned! Had to escape the pit before CMB moment lol\n",
      "True: 0, Predicted: 4, Tweet: @MMBarnhill yay, glad you got the phone! Still, damn you, AT&amp;T.\n",
      "True: 0, Predicted: 4, Tweet: ?Obama Administration Must Stop Bonuses to AIG Ponzi Schemers ... http://bit.ly/2CUIg\n",
      "True: 2, Predicted: 4, Tweet: Climate focus turns to Beijing: The United Nations, the US and European governments have called on China to co-o.. http://tinyurl.com/lto92n\n",
      "True: 2, Predicted: 0, Tweet: Investigation pending on death of Stanford CS prof / Google mentor Rajeev Motwani http://bit.ly/LwOUR tip @techmeme\n",
      "True: 2, Predicted: 4, Tweet:  like continental's chicken feat fairs\n",
      "True: 4, Predicted: 2, Tweet: @wordwhizkid Lebron is a beast... nobody in the NBA comes even close.\n",
      "True: 0, Predicted: 2, Tweet: #WFTB Joining a bit late. My connection was down (boo time warner)\n",
      "True: 4, Predicted: 2, Tweet: @deepbluesealove I was never an early morning person so I really didnt have anything to get over \n",
      "True: 0, Predicted: 4, Tweet: Kobe is the best in the world not lebron .\n",
      "True: 0, Predicted: 4, Tweet: @yayfuckbuddies haha I would but you won't \n",
      "True: 0, Predicted: 4, Tweet: Oh yay...I can't wait to get rear ended by one of Google's driverless cars.....who will I sue???? http://t.co/glUJ68aD0J\n",
      "True: 2, Predicted: 4, Tweet: @Plip Where did you read about tethering support Phil?  Just AT&amp;T or will O2 be joining in?\n",
      "True: 4, Predicted: 0, Tweet: goodnight all &lt;3 goin to bed gotta get up early and get the fuck out of town tomorrow  canada here  I come\n",
      "True: 2, Predicted: 4, Tweet: I'm truly braindead.  I couldn't come up with Warren Buffet's name to save my soul\n",
      "True: 0, Predicted: 4, Tweet: Although today's keynote rocked, for every great announcement, AT&amp;T shit on us just a little bit more.\n",
      "True: 0, Predicted: 4, Tweet: @united looks like today will be my 6th consecutive delayed flight from you...do I win a prize??? @Southwest Air why don't you fly to SBA? 😭\n",
      "True: 0, Predicted: 4, Tweet: @Fraggle312 oh those are awesome! i so wish they weren't owned by nike :(\n",
      "True: 0, Predicted: 2, Tweet: obviously not siding with Cheney here: http://bit.ly/19j2d\n",
      "True: 4, Predicted: 2, Tweet: I'm moving to East Palo Alto!\n",
      "True: 0, Predicted: 4, Tweet: Night at the Museum tonite instead of UP. :( oh well. that 4 yr old better enjoy it. LOL\n",
      "True: 2, Predicted: 0, Tweet: Share: Disruption...Fred Wilson's slides for his talk at Google HQ  http://bit.ly/Bo8PG\n",
      "True: 4, Predicted: 2, Tweet: reading on my new Kindle2!\n",
      "True: 0, Predicted: 4, Tweet: Fuzzball is more fun than AT&amp;T ;P http://fuzz-ball.com/twitter\n",
      "True: 0, Predicted: 4, Tweet: dearest @google, you rich bastards! the VISA card you sent me doesn't work. why screw a little guy like me?\n",
      "True: 2, Predicted: 4, Tweet: I just extracted and open-sourced a jQuery plugin from Stormweight to highlight text with a regular expression: http://bit.ly/ybJKb\n",
      "True: 2, Predicted: 0, Tweet: :   Obama works as Patriots ball boy. Nothing he loves more than deflating a Patriots balls. #De…\n",
      "True: 2, Predicted: 0, Tweet: jQuery Cheat Sheet http://www.javascripttoolbox.com/jquery/cheatsheet/\n",
      "True: 0, Predicted: 4, Tweet: @apple Contact sync between Yosemite and iOS8 is seriously screwed up. It used to be much more stable in the past. #icloud #isync\n",
      "True: 2, Predicted: 4, Tweet: All-Star Basketball Classic Tuesday Features Top Talent: Chattanooga's Notre Dame High School will play host.. http://bit.ly/qltJA\n",
      "True: 0, Predicted: 4, Tweet: I'm going to press the play button!! Wait no I'm not :( @apple fix your apps http://t.co/eteewIIjrO\n",
      "True: 2, Predicted: 0, Tweet:  Just left #LaGuardia now...#Sunshine in a little over 2 hours\n",
      "True: 2, Predicted: 4, Tweet: @surfit: I just checked my google for my business- blip shows up as the second entry! Huh. Is that a good or ba... ? http://blip.fm/~6emhv\n",
      "True: 4, Predicted: 2, Tweet: @Rebecca1158 goodnight. \n",
      "True: 0, Predicted: 4, Tweet: I'm hungry and I want IHOP now!  Bullfuck!\n",
      "True: 2, Predicted: 4, Tweet: And then there was the time  discovered the potential value of self-driving cars: /CReH1CGZYV\n",
      "True: 2, Predicted: 0, Tweet:  unfortunately not. I think I watched it take off from the bus. Rebooked for a Late Flightr flight now #planestrainsandautomobiles\n",
      "True: 2, Predicted: 4, Tweet: Just saw the new Night at the Museum movie...it was...okay...lol 7\\10\n",
      "True: 0, Predicted: 4, Tweet: Algebra homework. On a Saturday, whatta great fucking day. Someone entertain me. PLEASE. \n",
      "True: 4, Predicted: 0, Tweet: @spinuzzi: Has been a bit crazy, with steep learning curve, but LyX is really good for long docs. For anything shorter, it would be insane.\n",
      "True: 0, Predicted: 4, Tweet: The day I never have to deal with Comcast again will rank as one of the best days of my life.\n",
      "202\n"
     ]
    }
   ],
   "source": [
    "num_wrong_predictions = 0\n",
    "\n",
    "for idx in range(len(polarities)):\n",
    "    true_polarity = polarities[idx]\n",
    "    pred_polarity = calculated_polarities[idx]\n",
    "    if true_polarity != pred_polarity:\n",
    "        num_wrong_predictions += 1\n",
    "        print (\"True: {}, Predicted: {}, Tweet: {}\".format(true_polarity, pred_polarity, tweets[idx]))\n",
    "        \n",
    "print (num_wrong_predictions)"
   ]
  },
  {
   "cell_type": "code",
   "execution_count": null,
   "metadata": {},
   "outputs": [],
   "source": []
  }
 ],
 "metadata": {
  "anaconda-cloud": {},
  "kernelspec": {
   "display_name": "Python 3",
   "language": "python",
   "name": "python3"
  },
  "language_info": {
   "codemirror_mode": {
    "name": "ipython",
    "version": 3
   },
   "file_extension": ".py",
   "mimetype": "text/x-python",
   "name": "python",
   "nbconvert_exporter": "python",
   "pygments_lexer": "ipython3",
   "version": "3.5.2"
  }
 },
 "nbformat": 4,
 "nbformat_minor": 1
}
