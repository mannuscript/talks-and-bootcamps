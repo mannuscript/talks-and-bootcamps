{
 "cells": [
  {
   "cell_type": "code",
   "execution_count": 1,
   "metadata": {},
   "outputs": [
    {
     "ename": "ImportError",
     "evalue": "No module named 'keras'",
     "output_type": "error",
     "traceback": [
      "\u001b[0;31m---------------------------------------------------------------------------\u001b[0m",
      "\u001b[0;31mImportError\u001b[0m                               Traceback (most recent call last)",
      "\u001b[0;32m<ipython-input-1-8f5001c17809>\u001b[0m in \u001b[0;36m<module>\u001b[0;34m()\u001b[0m\n\u001b[1;32m      4\u001b[0m \u001b[0;32mimport\u001b[0m \u001b[0mcsv\u001b[0m\u001b[0;34m\u001b[0m\u001b[0m\n\u001b[1;32m      5\u001b[0m \u001b[0;34m\u001b[0m\u001b[0m\n\u001b[0;32m----> 6\u001b[0;31m \u001b[0;32mfrom\u001b[0m \u001b[0mkeras\u001b[0m\u001b[0;34m.\u001b[0m\u001b[0mpreprocessing\u001b[0m\u001b[0;34m.\u001b[0m\u001b[0mtext\u001b[0m \u001b[0;32mimport\u001b[0m \u001b[0mTokenizer\u001b[0m\u001b[0;34m\u001b[0m\u001b[0m\n\u001b[0m\u001b[1;32m      7\u001b[0m \u001b[0;32mfrom\u001b[0m \u001b[0mkeras\u001b[0m\u001b[0;34m.\u001b[0m\u001b[0mpreprocessing\u001b[0m\u001b[0;34m.\u001b[0m\u001b[0msequence\u001b[0m \u001b[0;32mimport\u001b[0m \u001b[0mpad_sequences\u001b[0m\u001b[0;34m\u001b[0m\u001b[0m\n\u001b[1;32m      8\u001b[0m \u001b[0;32mfrom\u001b[0m \u001b[0mkeras\u001b[0m\u001b[0;34m.\u001b[0m\u001b[0mmodels\u001b[0m \u001b[0;32mimport\u001b[0m \u001b[0mSequential\u001b[0m\u001b[0;34m\u001b[0m\u001b[0m\n",
      "\u001b[0;31mImportError\u001b[0m: No module named 'keras'"
     ]
    }
   ],
   "source": [
    "import os\n",
    "import numpy as np\n",
    "import pandas as pd\n",
    "import csv\n",
    "\n",
    "from keras.preprocessing.text import Tokenizer\n",
    "from keras.preprocessing.sequence import pad_sequences\n",
    "from keras.models import Sequential\n",
    "from keras.layers import Dense, Activation, LSTM, Embedding, Dropout, Bidirectional\n",
    "\n",
    "from sklearn.preprocessing import LabelBinarizer\n",
    "\n",
    "# The next imports are only needed for the preprocessing\n",
    "from nltk.tokenize import TweetTokenizer\n",
    "from nltk.stem import WordNetLemmatizer\n",
    "from utils.nlputil import preprocess_text"
   ]
  },
  {
   "cell_type": "code",
   "execution_count": 2,
   "metadata": {},
   "outputs": [
    {
     "ename": "NameError",
     "evalue": "name 'TweetTokenizer' is not defined",
     "output_type": "error",
     "traceback": [
      "\u001b[0;31m---------------------------------------------------------------------------\u001b[0m",
      "\u001b[0;31mNameError\u001b[0m                                 Traceback (most recent call last)",
      "\u001b[0;32m<ipython-input-2-47947e5a0b64>\u001b[0m in \u001b[0;36m<module>\u001b[0;34m()\u001b[0m\n\u001b[0;32m----> 1\u001b[0;31m \u001b[0mtweet_tokenizer\u001b[0m \u001b[0;34m=\u001b[0m \u001b[0mTweetTokenizer\u001b[0m\u001b[0;34m(\u001b[0m\u001b[0;34m)\u001b[0m\u001b[0;34m\u001b[0m\u001b[0m\n\u001b[0m\u001b[1;32m      2\u001b[0m \u001b[0mwordnet_lemmatizer\u001b[0m \u001b[0;34m=\u001b[0m \u001b[0mWordNetLemmatizer\u001b[0m\u001b[0;34m(\u001b[0m\u001b[0;34m)\u001b[0m\u001b[0;34m\u001b[0m\u001b[0m\n",
      "\u001b[0;31mNameError\u001b[0m: name 'TweetTokenizer' is not defined"
     ]
    }
   ],
   "source": [
    "tweet_tokenizer = TweetTokenizer()\n",
    "wordnet_lemmatizer = WordNetLemmatizer()"
   ]
  },
  {
   "cell_type": "code",
   "execution_count": 3,
   "metadata": {},
   "outputs": [],
   "source": [
    "NUM_LABELS = 3\n",
    "MAX_WORDS = 1000\n",
    "EMBEDDING_DIM = 50\n",
    "LSTM_HIDDEN_DIM = 32"
   ]
  },
  {
   "cell_type": "code",
   "execution_count": 4,
   "metadata": {},
   "outputs": [
    {
     "data": {
      "text/html": [
       "<div>\n",
       "<table border=\"1\" class=\"dataframe\">\n",
       "  <thead>\n",
       "    <tr style=\"text-align: right;\">\n",
       "      <th></th>\n",
       "      <th>tweet</th>\n",
       "      <th>senti</th>\n",
       "    </tr>\n",
       "  </thead>\n",
       "  <tbody>\n",
       "    <tr>\n",
       "      <th>0</th>\n",
       "      <td>@united UA5396 can wait for me. I'm on the gro...</td>\n",
       "      <td>0</td>\n",
       "    </tr>\n",
       "    <tr>\n",
       "      <th>1</th>\n",
       "      <td>I hate Time Warner! Soooo wish I had Vios. Can...</td>\n",
       "      <td>0</td>\n",
       "    </tr>\n",
       "    <tr>\n",
       "      <th>2</th>\n",
       "      <td>Tom Shanahan's latest column on SDSU and its N...</td>\n",
       "      <td>2</td>\n",
       "    </tr>\n",
       "    <tr>\n",
       "      <th>3</th>\n",
       "      <td>Found the self driving car!! /IWo3QSvdu2</td>\n",
       "      <td>2</td>\n",
       "    </tr>\n",
       "    <tr>\n",
       "      <th>4</th>\n",
       "      <td>@united arrived in YYZ to take our flight to T...</td>\n",
       "      <td>0</td>\n",
       "    </tr>\n",
       "  </tbody>\n",
       "</table>\n",
       "</div>"
      ],
      "text/plain": [
       "                                               tweet  senti\n",
       "0  @united UA5396 can wait for me. I'm on the gro...      0\n",
       "1  I hate Time Warner! Soooo wish I had Vios. Can...      0\n",
       "2  Tom Shanahan's latest column on SDSU and its N...      2\n",
       "3           Found the self driving car!! /IWo3QSvdu2      2\n",
       "4  @united arrived in YYZ to take our flight to T...      0"
      ]
     },
     "execution_count": 4,
     "metadata": {},
     "output_type": "execute_result"
    }
   ],
   "source": [
    "df_tweets_train = pd.read_csv('training.csv')\n",
    "df_tweets_train.head()"
   ]
  },
  {
   "cell_type": "markdown",
   "metadata": {},
   "source": [
    "### Preprocess training and test data"
   ]
  },
  {
   "cell_type": "code",
   "execution_count": 19,
   "metadata": {},
   "outputs": [],
   "source": [
    "train_tweets = df_tweets_train['tweet']\n",
    "train_polarities = df_tweets_train['senti']\n",
    "\n",
    "train_tweets_processed = [''] * len(train_tweets)\n",
    "\n",
    "for idx, doc in enumerate(train_tweets):\n",
    "    train_tweets_processed[idx] = preprocess_text(doc, tokenizer=tweet_tokenizer, lemmatizer=wordnet_lemmatizer)"
   ]
  },
  {
   "cell_type": "code",
   "execution_count": 5,
   "metadata": {},
   "outputs": [
    {
     "ename": "FileNotFoundError",
     "evalue": "File b'test.csv' does not exist",
     "output_type": "error",
     "traceback": [
      "\u001b[0;31m---------------------------------------------------------------------------\u001b[0m",
      "\u001b[0;31mFileNotFoundError\u001b[0m                         Traceback (most recent call last)",
      "\u001b[0;32m<ipython-input-5-c07c5afcee5b>\u001b[0m in \u001b[0;36m<module>\u001b[0;34m()\u001b[0m\n\u001b[0;32m----> 1\u001b[0;31m \u001b[0mdf_tweets_test\u001b[0m \u001b[0;34m=\u001b[0m \u001b[0mpd\u001b[0m\u001b[0;34m.\u001b[0m\u001b[0mread_csv\u001b[0m\u001b[0;34m(\u001b[0m\u001b[0;34m'test.csv'\u001b[0m\u001b[0;34m)\u001b[0m\u001b[0;34m\u001b[0m\u001b[0m\n\u001b[0m\u001b[1;32m      2\u001b[0m \u001b[0;34m\u001b[0m\u001b[0m\n\u001b[1;32m      3\u001b[0m \u001b[0mtest_tweets\u001b[0m \u001b[0;34m=\u001b[0m \u001b[0mdf_tweets_test\u001b[0m\u001b[0;34m[\u001b[0m\u001b[0;34m'tweet'\u001b[0m\u001b[0;34m]\u001b[0m\u001b[0;34m\u001b[0m\u001b[0m\n\u001b[1;32m      4\u001b[0m \u001b[0mtest_polarities\u001b[0m \u001b[0;34m=\u001b[0m \u001b[0mdf_tweets_test\u001b[0m\u001b[0;34m[\u001b[0m\u001b[0;34m'senti'\u001b[0m\u001b[0;34m]\u001b[0m\u001b[0;34m\u001b[0m\u001b[0m\n\u001b[1;32m      5\u001b[0m \u001b[0;34m\u001b[0m\u001b[0m\n",
      "\u001b[0;32m~/.local/lib/python3.5/site-packages/pandas/io/parsers.py\u001b[0m in \u001b[0;36mparser_f\u001b[0;34m(filepath_or_buffer, sep, delimiter, header, names, index_col, usecols, squeeze, prefix, mangle_dupe_cols, dtype, engine, converters, true_values, false_values, skipinitialspace, skiprows, nrows, na_values, keep_default_na, na_filter, verbose, skip_blank_lines, parse_dates, infer_datetime_format, keep_date_col, date_parser, dayfirst, iterator, chunksize, compression, thousands, decimal, lineterminator, quotechar, quoting, escapechar, comment, encoding, dialect, tupleize_cols, error_bad_lines, warn_bad_lines, skipfooter, skip_footer, doublequote, delim_whitespace, as_recarray, compact_ints, use_unsigned, low_memory, buffer_lines, memory_map, float_precision)\u001b[0m\n\u001b[1;32m    644\u001b[0m                     skip_blank_lines=skip_blank_lines)\n\u001b[1;32m    645\u001b[0m \u001b[0;34m\u001b[0m\u001b[0m\n\u001b[0;32m--> 646\u001b[0;31m         \u001b[0;32mreturn\u001b[0m \u001b[0m_read\u001b[0m\u001b[0;34m(\u001b[0m\u001b[0mfilepath_or_buffer\u001b[0m\u001b[0;34m,\u001b[0m \u001b[0mkwds\u001b[0m\u001b[0;34m)\u001b[0m\u001b[0;34m\u001b[0m\u001b[0m\n\u001b[0m\u001b[1;32m    647\u001b[0m \u001b[0;34m\u001b[0m\u001b[0m\n\u001b[1;32m    648\u001b[0m     \u001b[0mparser_f\u001b[0m\u001b[0;34m.\u001b[0m\u001b[0m__name__\u001b[0m \u001b[0;34m=\u001b[0m \u001b[0mname\u001b[0m\u001b[0;34m\u001b[0m\u001b[0m\n",
      "\u001b[0;32m~/.local/lib/python3.5/site-packages/pandas/io/parsers.py\u001b[0m in \u001b[0;36m_read\u001b[0;34m(filepath_or_buffer, kwds)\u001b[0m\n\u001b[1;32m    387\u001b[0m \u001b[0;34m\u001b[0m\u001b[0m\n\u001b[1;32m    388\u001b[0m     \u001b[0;31m# Create the parser.\u001b[0m\u001b[0;34m\u001b[0m\u001b[0;34m\u001b[0m\u001b[0m\n\u001b[0;32m--> 389\u001b[0;31m     \u001b[0mparser\u001b[0m \u001b[0;34m=\u001b[0m \u001b[0mTextFileReader\u001b[0m\u001b[0;34m(\u001b[0m\u001b[0mfilepath_or_buffer\u001b[0m\u001b[0;34m,\u001b[0m \u001b[0;34m**\u001b[0m\u001b[0mkwds\u001b[0m\u001b[0;34m)\u001b[0m\u001b[0;34m\u001b[0m\u001b[0m\n\u001b[0m\u001b[1;32m    390\u001b[0m \u001b[0;34m\u001b[0m\u001b[0m\n\u001b[1;32m    391\u001b[0m     \u001b[0;32mif\u001b[0m \u001b[0;34m(\u001b[0m\u001b[0mnrows\u001b[0m \u001b[0;32mis\u001b[0m \u001b[0;32mnot\u001b[0m \u001b[0;32mNone\u001b[0m\u001b[0;34m)\u001b[0m \u001b[0;32mand\u001b[0m \u001b[0;34m(\u001b[0m\u001b[0mchunksize\u001b[0m \u001b[0;32mis\u001b[0m \u001b[0;32mnot\u001b[0m \u001b[0;32mNone\u001b[0m\u001b[0;34m)\u001b[0m\u001b[0;34m:\u001b[0m\u001b[0;34m\u001b[0m\u001b[0m\n",
      "\u001b[0;32m~/.local/lib/python3.5/site-packages/pandas/io/parsers.py\u001b[0m in \u001b[0;36m__init__\u001b[0;34m(self, f, engine, **kwds)\u001b[0m\n\u001b[1;32m    728\u001b[0m             \u001b[0mself\u001b[0m\u001b[0;34m.\u001b[0m\u001b[0moptions\u001b[0m\u001b[0;34m[\u001b[0m\u001b[0;34m'has_index_names'\u001b[0m\u001b[0;34m]\u001b[0m \u001b[0;34m=\u001b[0m \u001b[0mkwds\u001b[0m\u001b[0;34m[\u001b[0m\u001b[0;34m'has_index_names'\u001b[0m\u001b[0;34m]\u001b[0m\u001b[0;34m\u001b[0m\u001b[0m\n\u001b[1;32m    729\u001b[0m \u001b[0;34m\u001b[0m\u001b[0m\n\u001b[0;32m--> 730\u001b[0;31m         \u001b[0mself\u001b[0m\u001b[0;34m.\u001b[0m\u001b[0m_make_engine\u001b[0m\u001b[0;34m(\u001b[0m\u001b[0mself\u001b[0m\u001b[0;34m.\u001b[0m\u001b[0mengine\u001b[0m\u001b[0;34m)\u001b[0m\u001b[0;34m\u001b[0m\u001b[0m\n\u001b[0m\u001b[1;32m    731\u001b[0m \u001b[0;34m\u001b[0m\u001b[0m\n\u001b[1;32m    732\u001b[0m     \u001b[0;32mdef\u001b[0m \u001b[0mclose\u001b[0m\u001b[0;34m(\u001b[0m\u001b[0mself\u001b[0m\u001b[0;34m)\u001b[0m\u001b[0;34m:\u001b[0m\u001b[0;34m\u001b[0m\u001b[0m\n",
      "\u001b[0;32m~/.local/lib/python3.5/site-packages/pandas/io/parsers.py\u001b[0m in \u001b[0;36m_make_engine\u001b[0;34m(self, engine)\u001b[0m\n\u001b[1;32m    921\u001b[0m     \u001b[0;32mdef\u001b[0m \u001b[0m_make_engine\u001b[0m\u001b[0;34m(\u001b[0m\u001b[0mself\u001b[0m\u001b[0;34m,\u001b[0m \u001b[0mengine\u001b[0m\u001b[0;34m=\u001b[0m\u001b[0;34m'c'\u001b[0m\u001b[0;34m)\u001b[0m\u001b[0;34m:\u001b[0m\u001b[0;34m\u001b[0m\u001b[0m\n\u001b[1;32m    922\u001b[0m         \u001b[0;32mif\u001b[0m \u001b[0mengine\u001b[0m \u001b[0;34m==\u001b[0m \u001b[0;34m'c'\u001b[0m\u001b[0;34m:\u001b[0m\u001b[0;34m\u001b[0m\u001b[0m\n\u001b[0;32m--> 923\u001b[0;31m             \u001b[0mself\u001b[0m\u001b[0;34m.\u001b[0m\u001b[0m_engine\u001b[0m \u001b[0;34m=\u001b[0m \u001b[0mCParserWrapper\u001b[0m\u001b[0;34m(\u001b[0m\u001b[0mself\u001b[0m\u001b[0;34m.\u001b[0m\u001b[0mf\u001b[0m\u001b[0;34m,\u001b[0m \u001b[0;34m**\u001b[0m\u001b[0mself\u001b[0m\u001b[0;34m.\u001b[0m\u001b[0moptions\u001b[0m\u001b[0;34m)\u001b[0m\u001b[0;34m\u001b[0m\u001b[0m\n\u001b[0m\u001b[1;32m    924\u001b[0m         \u001b[0;32melse\u001b[0m\u001b[0;34m:\u001b[0m\u001b[0;34m\u001b[0m\u001b[0m\n\u001b[1;32m    925\u001b[0m             \u001b[0;32mif\u001b[0m \u001b[0mengine\u001b[0m \u001b[0;34m==\u001b[0m \u001b[0;34m'python'\u001b[0m\u001b[0;34m:\u001b[0m\u001b[0;34m\u001b[0m\u001b[0m\n",
      "\u001b[0;32m~/.local/lib/python3.5/site-packages/pandas/io/parsers.py\u001b[0m in \u001b[0;36m__init__\u001b[0;34m(self, src, **kwds)\u001b[0m\n\u001b[1;32m   1388\u001b[0m         \u001b[0mkwds\u001b[0m\u001b[0;34m[\u001b[0m\u001b[0;34m'allow_leading_cols'\u001b[0m\u001b[0;34m]\u001b[0m \u001b[0;34m=\u001b[0m \u001b[0mself\u001b[0m\u001b[0;34m.\u001b[0m\u001b[0mindex_col\u001b[0m \u001b[0;32mis\u001b[0m \u001b[0;32mnot\u001b[0m \u001b[0;32mFalse\u001b[0m\u001b[0;34m\u001b[0m\u001b[0m\n\u001b[1;32m   1389\u001b[0m \u001b[0;34m\u001b[0m\u001b[0m\n\u001b[0;32m-> 1390\u001b[0;31m         \u001b[0mself\u001b[0m\u001b[0;34m.\u001b[0m\u001b[0m_reader\u001b[0m \u001b[0;34m=\u001b[0m \u001b[0m_parser\u001b[0m\u001b[0;34m.\u001b[0m\u001b[0mTextReader\u001b[0m\u001b[0;34m(\u001b[0m\u001b[0msrc\u001b[0m\u001b[0;34m,\u001b[0m \u001b[0;34m**\u001b[0m\u001b[0mkwds\u001b[0m\u001b[0;34m)\u001b[0m\u001b[0;34m\u001b[0m\u001b[0m\n\u001b[0m\u001b[1;32m   1391\u001b[0m \u001b[0;34m\u001b[0m\u001b[0m\n\u001b[1;32m   1392\u001b[0m         \u001b[0;31m# XXX\u001b[0m\u001b[0;34m\u001b[0m\u001b[0;34m\u001b[0m\u001b[0m\n",
      "\u001b[0;32mpandas/parser.pyx\u001b[0m in \u001b[0;36mpandas.parser.TextReader.__cinit__ (pandas/parser.c:4184)\u001b[0;34m()\u001b[0m\n",
      "\u001b[0;32mpandas/parser.pyx\u001b[0m in \u001b[0;36mpandas.parser.TextReader._setup_parser_source (pandas/parser.c:8449)\u001b[0;34m()\u001b[0m\n",
      "\u001b[0;31mFileNotFoundError\u001b[0m: File b'test.csv' does not exist"
     ]
    }
   ],
   "source": [
    "df_tweets_test = pd.read_csv('test.csv')\n",
    "\n",
    "test_tweets = df_tweets_test['tweet']\n",
    "test_polarities = df_tweets_test['senti']  \n",
    "\n",
    "test_tweets_processed = [''] * len(test_tweets)\n",
    "\n",
    "for idx, doc in enumerate(test_tweets):\n",
    "    test_tweets_processed[idx] = preprocess_text(doc, tokenizer=tweet_tokenizer, lemmatizer=wordnet_lemmatizer)  "
   ]
  },
  {
   "cell_type": "markdown",
   "metadata": {},
   "source": [
    "### Prepare labels"
   ]
  },
  {
   "cell_type": "code",
   "execution_count": 21,
   "metadata": {},
   "outputs": [
    {
     "name": "stdout",
     "output_type": "stream",
     "text": [
      "[[1 0 0]\n",
      " [1 0 0]\n",
      " [1 0 0]\n",
      " [0 0 1]\n",
      " [1 0 0]\n",
      " [1 0 0]\n",
      " [0 0 1]\n",
      " [1 0 0]\n",
      " [0 0 1]\n",
      " [0 1 0]]\n"
     ]
    }
   ],
   "source": [
    "encoder = LabelBinarizer()\n",
    "encoder.fit(train_polarities)\n",
    "y_train = encoder.transform(train_polarities)\n",
    "y_test = encoder.transform(test_polarities)\n",
    "\n",
    "print(y_test[:10])"
   ]
  },
  {
   "cell_type": "code",
   "execution_count": 22,
   "metadata": {},
   "outputs": [
    {
     "name": "stdout",
     "output_type": "stream",
     "text": [
      "Maximum sequence length: 29\n"
     ]
    }
   ],
   "source": [
    "longest_train_tweet = max([len(s.split()) for s in train_tweets_processed])\n",
    "longest_test_tweet = max([len(s.split()) for s in test_tweets_processed])\n",
    "\n",
    "max_seq_len = max(longest_train_tweet, longest_test_tweet)\n",
    "\n",
    "print(\"Maximum sequence length: {}\".format(max_seq_len))"
   ]
  },
  {
   "cell_type": "code",
   "execution_count": 23,
   "metadata": {},
   "outputs": [],
   "source": [
    "tokenizer = Tokenizer(num_words=MAX_WORDS)\n",
    "tokenizer.fit_on_texts(train_tweets_processed)"
   ]
  },
  {
   "cell_type": "code",
   "execution_count": 24,
   "metadata": {},
   "outputs": [
    {
     "name": "stdout",
     "output_type": "stream",
     "text": [
      "Found 2718 unique tokens.\n"
     ]
    }
   ],
   "source": [
    "word_index = tokenizer.word_index\n",
    "print('Found %s unique tokens.' % len(word_index))"
   ]
  },
  {
   "cell_type": "code",
   "execution_count": 25,
   "metadata": {},
   "outputs": [
    {
     "name": "stdout",
     "output_type": "stream",
     "text": [
      "[4, 846, 52, 8, 506, 178, 6, 204, 344, 507, 508]\n",
      "Largest used index: 999\n"
     ]
    }
   ],
   "source": [
    "X_train = tokenizer.texts_to_sequences(train_tweets_processed)\n",
    "X_test = tokenizer.texts_to_sequences(test_tweets_processed)\n",
    "\n",
    "max_idx = max([ max(l) for l in X_train if len(l) > 0])\n",
    "\n",
    "print(X_train[0])\n",
    "print(\"Largest used index: {}\".format(max_idx)) # This should be (MAX_WORDS-1)\n"
   ]
  },
  {
   "cell_type": "code",
   "execution_count": 26,
   "metadata": {},
   "outputs": [
    {
     "name": "stdout",
     "output_type": "stream",
     "text": [
      "[  4 846  52   8 506 178   6 204 344 507 508   0   0   0   0   0   0   0\n",
      "   0   0   0   0   0   0   0   0   0   0   0]\n",
      "Sequence length: 29\n"
     ]
    }
   ],
   "source": [
    "X_train = pad_sequences(X_train, maxlen=max_seq_len, padding='post', truncating='post')\n",
    "X_test = pad_sequences(X_test, maxlen=max_seq_len, padding='post', truncating='post')\n",
    "\n",
    "print(X_train[0])\n",
    "print(\"Sequence length: {}\".format(len(X_train[0])))"
   ]
  },
  {
   "cell_type": "markdown",
   "metadata": {},
   "source": [
    "## Training the model"
   ]
  },
  {
   "cell_type": "markdown",
   "metadata": {},
   "source": [
    "### Load pretrained word embeddings (GloVe)"
   ]
  },
  {
   "cell_type": "code",
   "execution_count": 6,
   "metadata": {},
   "outputs": [
    {
     "ename": "FileNotFoundError",
     "evalue": "File b'glove.6B.50d.txt' does not exist",
     "output_type": "error",
     "traceback": [
      "\u001b[0;31m---------------------------------------------------------------------------\u001b[0m",
      "\u001b[0;31mFileNotFoundError\u001b[0m                         Traceback (most recent call last)",
      "\u001b[0;32m<ipython-input-6-78482bd828b9>\u001b[0m in \u001b[0;36m<module>\u001b[0;34m()\u001b[0m\n\u001b[0;32m----> 1\u001b[0;31m \u001b[0mdf_glove\u001b[0m \u001b[0;34m=\u001b[0m \u001b[0mpd\u001b[0m\u001b[0;34m.\u001b[0m\u001b[0mread_table\u001b[0m\u001b[0;34m(\u001b[0m\u001b[0;34m'glove.6B.50d.txt'\u001b[0m\u001b[0;34m,\u001b[0m \u001b[0msep\u001b[0m\u001b[0;34m=\u001b[0m\u001b[0;34m\" \"\u001b[0m\u001b[0;34m,\u001b[0m \u001b[0mindex_col\u001b[0m\u001b[0;34m=\u001b[0m\u001b[0;36m0\u001b[0m\u001b[0;34m,\u001b[0m \u001b[0mheader\u001b[0m\u001b[0;34m=\u001b[0m\u001b[0;32mNone\u001b[0m\u001b[0;34m,\u001b[0m \u001b[0mquoting\u001b[0m\u001b[0;34m=\u001b[0m\u001b[0mcsv\u001b[0m\u001b[0;34m.\u001b[0m\u001b[0mQUOTE_NONE\u001b[0m\u001b[0;34m)\u001b[0m\u001b[0;34m\u001b[0m\u001b[0m\n\u001b[0m\u001b[1;32m      2\u001b[0m \u001b[0;34m\u001b[0m\u001b[0m\n\u001b[1;32m      3\u001b[0m \u001b[0;31m# Print the first 5 lines\u001b[0m\u001b[0;34m\u001b[0m\u001b[0;34m\u001b[0m\u001b[0m\n\u001b[1;32m      4\u001b[0m \u001b[0mdf_glove\u001b[0m\u001b[0;34m.\u001b[0m\u001b[0mhead\u001b[0m\u001b[0;34m(\u001b[0m\u001b[0;34m)\u001b[0m\u001b[0;34m\u001b[0m\u001b[0m\n",
      "\u001b[0;32m~/.local/lib/python3.5/site-packages/pandas/io/parsers.py\u001b[0m in \u001b[0;36mparser_f\u001b[0;34m(filepath_or_buffer, sep, delimiter, header, names, index_col, usecols, squeeze, prefix, mangle_dupe_cols, dtype, engine, converters, true_values, false_values, skipinitialspace, skiprows, nrows, na_values, keep_default_na, na_filter, verbose, skip_blank_lines, parse_dates, infer_datetime_format, keep_date_col, date_parser, dayfirst, iterator, chunksize, compression, thousands, decimal, lineterminator, quotechar, quoting, escapechar, comment, encoding, dialect, tupleize_cols, error_bad_lines, warn_bad_lines, skipfooter, skip_footer, doublequote, delim_whitespace, as_recarray, compact_ints, use_unsigned, low_memory, buffer_lines, memory_map, float_precision)\u001b[0m\n\u001b[1;32m    644\u001b[0m                     skip_blank_lines=skip_blank_lines)\n\u001b[1;32m    645\u001b[0m \u001b[0;34m\u001b[0m\u001b[0m\n\u001b[0;32m--> 646\u001b[0;31m         \u001b[0;32mreturn\u001b[0m \u001b[0m_read\u001b[0m\u001b[0;34m(\u001b[0m\u001b[0mfilepath_or_buffer\u001b[0m\u001b[0;34m,\u001b[0m \u001b[0mkwds\u001b[0m\u001b[0;34m)\u001b[0m\u001b[0;34m\u001b[0m\u001b[0m\n\u001b[0m\u001b[1;32m    647\u001b[0m \u001b[0;34m\u001b[0m\u001b[0m\n\u001b[1;32m    648\u001b[0m     \u001b[0mparser_f\u001b[0m\u001b[0;34m.\u001b[0m\u001b[0m__name__\u001b[0m \u001b[0;34m=\u001b[0m \u001b[0mname\u001b[0m\u001b[0;34m\u001b[0m\u001b[0m\n",
      "\u001b[0;32m~/.local/lib/python3.5/site-packages/pandas/io/parsers.py\u001b[0m in \u001b[0;36m_read\u001b[0;34m(filepath_or_buffer, kwds)\u001b[0m\n\u001b[1;32m    387\u001b[0m \u001b[0;34m\u001b[0m\u001b[0m\n\u001b[1;32m    388\u001b[0m     \u001b[0;31m# Create the parser.\u001b[0m\u001b[0;34m\u001b[0m\u001b[0;34m\u001b[0m\u001b[0m\n\u001b[0;32m--> 389\u001b[0;31m     \u001b[0mparser\u001b[0m \u001b[0;34m=\u001b[0m \u001b[0mTextFileReader\u001b[0m\u001b[0;34m(\u001b[0m\u001b[0mfilepath_or_buffer\u001b[0m\u001b[0;34m,\u001b[0m \u001b[0;34m**\u001b[0m\u001b[0mkwds\u001b[0m\u001b[0;34m)\u001b[0m\u001b[0;34m\u001b[0m\u001b[0m\n\u001b[0m\u001b[1;32m    390\u001b[0m \u001b[0;34m\u001b[0m\u001b[0m\n\u001b[1;32m    391\u001b[0m     \u001b[0;32mif\u001b[0m \u001b[0;34m(\u001b[0m\u001b[0mnrows\u001b[0m \u001b[0;32mis\u001b[0m \u001b[0;32mnot\u001b[0m \u001b[0;32mNone\u001b[0m\u001b[0;34m)\u001b[0m \u001b[0;32mand\u001b[0m \u001b[0;34m(\u001b[0m\u001b[0mchunksize\u001b[0m \u001b[0;32mis\u001b[0m \u001b[0;32mnot\u001b[0m \u001b[0;32mNone\u001b[0m\u001b[0;34m)\u001b[0m\u001b[0;34m:\u001b[0m\u001b[0;34m\u001b[0m\u001b[0m\n",
      "\u001b[0;32m~/.local/lib/python3.5/site-packages/pandas/io/parsers.py\u001b[0m in \u001b[0;36m__init__\u001b[0;34m(self, f, engine, **kwds)\u001b[0m\n\u001b[1;32m    728\u001b[0m             \u001b[0mself\u001b[0m\u001b[0;34m.\u001b[0m\u001b[0moptions\u001b[0m\u001b[0;34m[\u001b[0m\u001b[0;34m'has_index_names'\u001b[0m\u001b[0;34m]\u001b[0m \u001b[0;34m=\u001b[0m \u001b[0mkwds\u001b[0m\u001b[0;34m[\u001b[0m\u001b[0;34m'has_index_names'\u001b[0m\u001b[0;34m]\u001b[0m\u001b[0;34m\u001b[0m\u001b[0m\n\u001b[1;32m    729\u001b[0m \u001b[0;34m\u001b[0m\u001b[0m\n\u001b[0;32m--> 730\u001b[0;31m         \u001b[0mself\u001b[0m\u001b[0;34m.\u001b[0m\u001b[0m_make_engine\u001b[0m\u001b[0;34m(\u001b[0m\u001b[0mself\u001b[0m\u001b[0;34m.\u001b[0m\u001b[0mengine\u001b[0m\u001b[0;34m)\u001b[0m\u001b[0;34m\u001b[0m\u001b[0m\n\u001b[0m\u001b[1;32m    731\u001b[0m \u001b[0;34m\u001b[0m\u001b[0m\n\u001b[1;32m    732\u001b[0m     \u001b[0;32mdef\u001b[0m \u001b[0mclose\u001b[0m\u001b[0;34m(\u001b[0m\u001b[0mself\u001b[0m\u001b[0;34m)\u001b[0m\u001b[0;34m:\u001b[0m\u001b[0;34m\u001b[0m\u001b[0m\n",
      "\u001b[0;32m~/.local/lib/python3.5/site-packages/pandas/io/parsers.py\u001b[0m in \u001b[0;36m_make_engine\u001b[0;34m(self, engine)\u001b[0m\n\u001b[1;32m    921\u001b[0m     \u001b[0;32mdef\u001b[0m \u001b[0m_make_engine\u001b[0m\u001b[0;34m(\u001b[0m\u001b[0mself\u001b[0m\u001b[0;34m,\u001b[0m \u001b[0mengine\u001b[0m\u001b[0;34m=\u001b[0m\u001b[0;34m'c'\u001b[0m\u001b[0;34m)\u001b[0m\u001b[0;34m:\u001b[0m\u001b[0;34m\u001b[0m\u001b[0m\n\u001b[1;32m    922\u001b[0m         \u001b[0;32mif\u001b[0m \u001b[0mengine\u001b[0m \u001b[0;34m==\u001b[0m \u001b[0;34m'c'\u001b[0m\u001b[0;34m:\u001b[0m\u001b[0;34m\u001b[0m\u001b[0m\n\u001b[0;32m--> 923\u001b[0;31m             \u001b[0mself\u001b[0m\u001b[0;34m.\u001b[0m\u001b[0m_engine\u001b[0m \u001b[0;34m=\u001b[0m \u001b[0mCParserWrapper\u001b[0m\u001b[0;34m(\u001b[0m\u001b[0mself\u001b[0m\u001b[0;34m.\u001b[0m\u001b[0mf\u001b[0m\u001b[0;34m,\u001b[0m \u001b[0;34m**\u001b[0m\u001b[0mself\u001b[0m\u001b[0;34m.\u001b[0m\u001b[0moptions\u001b[0m\u001b[0;34m)\u001b[0m\u001b[0;34m\u001b[0m\u001b[0m\n\u001b[0m\u001b[1;32m    924\u001b[0m         \u001b[0;32melse\u001b[0m\u001b[0;34m:\u001b[0m\u001b[0;34m\u001b[0m\u001b[0m\n\u001b[1;32m    925\u001b[0m             \u001b[0;32mif\u001b[0m \u001b[0mengine\u001b[0m \u001b[0;34m==\u001b[0m \u001b[0;34m'python'\u001b[0m\u001b[0;34m:\u001b[0m\u001b[0;34m\u001b[0m\u001b[0m\n",
      "\u001b[0;32m~/.local/lib/python3.5/site-packages/pandas/io/parsers.py\u001b[0m in \u001b[0;36m__init__\u001b[0;34m(self, src, **kwds)\u001b[0m\n\u001b[1;32m   1388\u001b[0m         \u001b[0mkwds\u001b[0m\u001b[0;34m[\u001b[0m\u001b[0;34m'allow_leading_cols'\u001b[0m\u001b[0;34m]\u001b[0m \u001b[0;34m=\u001b[0m \u001b[0mself\u001b[0m\u001b[0;34m.\u001b[0m\u001b[0mindex_col\u001b[0m \u001b[0;32mis\u001b[0m \u001b[0;32mnot\u001b[0m \u001b[0;32mFalse\u001b[0m\u001b[0;34m\u001b[0m\u001b[0m\n\u001b[1;32m   1389\u001b[0m \u001b[0;34m\u001b[0m\u001b[0m\n\u001b[0;32m-> 1390\u001b[0;31m         \u001b[0mself\u001b[0m\u001b[0;34m.\u001b[0m\u001b[0m_reader\u001b[0m \u001b[0;34m=\u001b[0m \u001b[0m_parser\u001b[0m\u001b[0;34m.\u001b[0m\u001b[0mTextReader\u001b[0m\u001b[0;34m(\u001b[0m\u001b[0msrc\u001b[0m\u001b[0;34m,\u001b[0m \u001b[0;34m**\u001b[0m\u001b[0mkwds\u001b[0m\u001b[0;34m)\u001b[0m\u001b[0;34m\u001b[0m\u001b[0m\n\u001b[0m\u001b[1;32m   1391\u001b[0m \u001b[0;34m\u001b[0m\u001b[0m\n\u001b[1;32m   1392\u001b[0m         \u001b[0;31m# XXX\u001b[0m\u001b[0;34m\u001b[0m\u001b[0;34m\u001b[0m\u001b[0m\n",
      "\u001b[0;32mpandas/parser.pyx\u001b[0m in \u001b[0;36mpandas.parser.TextReader.__cinit__ (pandas/parser.c:4184)\u001b[0;34m()\u001b[0m\n",
      "\u001b[0;32mpandas/parser.pyx\u001b[0m in \u001b[0;36mpandas.parser.TextReader._setup_parser_source (pandas/parser.c:8449)\u001b[0;34m()\u001b[0m\n",
      "\u001b[0;31mFileNotFoundError\u001b[0m: File b'glove.6B.50d.txt' does not exist"
     ]
    }
   ],
   "source": [
    "df_glove = pd.read_table('glove.6B.50d.txt', sep=\" \", index_col=0, header=None, quoting=csv.QUOTE_NONE)\n",
    "\n",
    "# Print the first 5 lines\n",
    "df_glove.head()"
   ]
  },
  {
   "cell_type": "code",
   "execution_count": 28,
   "metadata": {},
   "outputs": [
    {
     "name": "stdout",
     "output_type": "stream",
     "text": [
      "Number of words not in the pretrained set: 523\n",
      "Ratio of words not in the pretrained set: 0.19\n"
     ]
    }
   ],
   "source": [
    "oov_words = set()\n",
    "\n",
    "embedding_matrix = np.random.random((MAX_WORDS, EMBEDDING_DIM))\n",
    "for word, i in word_index.items():\n",
    "    try:\n",
    "        embedding_vector = df_glove.loc[word].as_matrix()\n",
    "        try:\n",
    "            embedding_matrix[i] = embedding_vector\n",
    "        except:\n",
    "            pass\n",
    "        #print(\">>>>\", word)\n",
    "    except Exception as e:\n",
    "        oov_words.add(word)\n",
    "        \n",
    "        \n",
    "print(\"Number of words not in the pretrained set: {}\".format(len(oov_words)))\n",
    "print(\"Ratio of words not in the pretrained set: {:.2}\".format(len(oov_words)/len(word_index)))"
   ]
  },
  {
   "cell_type": "code",
   "execution_count": 29,
   "metadata": {},
   "outputs": [
    {
     "name": "stdout",
     "output_type": "stream",
     "text": [
      "_________________________________________________________________\n",
      "Layer (type)                 Output Shape              Param #   \n",
      "=================================================================\n",
      "embedding_1 (Embedding)      (None, 29, 50)            50000     \n",
      "_________________________________________________________________\n",
      "dropout_1 (Dropout)          (None, 29, 50)            0         \n",
      "_________________________________________________________________\n",
      "bidirectional_1 (Bidirection (None, 29, 64)            21248     \n",
      "_________________________________________________________________\n",
      "dropout_2 (Dropout)          (None, 29, 64)            0         \n",
      "_________________________________________________________________\n",
      "lstm_2 (LSTM)                (None, 29)                10904     \n",
      "_________________________________________________________________\n",
      "dropout_3 (Dropout)          (None, 29)                0         \n",
      "_________________________________________________________________\n",
      "dense_1 (Dense)              (None, 128)               3840      \n",
      "_________________________________________________________________\n",
      "activation_1 (Activation)    (None, 128)               0         \n",
      "_________________________________________________________________\n",
      "dense_2 (Dense)              (None, 3)                 387       \n",
      "_________________________________________________________________\n",
      "activation_2 (Activation)    (None, 3)                 0         \n",
      "=================================================================\n",
      "Total params: 86,379\n",
      "Trainable params: 86,379\n",
      "Non-trainable params: 0\n",
      "_________________________________________________________________\n",
      "None\n"
     ]
    }
   ],
   "source": [
    "model = Sequential()\n",
    "\n",
    "# Choose one of the following 2 lines\n",
    "#model.add(Embedding(MAX_WORDS, EMBEDDING_DIM, input_length=max_seq_len))\n",
    "#model.add(Embedding(MAX_WORDS, EMBEDDING_DIM, input_length=max_seq_len, weights=[embedding_matrix], trainable=False))\n",
    "model.add(Embedding(MAX_WORDS, EMBEDDING_DIM, input_length=max_seq_len, weights=[embedding_matrix], trainable=True))\n",
    "\n",
    "model.add(Dropout(0.5)) # Optional\n",
    "\n",
    "# Choose none or one of the following 2 lines\n",
    "#model.add(LSTM(LSTM_HIDDEN_DIM, return_sequences=True))\n",
    "model.add(Bidirectional(LSTM(LSTM_HIDDEN_DIM, return_sequences=True)))\n",
    "\n",
    "model.add(Dropout(0.5)) # Optional\n",
    "model.add(LSTM(max_seq_len))\n",
    "model.add(Dropout(0.5)) # Optional\n",
    "model.add(Dense(128))\n",
    "model.add(Activation('relu'))\n",
    "#model.add(Dense(64)) # Optional\n",
    "#model.add(Activation('relu')) # Optional\n",
    "model.add(Dense(NUM_LABELS))\n",
    "model.add(Activation('softmax'))\n",
    "\n",
    "print(model.summary())"
   ]
  },
  {
   "cell_type": "markdown",
   "metadata": {},
   "source": [
    "### Compile model"
   ]
  },
  {
   "cell_type": "code",
   "execution_count": 30,
   "metadata": {},
   "outputs": [],
   "source": [
    "model.compile(loss='categorical_crossentropy', optimizer='adam', metrics=['accuracy'])"
   ]
  },
  {
   "cell_type": "markdown",
   "metadata": {},
   "source": [
    "### Train model"
   ]
  },
  {
   "cell_type": "code",
   "execution_count": 31,
   "metadata": {},
   "outputs": [
    {
     "name": "stdout",
     "output_type": "stream",
     "text": [
      "Train on 629 samples, validate on 70 samples\n",
      "Epoch 1/100\n",
      "629/629 [==============================] - 2s 3ms/step - loss: 1.0909 - acc: 0.3370 - val_loss: 1.0982 - val_acc: 0.3429\n",
      "Epoch 2/100\n",
      "629/629 [==============================] - 1s 2ms/step - loss: 1.0868 - acc: 0.3704 - val_loss: 1.0942 - val_acc: 0.3429\n",
      "Epoch 3/100\n",
      "629/629 [==============================] - 1s 2ms/step - loss: 1.0800 - acc: 0.3879 - val_loss: 1.0942 - val_acc: 0.3857\n",
      "Epoch 4/100\n",
      "629/629 [==============================] - 1s 2ms/step - loss: 1.0809 - acc: 0.3895 - val_loss: 1.0927 - val_acc: 0.3429\n",
      "Epoch 5/100\n",
      "629/629 [==============================] - 1s 2ms/step - loss: 1.0813 - acc: 0.3736 - val_loss: 1.0909 - val_acc: 0.3857\n",
      "Epoch 6/100\n",
      "629/629 [==============================] - 1s 2ms/step - loss: 1.0783 - acc: 0.3752 - val_loss: 1.0978 - val_acc: 0.3429\n",
      "Epoch 7/100\n",
      "629/629 [==============================] - 1s 2ms/step - loss: 1.0803 - acc: 0.3879 - val_loss: 1.0931 - val_acc: 0.3857\n",
      "Epoch 8/100\n",
      "629/629 [==============================] - 1s 2ms/step - loss: 1.0816 - acc: 0.3672 - val_loss: 1.0912 - val_acc: 0.3429\n",
      "Epoch 9/100\n",
      "629/629 [==============================] - 1s 2ms/step - loss: 1.0812 - acc: 0.3784 - val_loss: 1.0915 - val_acc: 0.3857\n",
      "Epoch 10/100\n",
      "629/629 [==============================] - 1s 2ms/step - loss: 1.0758 - acc: 0.3879 - val_loss: 1.0902 - val_acc: 0.3857\n",
      "Epoch 11/100\n",
      "629/629 [==============================] - 1s 2ms/step - loss: 1.0767 - acc: 0.3943 - val_loss: 1.0919 - val_acc: 0.3429\n",
      "Epoch 12/100\n",
      "629/629 [==============================] - 1s 2ms/step - loss: 1.0800 - acc: 0.3752 - val_loss: 1.0948 - val_acc: 0.3429\n",
      "Epoch 13/100\n",
      "629/629 [==============================] - 1s 2ms/step - loss: 1.0775 - acc: 0.3609 - val_loss: 1.0905 - val_acc: 0.3857\n",
      "Epoch 14/100\n",
      "629/629 [==============================] - 1s 2ms/step - loss: 1.0791 - acc: 0.3593 - val_loss: 1.0920 - val_acc: 0.3429\n",
      "Epoch 15/100\n",
      "629/629 [==============================] - 1s 2ms/step - loss: 1.0792 - acc: 0.4261 - val_loss: 1.0918 - val_acc: 0.3429\n",
      "Epoch 16/100\n",
      "629/629 [==============================] - 1s 2ms/step - loss: 1.0787 - acc: 0.3927 - val_loss: 1.0912 - val_acc: 0.3429\n",
      "Epoch 17/100\n",
      "629/629 [==============================] - 1s 2ms/step - loss: 1.0784 - acc: 0.3736 - val_loss: 1.0916 - val_acc: 0.3857\n",
      "Epoch 18/100\n",
      "629/629 [==============================] - 1s 2ms/step - loss: 1.0799 - acc: 0.3672 - val_loss: 1.0916 - val_acc: 0.3857\n",
      "Epoch 19/100\n",
      "629/629 [==============================] - 1s 2ms/step - loss: 1.0785 - acc: 0.3911 - val_loss: 1.0953 - val_acc: 0.3857\n",
      "Epoch 20/100\n",
      "629/629 [==============================] - 1s 2ms/step - loss: 1.0800 - acc: 0.3816 - val_loss: 1.0897 - val_acc: 0.3857\n",
      "Epoch 21/100\n",
      "629/629 [==============================] - 1s 2ms/step - loss: 1.0753 - acc: 0.4070 - val_loss: 1.0906 - val_acc: 0.3857\n",
      "Epoch 22/100\n",
      "629/629 [==============================] - 1s 2ms/step - loss: 1.0789 - acc: 0.3847 - val_loss: 1.0913 - val_acc: 0.3429\n",
      "Epoch 23/100\n",
      "629/629 [==============================] - 1s 2ms/step - loss: 1.0798 - acc: 0.3768 - val_loss: 1.0949 - val_acc: 0.3429\n",
      "Epoch 24/100\n",
      "629/629 [==============================] - 1s 2ms/step - loss: 1.0778 - acc: 0.3863 - val_loss: 1.0925 - val_acc: 0.3429\n",
      "Epoch 25/100\n",
      "629/629 [==============================] - 1s 2ms/step - loss: 1.0799 - acc: 0.3482 - val_loss: 1.0914 - val_acc: 0.3857\n",
      "Epoch 26/100\n",
      "629/629 [==============================] - 1s 2ms/step - loss: 1.0788 - acc: 0.3879 - val_loss: 1.0916 - val_acc: 0.3857\n",
      "Epoch 27/100\n",
      "629/629 [==============================] - 1s 2ms/step - loss: 1.0810 - acc: 0.3625 - val_loss: 1.0915 - val_acc: 0.3429\n",
      "Epoch 28/100\n",
      "629/629 [==============================] - 1s 2ms/step - loss: 1.0804 - acc: 0.3529 - val_loss: 1.0915 - val_acc: 0.3857\n",
      "Epoch 29/100\n",
      "629/629 [==============================] - 1s 2ms/step - loss: 1.0797 - acc: 0.3784 - val_loss: 1.0902 - val_acc: 0.3857\n",
      "Epoch 30/100\n",
      "629/629 [==============================] - 1s 2ms/step - loss: 1.0804 - acc: 0.3625 - val_loss: 1.0925 - val_acc: 0.3429\n",
      "Epoch 31/100\n",
      "629/629 [==============================] - 1s 2ms/step - loss: 1.0779 - acc: 0.3879 - val_loss: 1.0916 - val_acc: 0.3429\n",
      "Epoch 32/100\n",
      "629/629 [==============================] - 1s 2ms/step - loss: 1.0772 - acc: 0.3911 - val_loss: 1.0950 - val_acc: 0.3429\n",
      "Epoch 33/100\n",
      "629/629 [==============================] - 1s 2ms/step - loss: 1.0834 - acc: 0.3736 - val_loss: 1.0918 - val_acc: 0.3857\n",
      "Epoch 34/100\n",
      "629/629 [==============================] - 1s 2ms/step - loss: 1.0762 - acc: 0.3625 - val_loss: 1.0966 - val_acc: 0.3429\n",
      "Epoch 35/100\n",
      "629/629 [==============================] - 1s 2ms/step - loss: 1.0762 - acc: 0.3990 - val_loss: 1.0936 - val_acc: 0.3429\n",
      "Epoch 36/100\n",
      "629/629 [==============================] - 1s 2ms/step - loss: 1.0782 - acc: 0.3863 - val_loss: 1.0927 - val_acc: 0.3429\n",
      "Epoch 37/100\n",
      "629/629 [==============================] - 1s 2ms/step - loss: 1.0749 - acc: 0.3863 - val_loss: 1.0912 - val_acc: 0.3429\n",
      "Epoch 38/100\n",
      "629/629 [==============================] - 1s 2ms/step - loss: 1.0786 - acc: 0.3768 - val_loss: 1.0905 - val_acc: 0.3429\n",
      "Epoch 39/100\n",
      "629/629 [==============================] - 1s 2ms/step - loss: 1.0786 - acc: 0.3784 - val_loss: 1.0924 - val_acc: 0.3429\n",
      "Epoch 40/100\n",
      "629/629 [==============================] - 1s 2ms/step - loss: 1.0829 - acc: 0.3704 - val_loss: 1.0919 - val_acc: 0.3429\n",
      "Epoch 41/100\n",
      "629/629 [==============================] - 1s 2ms/step - loss: 1.0760 - acc: 0.4149 - val_loss: 1.0894 - val_acc: 0.3857\n",
      "Epoch 42/100\n",
      "629/629 [==============================] - 1s 2ms/step - loss: 1.0765 - acc: 0.3927 - val_loss: 1.0921 - val_acc: 0.3429\n",
      "Epoch 43/100\n",
      "629/629 [==============================] - 1s 2ms/step - loss: 1.0775 - acc: 0.3736 - val_loss: 1.0853 - val_acc: 0.3714\n",
      "Epoch 44/100\n",
      "629/629 [==============================] - 1s 2ms/step - loss: 1.0646 - acc: 0.4356 - val_loss: 1.0722 - val_acc: 0.4000\n",
      "Epoch 45/100\n",
      "629/629 [==============================] - 1s 2ms/step - loss: 1.0275 - acc: 0.5072 - val_loss: 1.0249 - val_acc: 0.4286\n",
      "Epoch 46/100\n",
      "629/629 [==============================] - 1s 2ms/step - loss: 0.9350 - acc: 0.5739 - val_loss: 1.0043 - val_acc: 0.5000\n",
      "Epoch 47/100\n",
      "629/629 [==============================] - 1s 2ms/step - loss: 0.9053 - acc: 0.6232 - val_loss: 1.0521 - val_acc: 0.4857\n",
      "Epoch 48/100\n",
      "629/629 [==============================] - 1s 2ms/step - loss: 0.8183 - acc: 0.6486 - val_loss: 1.0230 - val_acc: 0.5571\n",
      "Epoch 49/100\n",
      "629/629 [==============================] - 1s 2ms/step - loss: 0.7678 - acc: 0.6598 - val_loss: 1.0358 - val_acc: 0.5571\n",
      "Epoch 50/100\n",
      "629/629 [==============================] - 1s 2ms/step - loss: 0.7589 - acc: 0.6518 - val_loss: 0.9519 - val_acc: 0.5571\n",
      "Epoch 51/100\n",
      "629/629 [==============================] - 1s 2ms/step - loss: 0.6703 - acc: 0.6852 - val_loss: 1.1183 - val_acc: 0.5429\n",
      "Epoch 52/100\n",
      "629/629 [==============================] - 1s 2ms/step - loss: 0.6984 - acc: 0.6916 - val_loss: 1.0342 - val_acc: 0.5714\n",
      "Epoch 53/100\n",
      "629/629 [==============================] - 1s 1ms/step - loss: 0.6734 - acc: 0.7043 - val_loss: 1.0622 - val_acc: 0.6571\n",
      "Epoch 54/100\n",
      "629/629 [==============================] - 1s 2ms/step - loss: 0.6657 - acc: 0.7107 - val_loss: 1.0536 - val_acc: 0.6857\n",
      "Epoch 55/100\n",
      "629/629 [==============================] - 1s 2ms/step - loss: 0.6312 - acc: 0.7297 - val_loss: 1.0956 - val_acc: 0.6286\n",
      "Epoch 56/100\n",
      "629/629 [==============================] - 1s 2ms/step - loss: 0.5857 - acc: 0.7424 - val_loss: 1.1401 - val_acc: 0.7143\n",
      "Epoch 57/100\n",
      "629/629 [==============================] - 1s 2ms/step - loss: 0.5739 - acc: 0.7440 - val_loss: 1.1604 - val_acc: 0.6429\n",
      "Epoch 58/100\n",
      "629/629 [==============================] - 1s 2ms/step - loss: 0.5867 - acc: 0.7472 - val_loss: 1.0198 - val_acc: 0.7429\n",
      "Epoch 59/100\n",
      "629/629 [==============================] - 1s 2ms/step - loss: 0.5046 - acc: 0.7933 - val_loss: 1.0092 - val_acc: 0.7000\n",
      "Epoch 60/100\n",
      "629/629 [==============================] - 1s 2ms/step - loss: 0.5336 - acc: 0.7711 - val_loss: 1.0747 - val_acc: 0.7143\n",
      "Epoch 61/100\n",
      "629/629 [==============================] - 1s 2ms/step - loss: 0.5136 - acc: 0.7981 - val_loss: 0.9756 - val_acc: 0.7000\n"
     ]
    },
    {
     "name": "stdout",
     "output_type": "stream",
     "text": [
      "Epoch 62/100\n",
      "629/629 [==============================] - 1s 2ms/step - loss: 0.5216 - acc: 0.8076 - val_loss: 1.1189 - val_acc: 0.7000\n",
      "Epoch 63/100\n",
      "629/629 [==============================] - 1s 2ms/step - loss: 0.4716 - acc: 0.8124 - val_loss: 1.1696 - val_acc: 0.7000\n",
      "Epoch 64/100\n",
      "629/629 [==============================] - 1s 2ms/step - loss: 0.4717 - acc: 0.8076 - val_loss: 1.3808 - val_acc: 0.5857\n",
      "Epoch 65/100\n",
      "629/629 [==============================] - 1s 2ms/step - loss: 0.4992 - acc: 0.8045 - val_loss: 1.1646 - val_acc: 0.6571\n",
      "Epoch 66/100\n",
      "629/629 [==============================] - 1s 2ms/step - loss: 0.4576 - acc: 0.8219 - val_loss: 1.0873 - val_acc: 0.7143\n",
      "Epoch 67/100\n",
      "629/629 [==============================] - 1s 2ms/step - loss: 0.4244 - acc: 0.8331 - val_loss: 1.1563 - val_acc: 0.7143\n",
      "Epoch 68/100\n",
      "629/629 [==============================] - 1s 2ms/step - loss: 0.4384 - acc: 0.8235 - val_loss: 1.2359 - val_acc: 0.7143\n",
      "Epoch 69/100\n",
      "629/629 [==============================] - 1s 2ms/step - loss: 0.4657 - acc: 0.8362 - val_loss: 1.2532 - val_acc: 0.6714\n",
      "Epoch 70/100\n",
      "629/629 [==============================] - 1s 2ms/step - loss: 0.4313 - acc: 0.8362 - val_loss: 1.0318 - val_acc: 0.7429\n",
      "Epoch 71/100\n",
      "629/629 [==============================] - 1s 2ms/step - loss: 0.3907 - acc: 0.8617 - val_loss: 1.1885 - val_acc: 0.6571\n",
      "Epoch 72/100\n",
      "629/629 [==============================] - 1s 1ms/step - loss: 0.3402 - acc: 0.8728 - val_loss: 1.2227 - val_acc: 0.7286\n",
      "Epoch 73/100\n",
      "629/629 [==============================] - 1s 2ms/step - loss: 0.3703 - acc: 0.8585 - val_loss: 1.1776 - val_acc: 0.7000\n",
      "Epoch 74/100\n",
      "629/629 [==============================] - 1s 2ms/step - loss: 0.3719 - acc: 0.8728 - val_loss: 1.1037 - val_acc: 0.7143\n",
      "Epoch 75/100\n",
      "629/629 [==============================] - 1s 2ms/step - loss: 0.3516 - acc: 0.8712 - val_loss: 1.1585 - val_acc: 0.7429\n",
      "Epoch 76/100\n",
      "629/629 [==============================] - 1s 2ms/step - loss: 0.3213 - acc: 0.8824 - val_loss: 1.1925 - val_acc: 0.7286\n",
      "Epoch 77/100\n",
      "629/629 [==============================] - 1s 2ms/step - loss: 0.3146 - acc: 0.8792 - val_loss: 1.4348 - val_acc: 0.6286\n",
      "Epoch 78/100\n",
      "629/629 [==============================] - 1s 2ms/step - loss: 0.3788 - acc: 0.8585 - val_loss: 1.2079 - val_acc: 0.7286\n",
      "Epoch 79/100\n",
      "629/629 [==============================] - 1s 2ms/step - loss: 0.3241 - acc: 0.8855 - val_loss: 1.2145 - val_acc: 0.7429\n",
      "Epoch 80/100\n",
      "629/629 [==============================] - 1s 2ms/step - loss: 0.3250 - acc: 0.8808 - val_loss: 1.1309 - val_acc: 0.7286\n",
      "Epoch 81/100\n",
      "629/629 [==============================] - 1s 2ms/step - loss: 0.3423 - acc: 0.8744 - val_loss: 1.1047 - val_acc: 0.7286\n",
      "Epoch 82/100\n",
      "629/629 [==============================] - 1s 2ms/step - loss: 0.2805 - acc: 0.9014 - val_loss: 1.3723 - val_acc: 0.7143\n",
      "Epoch 83/100\n",
      "629/629 [==============================] - 1s 2ms/step - loss: 0.3337 - acc: 0.8776 - val_loss: 1.0888 - val_acc: 0.7429\n",
      "Epoch 84/100\n",
      "629/629 [==============================] - 1s 1ms/step - loss: 0.2412 - acc: 0.9285 - val_loss: 1.2396 - val_acc: 0.7286\n",
      "Epoch 85/100\n",
      "629/629 [==============================] - 1s 2ms/step - loss: 0.3126 - acc: 0.8951 - val_loss: 1.1330 - val_acc: 0.7286\n",
      "Epoch 86/100\n",
      "629/629 [==============================] - 1s 1ms/step - loss: 0.2647 - acc: 0.9062 - val_loss: 1.3044 - val_acc: 0.7429\n",
      "Epoch 87/100\n",
      "629/629 [==============================] - 1s 2ms/step - loss: 0.2754 - acc: 0.8967 - val_loss: 1.2596 - val_acc: 0.7143\n",
      "Epoch 88/100\n",
      "629/629 [==============================] - 1s 2ms/step - loss: 0.2182 - acc: 0.9380 - val_loss: 1.4360 - val_acc: 0.6714\n",
      "Epoch 89/100\n",
      "629/629 [==============================] - 1s 2ms/step - loss: 0.2519 - acc: 0.9126 - val_loss: 1.3428 - val_acc: 0.7143\n",
      "Epoch 90/100\n",
      "629/629 [==============================] - 1s 2ms/step - loss: 0.2501 - acc: 0.9173 - val_loss: 1.1500 - val_acc: 0.7143\n",
      "Epoch 91/100\n",
      "629/629 [==============================] - 1s 2ms/step - loss: 0.2454 - acc: 0.9205 - val_loss: 1.2930 - val_acc: 0.7286\n",
      "Epoch 92/100\n",
      "629/629 [==============================] - 1s 2ms/step - loss: 0.1931 - acc: 0.9348 - val_loss: 1.0896 - val_acc: 0.7286\n",
      "Epoch 93/100\n",
      "629/629 [==============================] - 1s 2ms/step - loss: 0.2739 - acc: 0.9078 - val_loss: 1.2390 - val_acc: 0.7286\n",
      "Epoch 94/100\n",
      "629/629 [==============================] - 1s 2ms/step - loss: 0.2520 - acc: 0.9078 - val_loss: 1.2573 - val_acc: 0.7000\n",
      "Epoch 95/100\n",
      "629/629 [==============================] - 1s 2ms/step - loss: 0.2052 - acc: 0.9237 - val_loss: 1.2375 - val_acc: 0.7000\n",
      "Epoch 96/100\n",
      "629/629 [==============================] - 1s 2ms/step - loss: 0.1875 - acc: 0.9285 - val_loss: 1.3345 - val_acc: 0.7143\n",
      "Epoch 97/100\n",
      "629/629 [==============================] - 1s 2ms/step - loss: 0.2555 - acc: 0.9126 - val_loss: 1.1298 - val_acc: 0.7286\n",
      "Epoch 98/100\n",
      "629/629 [==============================] - 1s 2ms/step - loss: 0.1563 - acc: 0.9459 - val_loss: 1.3685 - val_acc: 0.7429\n",
      "Epoch 99/100\n",
      "629/629 [==============================] - 1s 2ms/step - loss: 0.2240 - acc: 0.9316 - val_loss: 1.4419 - val_acc: 0.6857\n",
      "Epoch 100/100\n",
      "629/629 [==============================] - 1s 2ms/step - loss: 0.1962 - acc: 0.9396 - val_loss: 1.3304 - val_acc: 0.7000\n"
     ]
    }
   ],
   "source": [
    "history = model.fit(X_train, y_train, batch_size=32, epochs=100, verbose=1, validation_split=0.1)"
   ]
  },
  {
   "cell_type": "markdown",
   "metadata": {},
   "source": [
    "### Evaluate model"
   ]
  },
  {
   "cell_type": "code",
   "execution_count": 32,
   "metadata": {},
   "outputs": [
    {
     "name": "stdout",
     "output_type": "stream",
     "text": [
      "298/298 [==============================] - 0s 471us/step\n",
      "Test score: 0.946238966996\n",
      "Test accuracy: 0.708053692075\n"
     ]
    }
   ],
   "source": [
    "score = model.evaluate(X_test, y_test, batch_size=32, verbose=1)\n",
    "print('Test score:', score[0])\n",
    "print('Test accuracy:', score[1])"
   ]
  },
  {
   "cell_type": "code",
   "execution_count": null,
   "metadata": {},
   "outputs": [],
   "source": []
  }
 ],
 "metadata": {
  "anaconda-cloud": {},
  "kernelspec": {
   "display_name": "Python 3",
   "language": "python",
   "name": "python3"
  },
  "language_info": {
   "codemirror_mode": {
    "name": "ipython",
    "version": 3
   },
   "file_extension": ".py",
   "mimetype": "text/x-python",
   "name": "python",
   "nbconvert_exporter": "python",
   "pygments_lexer": "ipython3",
   "version": "3.5.2"
  }
 },
 "nbformat": 4,
 "nbformat_minor": 1
}
