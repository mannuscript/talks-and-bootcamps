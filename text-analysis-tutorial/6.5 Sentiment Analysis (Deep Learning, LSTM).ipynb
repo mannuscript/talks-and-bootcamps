{
 "cells": [
  {
   "cell_type": "markdown",
   "metadata": {},
   "source": [
    "# Sentiment Analysis (Deep Learning, LSTM)\n",
    "\n",
    "In this tutorial, we perform sentiment analysis using deep learning, where we use a Recurrent Neural Network (RNN) network structure. More specifically, we perform a many a many-to-one classification -- that is, given a sequence of words, we are only interested in one final class (not, e.g., into a class for each word in sequence):\n",
    "\n",
    "<img src=\"images/rnn-many-to-one-sequence-classification.jpg\" alt=\"Drawing\" style=\"width: 20%;\"/>\n"
   ]
  },
  {
   "cell_type": "markdown",
   "metadata": {},
   "source": [
    "## Import required packages"
   ]
  },
  {
   "cell_type": "code",
   "execution_count": 15,
   "metadata": {},
   "outputs": [],
   "source": [
    "import os\n",
    "import numpy as np\n",
    "import pandas as pd\n",
    "import csv\n",
    "\n",
    "from keras.preprocessing.text import Tokenizer\n",
    "from keras.preprocessing.sequence import pad_sequences\n",
    "from keras.models import Sequential\n",
    "from keras.layers import Dense, Activation, LSTM, Embedding, Dropout, Bidirectional\n",
    "\n",
    "from sklearn.preprocessing import LabelBinarizer\n",
    "\n",
    "# The next imports are only needed for the preprocessing\n",
    "from nltk.tokenize import TweetTokenizer\n",
    "from nltk.stem import WordNetLemmatizer\n",
    "from utils.nlputil import preprocess_text"
   ]
  },
  {
   "cell_type": "code",
   "execution_count": 16,
   "metadata": {},
   "outputs": [],
   "source": [
    "tweet_tokenizer = TweetTokenizer()\n",
    "wordnet_lemmatizer = WordNetLemmatizer()"
   ]
  },
  {
   "cell_type": "code",
   "execution_count": 17,
   "metadata": {},
   "outputs": [],
   "source": [
    "NUM_LABELS = 3 # We have 3 polarity classes\n",
    "MAX_WORDS = 1000\n",
    "EMBEDDING_DIM = 50\n",
    "LSTM_HIDDEN_DIM = 32"
   ]
  },
  {
   "cell_type": "markdown",
   "metadata": {},
   "source": [
    "## Date preparation"
   ]
  },
  {
   "cell_type": "markdown",
   "metadata": {},
   "source": [
    "### Load data from files"
   ]
  },
  {
   "cell_type": "code",
   "execution_count": 18,
   "metadata": {},
   "outputs": [
    {
     "data": {
      "text/html": [
       "<div>\n",
       "<style scoped>\n",
       "    .dataframe tbody tr th:only-of-type {\n",
       "        vertical-align: middle;\n",
       "    }\n",
       "\n",
       "    .dataframe tbody tr th {\n",
       "        vertical-align: top;\n",
       "    }\n",
       "\n",
       "    .dataframe thead th {\n",
       "        text-align: right;\n",
       "    }\n",
       "</style>\n",
       "<table border=\"1\" class=\"dataframe\">\n",
       "  <thead>\n",
       "    <tr style=\"text-align: right;\">\n",
       "      <th></th>\n",
       "      <th>tweet</th>\n",
       "      <th>senti</th>\n",
       "    </tr>\n",
       "  </thead>\n",
       "  <tbody>\n",
       "    <tr>\n",
       "      <th>0</th>\n",
       "      <td>@united UA5396 can wait for me. I'm on the gro...</td>\n",
       "      <td>0</td>\n",
       "    </tr>\n",
       "    <tr>\n",
       "      <th>1</th>\n",
       "      <td>I hate Time Warner! Soooo wish I had Vios. Can...</td>\n",
       "      <td>0</td>\n",
       "    </tr>\n",
       "    <tr>\n",
       "      <th>2</th>\n",
       "      <td>Tom Shanahan's latest column on SDSU and its N...</td>\n",
       "      <td>2</td>\n",
       "    </tr>\n",
       "    <tr>\n",
       "      <th>3</th>\n",
       "      <td>Found the self driving car!! /IWo3QSvdu2</td>\n",
       "      <td>2</td>\n",
       "    </tr>\n",
       "    <tr>\n",
       "      <th>4</th>\n",
       "      <td>@united arrived in YYZ to take our flight to T...</td>\n",
       "      <td>0</td>\n",
       "    </tr>\n",
       "  </tbody>\n",
       "</table>\n",
       "</div>"
      ],
      "text/plain": [
       "                                               tweet  senti\n",
       "0  @united UA5396 can wait for me. I'm on the gro...      0\n",
       "1  I hate Time Warner! Soooo wish I had Vios. Can...      0\n",
       "2  Tom Shanahan's latest column on SDSU and its N...      2\n",
       "3           Found the self driving car!! /IWo3QSvdu2      2\n",
       "4  @united arrived in YYZ to take our flight to T...      0"
      ]
     },
     "execution_count": 18,
     "metadata": {},
     "output_type": "execute_result"
    }
   ],
   "source": [
    "df_tweets_train = pd.read_csv('data/twitter-sentiment/twitter-sentiment-bowden-training.csv')\n",
    "\n",
    "# Print the first 5 lines\n",
    "df_tweets_train.head()"
   ]
  },
  {
   "cell_type": "markdown",
   "metadata": {},
   "source": [
    "### Preprocess training and test data"
   ]
  },
  {
   "cell_type": "code",
   "execution_count": 19,
   "metadata": {},
   "outputs": [],
   "source": [
    "train_tweets = df_tweets_train['tweet']\n",
    "train_polarities = df_tweets_train['senti']\n",
    "\n",
    "train_tweets_processed = [''] * len(train_tweets)\n",
    "\n",
    "for idx, doc in enumerate(train_tweets):\n",
    "    train_tweets_processed[idx] = preprocess_text(doc, tokenizer=tweet_tokenizer, lemmatizer=wordnet_lemmatizer)"
   ]
  },
  {
   "cell_type": "code",
   "execution_count": 20,
   "metadata": {},
   "outputs": [],
   "source": [
    "df_tweets_test = pd.read_csv('data/twitter-sentiment/twitter-sentiment-bowden-test.csv')\n",
    "\n",
    "test_tweets = df_tweets_test['tweet']\n",
    "test_polarities = df_tweets_test['senti']  \n",
    "\n",
    "test_tweets_processed = [''] * len(test_tweets)\n",
    "\n",
    "for idx, doc in enumerate(test_tweets):\n",
    "    test_tweets_processed[idx] = preprocess_text(doc, tokenizer=tweet_tokenizer, lemmatizer=wordnet_lemmatizer)  "
   ]
  },
  {
   "cell_type": "markdown",
   "metadata": {},
   "source": [
    "### Prepare labels"
   ]
  },
  {
   "cell_type": "code",
   "execution_count": 21,
   "metadata": {},
   "outputs": [
    {
     "name": "stdout",
     "output_type": "stream",
     "text": [
      "[[1 0 0]\n",
      " [1 0 0]\n",
      " [1 0 0]\n",
      " [0 0 1]\n",
      " [1 0 0]\n",
      " [1 0 0]\n",
      " [0 0 1]\n",
      " [1 0 0]\n",
      " [0 0 1]\n",
      " [0 1 0]]\n"
     ]
    }
   ],
   "source": [
    "encoder = LabelBinarizer()\n",
    "encoder.fit(train_polarities)\n",
    "y_train = encoder.transform(train_polarities)\n",
    "y_test = encoder.transform(test_polarities)\n",
    "\n",
    "print(y_test[:10])"
   ]
  },
  {
   "cell_type": "markdown",
   "metadata": {},
   "source": [
    "### Calculate maximum sequence length \n",
    "\n",
    "Most neural networks assume inputs of the same size. Since we are using tweets here which are usually rather short, we can find the longest one (in terms of the number of words) and define its length as the maximum sequence length. In case of longer texts, e.g., reviews, the maximum sequence length is specified a priori to typically a couple of hundred."
   ]
  },
  {
   "cell_type": "code",
   "execution_count": 22,
   "metadata": {},
   "outputs": [
    {
     "name": "stdout",
     "output_type": "stream",
     "text": [
      "Maximum sequence length: 29\n"
     ]
    }
   ],
   "source": [
    "longest_train_tweet = max([len(s.split()) for s in train_tweets_processed])\n",
    "longest_test_tweet = max([len(s.split()) for s in test_tweets_processed])\n",
    "\n",
    "max_seq_len = max(longest_train_tweet, longest_test_tweet)\n",
    "\n",
    "print(\"Maximum sequence length: {}\".format(max_seq_len))"
   ]
  },
  {
   "cell_type": "code",
   "execution_count": 23,
   "metadata": {},
   "outputs": [],
   "source": [
    "tokenizer = Tokenizer(num_words=MAX_WORDS)\n",
    "tokenizer.fit_on_texts(train_tweets_processed)"
   ]
  },
  {
   "cell_type": "code",
   "execution_count": 24,
   "metadata": {},
   "outputs": [
    {
     "name": "stdout",
     "output_type": "stream",
     "text": [
      "Found 2718 unique tokens.\n"
     ]
    }
   ],
   "source": [
    "word_index = tokenizer.word_index\n",
    "print('Found %s unique tokens.' % len(word_index))"
   ]
  },
  {
   "cell_type": "markdown",
   "metadata": {},
   "source": [
    "### Convert strings to sequences\n",
    "\n",
    "The `tokenizer.word_index` each word in the vocabulary to an index. The method `texts_to_sequences` now converts a string into a list of indexes representing the words in the string"
   ]
  },
  {
   "cell_type": "code",
   "execution_count": 25,
   "metadata": {},
   "outputs": [
    {
     "name": "stdout",
     "output_type": "stream",
     "text": [
      "[4, 846, 52, 8, 506, 178, 6, 204, 344, 507, 508]\n",
      "Largest used index: 999\n"
     ]
    }
   ],
   "source": [
    "X_train = tokenizer.texts_to_sequences(train_tweets_processed)\n",
    "X_test = tokenizer.texts_to_sequences(test_tweets_processed)\n",
    "\n",
    "max_idx = max([ max(l) for l in X_train if len(l) > 0])\n",
    "\n",
    "print(X_train[0])\n",
    "print(\"Largest used index: {}\".format(max_idx)) # This should be (MAX_WORDS-1)\n"
   ]
  },
  {
   "cell_type": "markdown",
   "metadata": {},
   "source": [
    "### Sequence padding.\n",
    "\n",
    "We have to ensure that all inputs have the same length. Above, we calculated the maximum length being 29. That means, we have to \"pad\" all tweets that are shorter than that. Keras comes with a handy method for that. `padding='post'` specifies that the padding is done after the last wors. `truncating='post'` is not required in this example; it would cut of words from then end tweets that are too long (which cannot happen here)."
   ]
  },
  {
   "cell_type": "code",
   "execution_count": 26,
   "metadata": {},
   "outputs": [
    {
     "name": "stdout",
     "output_type": "stream",
     "text": [
      "[  4 846  52   8 506 178   6 204 344 507 508   0   0   0   0   0   0   0\n",
      "   0   0   0   0   0   0   0   0   0   0   0]\n",
      "Sequence length: 29\n"
     ]
    }
   ],
   "source": [
    "X_train = pad_sequences(X_train, maxlen=max_seq_len, padding='post', truncating='post')\n",
    "X_test = pad_sequences(X_test, maxlen=max_seq_len, padding='post', truncating='post')\n",
    "\n",
    "print(X_train[0])\n",
    "print(\"Sequence length: {}\".format(len(X_train[0])))"
   ]
  },
  {
   "cell_type": "markdown",
   "metadata": {},
   "source": [
    "## Training the model (with word embeddings)"
   ]
  },
  {
   "cell_type": "markdown",
   "metadata": {},
   "source": [
    "### Load pretrained word embeddings (GloVe)"
   ]
  },
  {
   "cell_type": "code",
   "execution_count": 27,
   "metadata": {},
   "outputs": [
    {
     "data": {
      "text/html": [
       "<div>\n",
       "<style scoped>\n",
       "    .dataframe tbody tr th:only-of-type {\n",
       "        vertical-align: middle;\n",
       "    }\n",
       "\n",
       "    .dataframe tbody tr th {\n",
       "        vertical-align: top;\n",
       "    }\n",
       "\n",
       "    .dataframe thead th {\n",
       "        text-align: right;\n",
       "    }\n",
       "</style>\n",
       "<table border=\"1\" class=\"dataframe\">\n",
       "  <thead>\n",
       "    <tr style=\"text-align: right;\">\n",
       "      <th></th>\n",
       "      <th>1</th>\n",
       "      <th>2</th>\n",
       "      <th>3</th>\n",
       "      <th>4</th>\n",
       "      <th>5</th>\n",
       "      <th>6</th>\n",
       "      <th>7</th>\n",
       "      <th>8</th>\n",
       "      <th>9</th>\n",
       "      <th>10</th>\n",
       "      <th>...</th>\n",
       "      <th>41</th>\n",
       "      <th>42</th>\n",
       "      <th>43</th>\n",
       "      <th>44</th>\n",
       "      <th>45</th>\n",
       "      <th>46</th>\n",
       "      <th>47</th>\n",
       "      <th>48</th>\n",
       "      <th>49</th>\n",
       "      <th>50</th>\n",
       "    </tr>\n",
       "    <tr>\n",
       "      <th>0</th>\n",
       "      <th></th>\n",
       "      <th></th>\n",
       "      <th></th>\n",
       "      <th></th>\n",
       "      <th></th>\n",
       "      <th></th>\n",
       "      <th></th>\n",
       "      <th></th>\n",
       "      <th></th>\n",
       "      <th></th>\n",
       "      <th></th>\n",
       "      <th></th>\n",
       "      <th></th>\n",
       "      <th></th>\n",
       "      <th></th>\n",
       "      <th></th>\n",
       "      <th></th>\n",
       "      <th></th>\n",
       "      <th></th>\n",
       "      <th></th>\n",
       "      <th></th>\n",
       "    </tr>\n",
       "  </thead>\n",
       "  <tbody>\n",
       "    <tr>\n",
       "      <th>the</th>\n",
       "      <td>0.418000</td>\n",
       "      <td>0.249680</td>\n",
       "      <td>-0.41242</td>\n",
       "      <td>0.12170</td>\n",
       "      <td>0.34527</td>\n",
       "      <td>-0.044457</td>\n",
       "      <td>-0.49688</td>\n",
       "      <td>-0.17862</td>\n",
       "      <td>-0.00066</td>\n",
       "      <td>-0.656600</td>\n",
       "      <td>...</td>\n",
       "      <td>-0.298710</td>\n",
       "      <td>-0.157490</td>\n",
       "      <td>-0.347580</td>\n",
       "      <td>-0.045637</td>\n",
       "      <td>-0.44251</td>\n",
       "      <td>0.187850</td>\n",
       "      <td>0.002785</td>\n",
       "      <td>-0.184110</td>\n",
       "      <td>-0.115140</td>\n",
       "      <td>-0.78581</td>\n",
       "    </tr>\n",
       "    <tr>\n",
       "      <th>,</th>\n",
       "      <td>0.013441</td>\n",
       "      <td>0.236820</td>\n",
       "      <td>-0.16899</td>\n",
       "      <td>0.40951</td>\n",
       "      <td>0.63812</td>\n",
       "      <td>0.477090</td>\n",
       "      <td>-0.42852</td>\n",
       "      <td>-0.55641</td>\n",
       "      <td>-0.36400</td>\n",
       "      <td>-0.239380</td>\n",
       "      <td>...</td>\n",
       "      <td>-0.080262</td>\n",
       "      <td>0.630030</td>\n",
       "      <td>0.321110</td>\n",
       "      <td>-0.467650</td>\n",
       "      <td>0.22786</td>\n",
       "      <td>0.360340</td>\n",
       "      <td>-0.378180</td>\n",
       "      <td>-0.566570</td>\n",
       "      <td>0.044691</td>\n",
       "      <td>0.30392</td>\n",
       "    </tr>\n",
       "    <tr>\n",
       "      <th>.</th>\n",
       "      <td>0.151640</td>\n",
       "      <td>0.301770</td>\n",
       "      <td>-0.16763</td>\n",
       "      <td>0.17684</td>\n",
       "      <td>0.31719</td>\n",
       "      <td>0.339730</td>\n",
       "      <td>-0.43478</td>\n",
       "      <td>-0.31086</td>\n",
       "      <td>-0.44999</td>\n",
       "      <td>-0.294860</td>\n",
       "      <td>...</td>\n",
       "      <td>-0.000064</td>\n",
       "      <td>0.068987</td>\n",
       "      <td>0.087939</td>\n",
       "      <td>-0.102850</td>\n",
       "      <td>-0.13931</td>\n",
       "      <td>0.223140</td>\n",
       "      <td>-0.080803</td>\n",
       "      <td>-0.356520</td>\n",
       "      <td>0.016413</td>\n",
       "      <td>0.10216</td>\n",
       "    </tr>\n",
       "    <tr>\n",
       "      <th>of</th>\n",
       "      <td>0.708530</td>\n",
       "      <td>0.570880</td>\n",
       "      <td>-0.47160</td>\n",
       "      <td>0.18048</td>\n",
       "      <td>0.54449</td>\n",
       "      <td>0.726030</td>\n",
       "      <td>0.18157</td>\n",
       "      <td>-0.52393</td>\n",
       "      <td>0.10381</td>\n",
       "      <td>-0.175660</td>\n",
       "      <td>...</td>\n",
       "      <td>-0.347270</td>\n",
       "      <td>0.284830</td>\n",
       "      <td>0.075693</td>\n",
       "      <td>-0.062178</td>\n",
       "      <td>-0.38988</td>\n",
       "      <td>0.229020</td>\n",
       "      <td>-0.216170</td>\n",
       "      <td>-0.225620</td>\n",
       "      <td>-0.093918</td>\n",
       "      <td>-0.80375</td>\n",
       "    </tr>\n",
       "    <tr>\n",
       "      <th>to</th>\n",
       "      <td>0.680470</td>\n",
       "      <td>-0.039263</td>\n",
       "      <td>0.30186</td>\n",
       "      <td>-0.17792</td>\n",
       "      <td>0.42962</td>\n",
       "      <td>0.032246</td>\n",
       "      <td>-0.41376</td>\n",
       "      <td>0.13228</td>\n",
       "      <td>-0.29847</td>\n",
       "      <td>-0.085253</td>\n",
       "      <td>...</td>\n",
       "      <td>-0.094375</td>\n",
       "      <td>0.018324</td>\n",
       "      <td>0.210480</td>\n",
       "      <td>-0.030880</td>\n",
       "      <td>-0.19722</td>\n",
       "      <td>0.082279</td>\n",
       "      <td>-0.094340</td>\n",
       "      <td>-0.073297</td>\n",
       "      <td>-0.064699</td>\n",
       "      <td>-0.26044</td>\n",
       "    </tr>\n",
       "  </tbody>\n",
       "</table>\n",
       "<p>5 rows × 50 columns</p>\n",
       "</div>"
      ],
      "text/plain": [
       "           1         2        3        4        5         6        7   \\\n",
       "0                                                                       \n",
       "the  0.418000  0.249680 -0.41242  0.12170  0.34527 -0.044457 -0.49688   \n",
       ",    0.013441  0.236820 -0.16899  0.40951  0.63812  0.477090 -0.42852   \n",
       ".    0.151640  0.301770 -0.16763  0.17684  0.31719  0.339730 -0.43478   \n",
       "of   0.708530  0.570880 -0.47160  0.18048  0.54449  0.726030  0.18157   \n",
       "to   0.680470 -0.039263  0.30186 -0.17792  0.42962  0.032246 -0.41376   \n",
       "\n",
       "          8        9         10   ...           41        42        43  \\\n",
       "0                                 ...                                    \n",
       "the -0.17862 -0.00066 -0.656600   ...    -0.298710 -0.157490 -0.347580   \n",
       ",   -0.55641 -0.36400 -0.239380   ...    -0.080262  0.630030  0.321110   \n",
       ".   -0.31086 -0.44999 -0.294860   ...    -0.000064  0.068987  0.087939   \n",
       "of  -0.52393  0.10381 -0.175660   ...    -0.347270  0.284830  0.075693   \n",
       "to   0.13228 -0.29847 -0.085253   ...    -0.094375  0.018324  0.210480   \n",
       "\n",
       "           44       45        46        47        48        49       50  \n",
       "0                                                                        \n",
       "the -0.045637 -0.44251  0.187850  0.002785 -0.184110 -0.115140 -0.78581  \n",
       ",   -0.467650  0.22786  0.360340 -0.378180 -0.566570  0.044691  0.30392  \n",
       ".   -0.102850 -0.13931  0.223140 -0.080803 -0.356520  0.016413  0.10216  \n",
       "of  -0.062178 -0.38988  0.229020 -0.216170 -0.225620 -0.093918 -0.80375  \n",
       "to  -0.030880 -0.19722  0.082279 -0.094340 -0.073297 -0.064699 -0.26044  \n",
       "\n",
       "[5 rows x 50 columns]"
      ]
     },
     "execution_count": 27,
     "metadata": {},
     "output_type": "execute_result"
    }
   ],
   "source": [
    "df_glove = pd.read_table('data/pretrained-word-vectors/glove.6B.50d.txt', sep=\" \", index_col=0, header=None, quoting=csv.QUOTE_NONE)\n",
    "\n",
    "# Print the first 5 lines\n",
    "df_glove.head()"
   ]
  },
  {
   "cell_type": "code",
   "execution_count": 28,
   "metadata": {},
   "outputs": [
    {
     "name": "stdout",
     "output_type": "stream",
     "text": [
      "Number of words not in the pretrained set: 523\n",
      "Ratio of words not in the pretrained set: 0.19\n"
     ]
    }
   ],
   "source": [
    "oov_words = set()\n",
    "\n",
    "embedding_matrix = np.random.random((MAX_WORDS, EMBEDDING_DIM))\n",
    "for word, i in word_index.items():\n",
    "    try:\n",
    "        embedding_vector = df_glove.loc[word].as_matrix()\n",
    "        try:\n",
    "            embedding_matrix[i] = embedding_vector\n",
    "        except:\n",
    "            pass\n",
    "        #print(\">>>>\", word)\n",
    "    except Exception as e:\n",
    "        oov_words.add(word)\n",
    "        \n",
    "        \n",
    "print(\"Number of words not in the pretrained set: {}\".format(len(oov_words)))\n",
    "print(\"Ratio of words not in the pretrained set: {:.2}\".format(len(oov_words)/len(word_index)))"
   ]
  },
  {
   "cell_type": "markdown",
   "metadata": {},
   "source": [
    "### Define network model"
   ]
  },
  {
   "cell_type": "code",
   "execution_count": 29,
   "metadata": {},
   "outputs": [
    {
     "name": "stdout",
     "output_type": "stream",
     "text": [
      "_________________________________________________________________\n",
      "Layer (type)                 Output Shape              Param #   \n",
      "=================================================================\n",
      "embedding_1 (Embedding)      (None, 29, 50)            50000     \n",
      "_________________________________________________________________\n",
      "dropout_1 (Dropout)          (None, 29, 50)            0         \n",
      "_________________________________________________________________\n",
      "bidirectional_1 (Bidirection (None, 29, 64)            21248     \n",
      "_________________________________________________________________\n",
      "dropout_2 (Dropout)          (None, 29, 64)            0         \n",
      "_________________________________________________________________\n",
      "lstm_2 (LSTM)                (None, 29)                10904     \n",
      "_________________________________________________________________\n",
      "dropout_3 (Dropout)          (None, 29)                0         \n",
      "_________________________________________________________________\n",
      "dense_1 (Dense)              (None, 128)               3840      \n",
      "_________________________________________________________________\n",
      "activation_1 (Activation)    (None, 128)               0         \n",
      "_________________________________________________________________\n",
      "dense_2 (Dense)              (None, 3)                 387       \n",
      "_________________________________________________________________\n",
      "activation_2 (Activation)    (None, 3)                 0         \n",
      "=================================================================\n",
      "Total params: 86,379\n",
      "Trainable params: 86,379\n",
      "Non-trainable params: 0\n",
      "_________________________________________________________________\n",
      "None\n"
     ]
    }
   ],
   "source": [
    "model = Sequential()\n",
    "\n",
    "# Choose one of the following 2 lines\n",
    "#model.add(Embedding(MAX_WORDS, EMBEDDING_DIM, input_length=max_seq_len))\n",
    "#model.add(Embedding(MAX_WORDS, EMBEDDING_DIM, input_length=max_seq_len, weights=[embedding_matrix], trainable=False))\n",
    "model.add(Embedding(MAX_WORDS, EMBEDDING_DIM, input_length=max_seq_len, weights=[embedding_matrix], trainable=True))\n",
    "\n",
    "model.add(Dropout(0.5)) # Optional\n",
    "\n",
    "# Choose none or one of the following 2 lines\n",
    "#model.add(LSTM(LSTM_HIDDEN_DIM, return_sequences=True))\n",
    "model.add(Bidirectional(LSTM(LSTM_HIDDEN_DIM, return_sequences=True)))\n",
    "\n",
    "model.add(Dropout(0.5)) # Optional\n",
    "model.add(LSTM(max_seq_len))\n",
    "model.add(Dropout(0.5)) # Optional\n",
    "model.add(Dense(128))\n",
    "model.add(Activation('relu'))\n",
    "#model.add(Dense(64)) # Optional\n",
    "#model.add(Activation('relu')) # Optional\n",
    "model.add(Dense(NUM_LABELS))\n",
    "model.add(Activation('softmax'))\n",
    "\n",
    "print(model.summary())"
   ]
  },
  {
   "cell_type": "markdown",
   "metadata": {},
   "source": [
    "### Compile model"
   ]
  },
  {
   "cell_type": "code",
   "execution_count": 30,
   "metadata": {},
   "outputs": [],
   "source": [
    "model.compile(loss='categorical_crossentropy', optimizer='adam', metrics=['accuracy'])"
   ]
  },
  {
   "cell_type": "markdown",
   "metadata": {},
   "source": [
    "### Train model"
   ]
  },
  {
   "cell_type": "code",
   "execution_count": 31,
   "metadata": {},
   "outputs": [
    {
     "name": "stdout",
     "output_type": "stream",
     "text": [
      "Train on 629 samples, validate on 70 samples\n",
      "Epoch 1/100\n",
      "629/629 [==============================] - 2s 3ms/step - loss: 1.0909 - acc: 0.3370 - val_loss: 1.0982 - val_acc: 0.3429\n",
      "Epoch 2/100\n",
      "629/629 [==============================] - 1s 2ms/step - loss: 1.0868 - acc: 0.3704 - val_loss: 1.0942 - val_acc: 0.3429\n",
      "Epoch 3/100\n",
      "629/629 [==============================] - 1s 2ms/step - loss: 1.0800 - acc: 0.3879 - val_loss: 1.0942 - val_acc: 0.3857\n",
      "Epoch 4/100\n",
      "629/629 [==============================] - 1s 2ms/step - loss: 1.0809 - acc: 0.3895 - val_loss: 1.0927 - val_acc: 0.3429\n",
      "Epoch 5/100\n",
      "629/629 [==============================] - 1s 2ms/step - loss: 1.0813 - acc: 0.3736 - val_loss: 1.0909 - val_acc: 0.3857\n",
      "Epoch 6/100\n",
      "629/629 [==============================] - 1s 2ms/step - loss: 1.0783 - acc: 0.3752 - val_loss: 1.0978 - val_acc: 0.3429\n",
      "Epoch 7/100\n",
      "629/629 [==============================] - 1s 2ms/step - loss: 1.0803 - acc: 0.3879 - val_loss: 1.0931 - val_acc: 0.3857\n",
      "Epoch 8/100\n",
      "629/629 [==============================] - 1s 2ms/step - loss: 1.0816 - acc: 0.3672 - val_loss: 1.0912 - val_acc: 0.3429\n",
      "Epoch 9/100\n",
      "629/629 [==============================] - 1s 2ms/step - loss: 1.0812 - acc: 0.3784 - val_loss: 1.0915 - val_acc: 0.3857\n",
      "Epoch 10/100\n",
      "629/629 [==============================] - 1s 2ms/step - loss: 1.0758 - acc: 0.3879 - val_loss: 1.0902 - val_acc: 0.3857\n",
      "Epoch 11/100\n",
      "629/629 [==============================] - 1s 2ms/step - loss: 1.0767 - acc: 0.3943 - val_loss: 1.0919 - val_acc: 0.3429\n",
      "Epoch 12/100\n",
      "629/629 [==============================] - 1s 2ms/step - loss: 1.0800 - acc: 0.3752 - val_loss: 1.0948 - val_acc: 0.3429\n",
      "Epoch 13/100\n",
      "629/629 [==============================] - 1s 2ms/step - loss: 1.0775 - acc: 0.3609 - val_loss: 1.0905 - val_acc: 0.3857\n",
      "Epoch 14/100\n",
      "629/629 [==============================] - 1s 2ms/step - loss: 1.0791 - acc: 0.3593 - val_loss: 1.0920 - val_acc: 0.3429\n",
      "Epoch 15/100\n",
      "629/629 [==============================] - 1s 2ms/step - loss: 1.0792 - acc: 0.4261 - val_loss: 1.0918 - val_acc: 0.3429\n",
      "Epoch 16/100\n",
      "629/629 [==============================] - 1s 2ms/step - loss: 1.0787 - acc: 0.3927 - val_loss: 1.0912 - val_acc: 0.3429\n",
      "Epoch 17/100\n",
      "629/629 [==============================] - 1s 2ms/step - loss: 1.0784 - acc: 0.3736 - val_loss: 1.0916 - val_acc: 0.3857\n",
      "Epoch 18/100\n",
      "629/629 [==============================] - 1s 2ms/step - loss: 1.0799 - acc: 0.3672 - val_loss: 1.0916 - val_acc: 0.3857\n",
      "Epoch 19/100\n",
      "629/629 [==============================] - 1s 2ms/step - loss: 1.0785 - acc: 0.3911 - val_loss: 1.0953 - val_acc: 0.3857\n",
      "Epoch 20/100\n",
      "629/629 [==============================] - 1s 2ms/step - loss: 1.0800 - acc: 0.3816 - val_loss: 1.0897 - val_acc: 0.3857\n",
      "Epoch 21/100\n",
      "629/629 [==============================] - 1s 2ms/step - loss: 1.0753 - acc: 0.4070 - val_loss: 1.0906 - val_acc: 0.3857\n",
      "Epoch 22/100\n",
      "629/629 [==============================] - 1s 2ms/step - loss: 1.0789 - acc: 0.3847 - val_loss: 1.0913 - val_acc: 0.3429\n",
      "Epoch 23/100\n",
      "629/629 [==============================] - 1s 2ms/step - loss: 1.0798 - acc: 0.3768 - val_loss: 1.0949 - val_acc: 0.3429\n",
      "Epoch 24/100\n",
      "629/629 [==============================] - 1s 2ms/step - loss: 1.0778 - acc: 0.3863 - val_loss: 1.0925 - val_acc: 0.3429\n",
      "Epoch 25/100\n",
      "629/629 [==============================] - 1s 2ms/step - loss: 1.0799 - acc: 0.3482 - val_loss: 1.0914 - val_acc: 0.3857\n",
      "Epoch 26/100\n",
      "629/629 [==============================] - 1s 2ms/step - loss: 1.0788 - acc: 0.3879 - val_loss: 1.0916 - val_acc: 0.3857\n",
      "Epoch 27/100\n",
      "629/629 [==============================] - 1s 2ms/step - loss: 1.0810 - acc: 0.3625 - val_loss: 1.0915 - val_acc: 0.3429\n",
      "Epoch 28/100\n",
      "629/629 [==============================] - 1s 2ms/step - loss: 1.0804 - acc: 0.3529 - val_loss: 1.0915 - val_acc: 0.3857\n",
      "Epoch 29/100\n",
      "629/629 [==============================] - 1s 2ms/step - loss: 1.0797 - acc: 0.3784 - val_loss: 1.0902 - val_acc: 0.3857\n",
      "Epoch 30/100\n",
      "629/629 [==============================] - 1s 2ms/step - loss: 1.0804 - acc: 0.3625 - val_loss: 1.0925 - val_acc: 0.3429\n",
      "Epoch 31/100\n",
      "629/629 [==============================] - 1s 2ms/step - loss: 1.0779 - acc: 0.3879 - val_loss: 1.0916 - val_acc: 0.3429\n",
      "Epoch 32/100\n",
      "629/629 [==============================] - 1s 2ms/step - loss: 1.0772 - acc: 0.3911 - val_loss: 1.0950 - val_acc: 0.3429\n",
      "Epoch 33/100\n",
      "629/629 [==============================] - 1s 2ms/step - loss: 1.0834 - acc: 0.3736 - val_loss: 1.0918 - val_acc: 0.3857\n",
      "Epoch 34/100\n",
      "629/629 [==============================] - 1s 2ms/step - loss: 1.0762 - acc: 0.3625 - val_loss: 1.0966 - val_acc: 0.3429\n",
      "Epoch 35/100\n",
      "629/629 [==============================] - 1s 2ms/step - loss: 1.0762 - acc: 0.3990 - val_loss: 1.0936 - val_acc: 0.3429\n",
      "Epoch 36/100\n",
      "629/629 [==============================] - 1s 2ms/step - loss: 1.0782 - acc: 0.3863 - val_loss: 1.0927 - val_acc: 0.3429\n",
      "Epoch 37/100\n",
      "629/629 [==============================] - 1s 2ms/step - loss: 1.0749 - acc: 0.3863 - val_loss: 1.0912 - val_acc: 0.3429\n",
      "Epoch 38/100\n",
      "629/629 [==============================] - 1s 2ms/step - loss: 1.0786 - acc: 0.3768 - val_loss: 1.0905 - val_acc: 0.3429\n",
      "Epoch 39/100\n",
      "629/629 [==============================] - 1s 2ms/step - loss: 1.0786 - acc: 0.3784 - val_loss: 1.0924 - val_acc: 0.3429\n",
      "Epoch 40/100\n",
      "629/629 [==============================] - 1s 2ms/step - loss: 1.0829 - acc: 0.3704 - val_loss: 1.0919 - val_acc: 0.3429\n",
      "Epoch 41/100\n",
      "629/629 [==============================] - 1s 2ms/step - loss: 1.0760 - acc: 0.4149 - val_loss: 1.0894 - val_acc: 0.3857\n",
      "Epoch 42/100\n",
      "629/629 [==============================] - 1s 2ms/step - loss: 1.0765 - acc: 0.3927 - val_loss: 1.0921 - val_acc: 0.3429\n",
      "Epoch 43/100\n",
      "629/629 [==============================] - 1s 2ms/step - loss: 1.0775 - acc: 0.3736 - val_loss: 1.0853 - val_acc: 0.3714\n",
      "Epoch 44/100\n",
      "629/629 [==============================] - 1s 2ms/step - loss: 1.0646 - acc: 0.4356 - val_loss: 1.0722 - val_acc: 0.4000\n",
      "Epoch 45/100\n",
      "629/629 [==============================] - 1s 2ms/step - loss: 1.0275 - acc: 0.5072 - val_loss: 1.0249 - val_acc: 0.4286\n",
      "Epoch 46/100\n",
      "629/629 [==============================] - 1s 2ms/step - loss: 0.9350 - acc: 0.5739 - val_loss: 1.0043 - val_acc: 0.5000\n",
      "Epoch 47/100\n",
      "629/629 [==============================] - 1s 2ms/step - loss: 0.9053 - acc: 0.6232 - val_loss: 1.0521 - val_acc: 0.4857\n",
      "Epoch 48/100\n",
      "629/629 [==============================] - 1s 2ms/step - loss: 0.8183 - acc: 0.6486 - val_loss: 1.0230 - val_acc: 0.5571\n",
      "Epoch 49/100\n",
      "629/629 [==============================] - 1s 2ms/step - loss: 0.7678 - acc: 0.6598 - val_loss: 1.0358 - val_acc: 0.5571\n",
      "Epoch 50/100\n",
      "629/629 [==============================] - 1s 2ms/step - loss: 0.7589 - acc: 0.6518 - val_loss: 0.9519 - val_acc: 0.5571\n",
      "Epoch 51/100\n",
      "629/629 [==============================] - 1s 2ms/step - loss: 0.6703 - acc: 0.6852 - val_loss: 1.1183 - val_acc: 0.5429\n",
      "Epoch 52/100\n",
      "629/629 [==============================] - 1s 2ms/step - loss: 0.6984 - acc: 0.6916 - val_loss: 1.0342 - val_acc: 0.5714\n",
      "Epoch 53/100\n",
      "629/629 [==============================] - 1s 1ms/step - loss: 0.6734 - acc: 0.7043 - val_loss: 1.0622 - val_acc: 0.6571\n",
      "Epoch 54/100\n",
      "629/629 [==============================] - 1s 2ms/step - loss: 0.6657 - acc: 0.7107 - val_loss: 1.0536 - val_acc: 0.6857\n",
      "Epoch 55/100\n",
      "629/629 [==============================] - 1s 2ms/step - loss: 0.6312 - acc: 0.7297 - val_loss: 1.0956 - val_acc: 0.6286\n",
      "Epoch 56/100\n",
      "629/629 [==============================] - 1s 2ms/step - loss: 0.5857 - acc: 0.7424 - val_loss: 1.1401 - val_acc: 0.7143\n",
      "Epoch 57/100\n",
      "629/629 [==============================] - 1s 2ms/step - loss: 0.5739 - acc: 0.7440 - val_loss: 1.1604 - val_acc: 0.6429\n",
      "Epoch 58/100\n",
      "629/629 [==============================] - 1s 2ms/step - loss: 0.5867 - acc: 0.7472 - val_loss: 1.0198 - val_acc: 0.7429\n",
      "Epoch 59/100\n",
      "629/629 [==============================] - 1s 2ms/step - loss: 0.5046 - acc: 0.7933 - val_loss: 1.0092 - val_acc: 0.7000\n",
      "Epoch 60/100\n",
      "629/629 [==============================] - 1s 2ms/step - loss: 0.5336 - acc: 0.7711 - val_loss: 1.0747 - val_acc: 0.7143\n",
      "Epoch 61/100\n",
      "629/629 [==============================] - 1s 2ms/step - loss: 0.5136 - acc: 0.7981 - val_loss: 0.9756 - val_acc: 0.7000\n"
     ]
    },
    {
     "name": "stdout",
     "output_type": "stream",
     "text": [
      "Epoch 62/100\n",
      "629/629 [==============================] - 1s 2ms/step - loss: 0.5216 - acc: 0.8076 - val_loss: 1.1189 - val_acc: 0.7000\n",
      "Epoch 63/100\n",
      "629/629 [==============================] - 1s 2ms/step - loss: 0.4716 - acc: 0.8124 - val_loss: 1.1696 - val_acc: 0.7000\n",
      "Epoch 64/100\n",
      "629/629 [==============================] - 1s 2ms/step - loss: 0.4717 - acc: 0.8076 - val_loss: 1.3808 - val_acc: 0.5857\n",
      "Epoch 65/100\n",
      "629/629 [==============================] - 1s 2ms/step - loss: 0.4992 - acc: 0.8045 - val_loss: 1.1646 - val_acc: 0.6571\n",
      "Epoch 66/100\n",
      "629/629 [==============================] - 1s 2ms/step - loss: 0.4576 - acc: 0.8219 - val_loss: 1.0873 - val_acc: 0.7143\n",
      "Epoch 67/100\n",
      "629/629 [==============================] - 1s 2ms/step - loss: 0.4244 - acc: 0.8331 - val_loss: 1.1563 - val_acc: 0.7143\n",
      "Epoch 68/100\n",
      "629/629 [==============================] - 1s 2ms/step - loss: 0.4384 - acc: 0.8235 - val_loss: 1.2359 - val_acc: 0.7143\n",
      "Epoch 69/100\n",
      "629/629 [==============================] - 1s 2ms/step - loss: 0.4657 - acc: 0.8362 - val_loss: 1.2532 - val_acc: 0.6714\n",
      "Epoch 70/100\n",
      "629/629 [==============================] - 1s 2ms/step - loss: 0.4313 - acc: 0.8362 - val_loss: 1.0318 - val_acc: 0.7429\n",
      "Epoch 71/100\n",
      "629/629 [==============================] - 1s 2ms/step - loss: 0.3907 - acc: 0.8617 - val_loss: 1.1885 - val_acc: 0.6571\n",
      "Epoch 72/100\n",
      "629/629 [==============================] - 1s 1ms/step - loss: 0.3402 - acc: 0.8728 - val_loss: 1.2227 - val_acc: 0.7286\n",
      "Epoch 73/100\n",
      "629/629 [==============================] - 1s 2ms/step - loss: 0.3703 - acc: 0.8585 - val_loss: 1.1776 - val_acc: 0.7000\n",
      "Epoch 74/100\n",
      "629/629 [==============================] - 1s 2ms/step - loss: 0.3719 - acc: 0.8728 - val_loss: 1.1037 - val_acc: 0.7143\n",
      "Epoch 75/100\n",
      "629/629 [==============================] - 1s 2ms/step - loss: 0.3516 - acc: 0.8712 - val_loss: 1.1585 - val_acc: 0.7429\n",
      "Epoch 76/100\n",
      "629/629 [==============================] - 1s 2ms/step - loss: 0.3213 - acc: 0.8824 - val_loss: 1.1925 - val_acc: 0.7286\n",
      "Epoch 77/100\n",
      "629/629 [==============================] - 1s 2ms/step - loss: 0.3146 - acc: 0.8792 - val_loss: 1.4348 - val_acc: 0.6286\n",
      "Epoch 78/100\n",
      "629/629 [==============================] - 1s 2ms/step - loss: 0.3788 - acc: 0.8585 - val_loss: 1.2079 - val_acc: 0.7286\n",
      "Epoch 79/100\n",
      "629/629 [==============================] - 1s 2ms/step - loss: 0.3241 - acc: 0.8855 - val_loss: 1.2145 - val_acc: 0.7429\n",
      "Epoch 80/100\n",
      "629/629 [==============================] - 1s 2ms/step - loss: 0.3250 - acc: 0.8808 - val_loss: 1.1309 - val_acc: 0.7286\n",
      "Epoch 81/100\n",
      "629/629 [==============================] - 1s 2ms/step - loss: 0.3423 - acc: 0.8744 - val_loss: 1.1047 - val_acc: 0.7286\n",
      "Epoch 82/100\n",
      "629/629 [==============================] - 1s 2ms/step - loss: 0.2805 - acc: 0.9014 - val_loss: 1.3723 - val_acc: 0.7143\n",
      "Epoch 83/100\n",
      "629/629 [==============================] - 1s 2ms/step - loss: 0.3337 - acc: 0.8776 - val_loss: 1.0888 - val_acc: 0.7429\n",
      "Epoch 84/100\n",
      "629/629 [==============================] - 1s 1ms/step - loss: 0.2412 - acc: 0.9285 - val_loss: 1.2396 - val_acc: 0.7286\n",
      "Epoch 85/100\n",
      "629/629 [==============================] - 1s 2ms/step - loss: 0.3126 - acc: 0.8951 - val_loss: 1.1330 - val_acc: 0.7286\n",
      "Epoch 86/100\n",
      "629/629 [==============================] - 1s 1ms/step - loss: 0.2647 - acc: 0.9062 - val_loss: 1.3044 - val_acc: 0.7429\n",
      "Epoch 87/100\n",
      "629/629 [==============================] - 1s 2ms/step - loss: 0.2754 - acc: 0.8967 - val_loss: 1.2596 - val_acc: 0.7143\n",
      "Epoch 88/100\n",
      "629/629 [==============================] - 1s 2ms/step - loss: 0.2182 - acc: 0.9380 - val_loss: 1.4360 - val_acc: 0.6714\n",
      "Epoch 89/100\n",
      "629/629 [==============================] - 1s 2ms/step - loss: 0.2519 - acc: 0.9126 - val_loss: 1.3428 - val_acc: 0.7143\n",
      "Epoch 90/100\n",
      "629/629 [==============================] - 1s 2ms/step - loss: 0.2501 - acc: 0.9173 - val_loss: 1.1500 - val_acc: 0.7143\n",
      "Epoch 91/100\n",
      "629/629 [==============================] - 1s 2ms/step - loss: 0.2454 - acc: 0.9205 - val_loss: 1.2930 - val_acc: 0.7286\n",
      "Epoch 92/100\n",
      "629/629 [==============================] - 1s 2ms/step - loss: 0.1931 - acc: 0.9348 - val_loss: 1.0896 - val_acc: 0.7286\n",
      "Epoch 93/100\n",
      "629/629 [==============================] - 1s 2ms/step - loss: 0.2739 - acc: 0.9078 - val_loss: 1.2390 - val_acc: 0.7286\n",
      "Epoch 94/100\n",
      "629/629 [==============================] - 1s 2ms/step - loss: 0.2520 - acc: 0.9078 - val_loss: 1.2573 - val_acc: 0.7000\n",
      "Epoch 95/100\n",
      "629/629 [==============================] - 1s 2ms/step - loss: 0.2052 - acc: 0.9237 - val_loss: 1.2375 - val_acc: 0.7000\n",
      "Epoch 96/100\n",
      "629/629 [==============================] - 1s 2ms/step - loss: 0.1875 - acc: 0.9285 - val_loss: 1.3345 - val_acc: 0.7143\n",
      "Epoch 97/100\n",
      "629/629 [==============================] - 1s 2ms/step - loss: 0.2555 - acc: 0.9126 - val_loss: 1.1298 - val_acc: 0.7286\n",
      "Epoch 98/100\n",
      "629/629 [==============================] - 1s 2ms/step - loss: 0.1563 - acc: 0.9459 - val_loss: 1.3685 - val_acc: 0.7429\n",
      "Epoch 99/100\n",
      "629/629 [==============================] - 1s 2ms/step - loss: 0.2240 - acc: 0.9316 - val_loss: 1.4419 - val_acc: 0.6857\n",
      "Epoch 100/100\n",
      "629/629 [==============================] - 1s 2ms/step - loss: 0.1962 - acc: 0.9396 - val_loss: 1.3304 - val_acc: 0.7000\n"
     ]
    }
   ],
   "source": [
    "history = model.fit(X_train, y_train, batch_size=32, epochs=100, verbose=1, validation_split=0.1)"
   ]
  },
  {
   "cell_type": "markdown",
   "metadata": {},
   "source": [
    "### Evaluate model"
   ]
  },
  {
   "cell_type": "code",
   "execution_count": 32,
   "metadata": {},
   "outputs": [
    {
     "name": "stdout",
     "output_type": "stream",
     "text": [
      "298/298 [==============================] - 0s 471us/step\n",
      "Test score: 0.946238966996\n",
      "Test accuracy: 0.708053692075\n"
     ]
    }
   ],
   "source": [
    "score = model.evaluate(X_test, y_test, batch_size=32, verbose=1)\n",
    "print('Test score:', score[0])\n",
    "print('Test accuracy:', score[1])"
   ]
  },
  {
   "cell_type": "code",
   "execution_count": null,
   "metadata": {},
   "outputs": [],
   "source": []
  }
 ],
 "metadata": {
  "anaconda-cloud": {},
  "kernelspec": {
   "display_name": "Python 3",
   "language": "python",
   "name": "python3"
  },
  "language_info": {
   "codemirror_mode": {
    "name": "ipython",
    "version": 3
   },
   "file_extension": ".py",
   "mimetype": "text/x-python",
   "name": "python",
   "nbconvert_exporter": "python",
   "pygments_lexer": "ipython3",
   "version": "3.5.2"
  }
 },
 "nbformat": 4,
 "nbformat_minor": 1
}
