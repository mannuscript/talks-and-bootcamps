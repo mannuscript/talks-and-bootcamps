{
 "cells": [
  {
   "cell_type": "markdown",
   "metadata": {},
   "source": [
    "# Sentiment Analysis (Deep Learning, CNN)\n",
    "\n",
    "In this tutorial, we perform sentiment analysis using deep learning, where we use a basic Convolutional Neural Network (CNN) network structure."
   ]
  },
  {
   "cell_type": "markdown",
   "metadata": {},
   "source": [
    "## Import required packages"
   ]
  },
  {
   "cell_type": "code",
   "execution_count": 1,
   "metadata": {},
   "outputs": [
    {
     "name": "stderr",
     "output_type": "stream",
     "text": [
      "Using TensorFlow backend.\n"
     ]
    }
   ],
   "source": [
    "import os\n",
    "import numpy as np\n",
    "import pandas as pd\n",
    "import csv\n",
    "\n",
    "from keras.preprocessing.text import Tokenizer\n",
    "from keras.preprocessing.sequence import pad_sequences\n",
    "from keras.models import Sequential\n",
    "from keras.layers import Dense, Activation, Conv1D, MaxPooling1D, Flatten, Embedding\n",
    "\n",
    "from sklearn.preprocessing import LabelBinarizer\n",
    "\n",
    "# The next imports are only needed for the preprocessing\n",
    "from nltk.tokenize import TweetTokenizer\n",
    "from nltk.stem import WordNetLemmatizer\n",
    "from utils.nlputil import preprocess_text"
   ]
  },
  {
   "cell_type": "markdown",
   "metadata": {},
   "source": [
    "We need a tokenizer and a lemmatizer for the preprocessing"
   ]
  },
  {
   "cell_type": "code",
   "execution_count": 2,
   "metadata": {},
   "outputs": [],
   "source": [
    "tweet_tokenizer = TweetTokenizer()\n",
    "wordnet_lemmatizer = WordNetLemmatizer()"
   ]
  },
  {
   "cell_type": "markdown",
   "metadata": {},
   "source": [
    "Let's also define a set of parameters we need for later"
   ]
  },
  {
   "cell_type": "code",
   "execution_count": 3,
   "metadata": {},
   "outputs": [],
   "source": [
    "NUM_LABELS = 3       # We have 3 polarity classes\n",
    "MAX_WORDS = 1000     # We only consider the 1,000 most frequent terms\n",
    "EMBEDDING_DIM = 50   # Size of the word vectors"
   ]
  },
  {
   "cell_type": "markdown",
   "metadata": {},
   "source": [
    "## Date preparation"
   ]
  },
  {
   "cell_type": "markdown",
   "metadata": {},
   "source": [
    "### Load data from files"
   ]
  },
  {
   "cell_type": "code",
   "execution_count": 4,
   "metadata": {},
   "outputs": [
    {
     "data": {
      "text/html": [
       "<div>\n",
       "<style scoped>\n",
       "    .dataframe tbody tr th:only-of-type {\n",
       "        vertical-align: middle;\n",
       "    }\n",
       "\n",
       "    .dataframe tbody tr th {\n",
       "        vertical-align: top;\n",
       "    }\n",
       "\n",
       "    .dataframe thead th {\n",
       "        text-align: right;\n",
       "    }\n",
       "</style>\n",
       "<table border=\"1\" class=\"dataframe\">\n",
       "  <thead>\n",
       "    <tr style=\"text-align: right;\">\n",
       "      <th></th>\n",
       "      <th>tweet</th>\n",
       "      <th>senti</th>\n",
       "    </tr>\n",
       "  </thead>\n",
       "  <tbody>\n",
       "    <tr>\n",
       "      <th>0</th>\n",
       "      <td>@united UA5396 can wait for me. I'm on the gro...</td>\n",
       "      <td>0</td>\n",
       "    </tr>\n",
       "    <tr>\n",
       "      <th>1</th>\n",
       "      <td>I hate Time Warner! Soooo wish I had Vios. Can...</td>\n",
       "      <td>0</td>\n",
       "    </tr>\n",
       "    <tr>\n",
       "      <th>2</th>\n",
       "      <td>Tom Shanahan's latest column on SDSU and its N...</td>\n",
       "      <td>2</td>\n",
       "    </tr>\n",
       "    <tr>\n",
       "      <th>3</th>\n",
       "      <td>Found the self driving car!! /IWo3QSvdu2</td>\n",
       "      <td>2</td>\n",
       "    </tr>\n",
       "    <tr>\n",
       "      <th>4</th>\n",
       "      <td>@united arrived in YYZ to take our flight to T...</td>\n",
       "      <td>0</td>\n",
       "    </tr>\n",
       "  </tbody>\n",
       "</table>\n",
       "</div>"
      ],
      "text/plain": [
       "                                               tweet  senti\n",
       "0  @united UA5396 can wait for me. I'm on the gro...      0\n",
       "1  I hate Time Warner! Soooo wish I had Vios. Can...      0\n",
       "2  Tom Shanahan's latest column on SDSU and its N...      2\n",
       "3           Found the self driving car!! /IWo3QSvdu2      2\n",
       "4  @united arrived in YYZ to take our flight to T...      0"
      ]
     },
     "execution_count": 4,
     "metadata": {},
     "output_type": "execute_result"
    }
   ],
   "source": [
    "df_tweets_train = pd.read_csv('data/twitter-sentiment/twitter-sentiment-bowden-training.csv')\n",
    "\n",
    "# Print the first 5 lines\n",
    "df_tweets_train.head()"
   ]
  },
  {
   "cell_type": "markdown",
   "metadata": {},
   "source": [
    "### Preprocess training and test data"
   ]
  },
  {
   "cell_type": "code",
   "execution_count": 5,
   "metadata": {},
   "outputs": [],
   "source": [
    "train_tweets = df_tweets_train['tweet']\n",
    "train_polarities = df_tweets_train['senti']\n",
    "\n",
    "train_tweets_processed = [''] * len(train_tweets)\n",
    "\n",
    "for idx, doc in enumerate(train_tweets):\n",
    "    train_tweets_processed[idx] = preprocess_text(doc, tokenizer=tweet_tokenizer, lemmatizer=wordnet_lemmatizer)"
   ]
  },
  {
   "cell_type": "code",
   "execution_count": 6,
   "metadata": {},
   "outputs": [],
   "source": [
    "df_tweets_test = pd.read_csv('data/twitter-sentiment/twitter-sentiment-bowden-test.csv')\n",
    "\n",
    "test_tweets = df_tweets_test['tweet']\n",
    "test_polarities = df_tweets_test['senti']  \n",
    "\n",
    "test_tweets_processed = [''] * len(test_tweets)\n",
    "\n",
    "for idx, doc in enumerate(test_tweets):\n",
    "    test_tweets_processed[idx] = preprocess_text(doc, tokenizer=tweet_tokenizer, lemmatizer=wordnet_lemmatizer)  "
   ]
  },
  {
   "cell_type": "markdown",
   "metadata": {},
   "source": [
    "### Prepare labels"
   ]
  },
  {
   "cell_type": "code",
   "execution_count": 7,
   "metadata": {},
   "outputs": [
    {
     "name": "stdout",
     "output_type": "stream",
     "text": [
      "[[1 0 0]\n",
      " [1 0 0]\n",
      " [1 0 0]\n",
      " [0 0 1]\n",
      " [1 0 0]\n",
      " [1 0 0]\n",
      " [0 0 1]\n",
      " [1 0 0]\n",
      " [0 0 1]\n",
      " [0 1 0]]\n"
     ]
    }
   ],
   "source": [
    "encoder = LabelBinarizer()\n",
    "encoder.fit(train_polarities)\n",
    "y_train = encoder.transform(train_polarities)\n",
    "y_test = encoder.transform(test_polarities)\n",
    "\n",
    "print(y_test[:10])"
   ]
  },
  {
   "cell_type": "markdown",
   "metadata": {},
   "source": [
    "### Calculate maximum sequence length \n",
    "\n",
    "Most neural networks assume inputs of the same size. Since we are using tweets here which are usually rather short, we can find the longest one (in terms of the number of words) and define its length as the maximum sequence length. In case of longer texts, e.g., reviews, the maximum sequence length is specified a priori to typically a couple of hundred."
   ]
  },
  {
   "cell_type": "code",
   "execution_count": 8,
   "metadata": {},
   "outputs": [
    {
     "name": "stdout",
     "output_type": "stream",
     "text": [
      "Maximum sequence length: 29\n"
     ]
    }
   ],
   "source": [
    "longest_train_tweet = max([len(s.split()) for s in train_tweets_processed])\n",
    "longest_test_tweet = max([len(s.split()) for s in test_tweets_processed])\n",
    "\n",
    "max_seq_len = max(longest_train_tweet, longest_test_tweet)\n",
    "\n",
    "print(\"Maximum sequence length: {}\".format(max_seq_len))"
   ]
  },
  {
   "cell_type": "code",
   "execution_count": 9,
   "metadata": {},
   "outputs": [],
   "source": [
    "tokenizer = Tokenizer(num_words=MAX_WORDS)\n",
    "tokenizer.fit_on_texts(train_tweets_processed)"
   ]
  },
  {
   "cell_type": "code",
   "execution_count": 10,
   "metadata": {},
   "outputs": [
    {
     "name": "stdout",
     "output_type": "stream",
     "text": [
      "Found 2718 unique tokens.\n"
     ]
    }
   ],
   "source": [
    "word_index = tokenizer.word_index\n",
    "print('Found %s unique tokens.' % len(word_index))"
   ]
  },
  {
   "cell_type": "markdown",
   "metadata": {},
   "source": [
    "### Convert strings to sequences\n",
    "\n",
    "The `tokenizer.word_index` each word in the vocabulary to an index. The method `texts_to_sequences` now converts a string into a list of indexes representing the words in the string"
   ]
  },
  {
   "cell_type": "code",
   "execution_count": 11,
   "metadata": {},
   "outputs": [
    {
     "name": "stdout",
     "output_type": "stream",
     "text": [
      "[4, 846, 52, 8, 506, 178, 6, 204, 344, 507, 508]\n",
      "Largest used index: 999\n"
     ]
    }
   ],
   "source": [
    "X_train = tokenizer.texts_to_sequences(train_tweets_processed)\n",
    "X_test = tokenizer.texts_to_sequences(test_tweets_processed)\n",
    "\n",
    "max_idx = max([ max(l) for l in X_train if len(l) > 0])\n",
    "\n",
    "print(X_train[0])\n",
    "print(\"Largest used index: {}\".format(max_idx)) # This should be (MAX_WORDS-1)\n"
   ]
  },
  {
   "cell_type": "markdown",
   "metadata": {},
   "source": [
    "### Sequence padding.\n",
    "\n",
    "We have to ensure that all inputs have the same length. Above, we calculated the maximum length being 29. That means, we have to \"pad\" all tweets that are shorter than that. Keras comes with a handy method for that. `padding='post'` specifies that the padding is done after the last wors. `truncating='post'` is not required in this example; it would cut of words from then end tweets that are too long (which cannot happen here)."
   ]
  },
  {
   "cell_type": "code",
   "execution_count": 12,
   "metadata": {},
   "outputs": [
    {
     "name": "stdout",
     "output_type": "stream",
     "text": [
      "[  4 846  52   8 506 178   6 204 344 507 508   0   0   0   0   0   0   0\n",
      "   0   0   0   0   0   0   0   0   0   0   0]\n",
      "Sequence length: 29\n"
     ]
    }
   ],
   "source": [
    "X_train = pad_sequences(X_train, maxlen=max_seq_len, padding='post', truncating='post')\n",
    "X_test = pad_sequences(X_test, maxlen=max_seq_len, padding='post', truncating='post')\n",
    "\n",
    "print(X_train[0])\n",
    "print(\"Sequence length: {}\".format(len(X_train[0])))"
   ]
  },
  {
   "cell_type": "markdown",
   "metadata": {},
   "source": [
    "## Training the model (without word embeddings)"
   ]
  },
  {
   "cell_type": "markdown",
   "metadata": {},
   "source": [
    "### Using \"raw\" sequences\n",
    "\n",
    "Technically, we can train the network on the word indexes (e.g., `[  4 846  52   8 506 178   6 204 344 507 508   0   0 ...]`) without vecorizing the words. However, as you will see, the performance will be very poor."
   ]
  },
  {
   "cell_type": "code",
   "execution_count": 13,
   "metadata": {},
   "outputs": [],
   "source": [
    "X_train_raw = np.expand_dims(X_train, axis=2)\n",
    "X_test_raw = np.expand_dims(X_test, axis=2)"
   ]
  },
  {
   "cell_type": "code",
   "execution_count": 15,
   "metadata": {},
   "outputs": [
    {
     "name": "stdout",
     "output_type": "stream",
     "text": [
      "_________________________________________________________________\n",
      "Layer (type)                 Output Shape              Param #   \n",
      "=================================================================\n",
      "conv1d_2 (Conv1D)            (None, 25, 128)           768       \n",
      "_________________________________________________________________\n",
      "flatten_2 (Flatten)          (None, 3200)              0         \n",
      "_________________________________________________________________\n",
      "dense_4 (Dense)              (None, 128)               409728    \n",
      "_________________________________________________________________\n",
      "activation_4 (Activation)    (None, 128)               0         \n",
      "_________________________________________________________________\n",
      "dense_5 (Dense)              (None, 64)                8256      \n",
      "_________________________________________________________________\n",
      "activation_5 (Activation)    (None, 64)                0         \n",
      "_________________________________________________________________\n",
      "dense_6 (Dense)              (None, 3)                 195       \n",
      "_________________________________________________________________\n",
      "activation_6 (Activation)    (None, 3)                 0         \n",
      "=================================================================\n",
      "Total params: 418,947\n",
      "Trainable params: 418,947\n",
      "Non-trainable params: 0\n",
      "_________________________________________________________________\n",
      "None\n"
     ]
    }
   ],
   "source": [
    "model_raw = Sequential()\n",
    "model_raw.add(Conv1D(128, 5, activation='relu', input_shape=(max_seq_len, 1)))\n",
    "#model_raw.add(MaxPooling1D(5))\n",
    "model_raw.add(Flatten())\n",
    "model_raw.add(Dense(128))\n",
    "model_raw.add(Activation('relu'))\n",
    "model_raw.add(Dense(64)) \n",
    "model_raw.add(Activation('relu'))\n",
    "model_raw.add(Dense(NUM_LABELS))\n",
    "model_raw.add(Activation('softmax'))\n",
    "\n",
    "print(model_raw.summary())"
   ]
  },
  {
   "cell_type": "code",
   "execution_count": 16,
   "metadata": {},
   "outputs": [],
   "source": [
    "model_raw.compile(loss='categorical_crossentropy', optimizer='adam', metrics=['accuracy'])"
   ]
  },
  {
   "cell_type": "code",
   "execution_count": 17,
   "metadata": {},
   "outputs": [
    {
     "name": "stdout",
     "output_type": "stream",
     "text": [
      "Train on 629 samples, validate on 70 samples\n",
      "Epoch 1/20\n",
      "629/629 [==============================] - 0s 569us/step - loss: 7.0886 - acc: 0.3847 - val_loss: 5.2577 - val_acc: 0.4571\n",
      "Epoch 2/20\n",
      "629/629 [==============================] - 0s 283us/step - loss: 4.7635 - acc: 0.3943 - val_loss: 3.6985 - val_acc: 0.4143\n",
      "Epoch 3/20\n",
      "629/629 [==============================] - 0s 333us/step - loss: 3.8694 - acc: 0.3879 - val_loss: 4.0131 - val_acc: 0.3286\n",
      "Epoch 4/20\n",
      "629/629 [==============================] - 0s 296us/step - loss: 3.0929 - acc: 0.3943 - val_loss: 3.6769 - val_acc: 0.2714\n",
      "Epoch 5/20\n",
      "629/629 [==============================] - 0s 293us/step - loss: 2.2652 - acc: 0.4324 - val_loss: 2.7042 - val_acc: 0.3143\n",
      "Epoch 6/20\n",
      "629/629 [==============================] - 0s 306us/step - loss: 1.8462 - acc: 0.4785 - val_loss: 2.4881 - val_acc: 0.3143\n",
      "Epoch 7/20\n",
      "629/629 [==============================] - 0s 317us/step - loss: 1.7028 - acc: 0.4277 - val_loss: 2.4556 - val_acc: 0.2571\n",
      "Epoch 8/20\n",
      "629/629 [==============================] - 0s 333us/step - loss: 1.4052 - acc: 0.4928 - val_loss: 2.0663 - val_acc: 0.2143\n",
      "Epoch 9/20\n",
      "629/629 [==============================] - 0s 333us/step - loss: 1.1123 - acc: 0.5501 - val_loss: 2.1226 - val_acc: 0.2714\n",
      "Epoch 10/20\n",
      "629/629 [==============================] - 0s 329us/step - loss: 0.9717 - acc: 0.5739 - val_loss: 1.6678 - val_acc: 0.3143\n",
      "Epoch 11/20\n",
      "629/629 [==============================] - 0s 310us/step - loss: 0.8189 - acc: 0.6296 - val_loss: 1.6151 - val_acc: 0.2857\n",
      "Epoch 12/20\n",
      "629/629 [==============================] - 0s 355us/step - loss: 0.7601 - acc: 0.6343 - val_loss: 1.5116 - val_acc: 0.3000\n",
      "Epoch 13/20\n",
      "629/629 [==============================] - 0s 304us/step - loss: 0.6972 - acc: 0.6789 - val_loss: 1.7300 - val_acc: 0.2857\n",
      "Epoch 14/20\n",
      "629/629 [==============================] - 0s 304us/step - loss: 0.6709 - acc: 0.6741 - val_loss: 1.6488 - val_acc: 0.2857\n",
      "Epoch 15/20\n",
      "629/629 [==============================] - 0s 340us/step - loss: 0.6368 - acc: 0.7075 - val_loss: 1.7896 - val_acc: 0.3000\n",
      "Epoch 16/20\n",
      "629/629 [==============================] - 0s 300us/step - loss: 0.6328 - acc: 0.7170 - val_loss: 1.7760 - val_acc: 0.3000\n",
      "Epoch 17/20\n",
      "629/629 [==============================] - 0s 329us/step - loss: 0.6178 - acc: 0.7329 - val_loss: 1.7449 - val_acc: 0.3000\n",
      "Epoch 18/20\n",
      "629/629 [==============================] - 0s 313us/step - loss: 0.5802 - acc: 0.7361 - val_loss: 1.8045 - val_acc: 0.2857\n",
      "Epoch 19/20\n",
      "629/629 [==============================] - 0s 299us/step - loss: 0.5706 - acc: 0.7281 - val_loss: 1.9221 - val_acc: 0.2714\n",
      "Epoch 20/20\n",
      "629/629 [==============================] - 0s 304us/step - loss: 0.5987 - acc: 0.7409 - val_loss: 1.8221 - val_acc: 0.3000\n"
     ]
    }
   ],
   "source": [
    "history_raw = model_raw.fit(X_train_raw, y_train, batch_size=32, epochs=20, verbose=1, validation_split=0.1)"
   ]
  },
  {
   "cell_type": "code",
   "execution_count": 18,
   "metadata": {},
   "outputs": [
    {
     "name": "stdout",
     "output_type": "stream",
     "text": [
      "298/298 [==============================] - 0s 89us/step\n",
      "Test score: 1.50831632326\n",
      "Test accuracy: 0.402684563758\n"
     ]
    }
   ],
   "source": [
    "score_raw = model_raw.evaluate(X_test_raw, y_test, batch_size=32, verbose=1)\n",
    "print('Test score:', score_raw[0])\n",
    "print('Test accuracy:', score_raw[1])"
   ]
  },
  {
   "cell_type": "markdown",
   "metadata": {},
   "source": [
    "### Using one-hot word vectors\n",
    "\n",
    "Here, we vectorize each word by converting them into one-hot vectors. Each vector has the length 1,000 (as size of the vocabulary, the 1,000 most frequent words).\n",
    "\n",
    "Instead of using the `Tokenizer` class of Keras, we do the conversion manually for illustration."
   ]
  },
  {
   "cell_type": "code",
   "execution_count": 19,
   "metadata": {},
   "outputs": [],
   "source": [
    "def convert_to_word_onehot(X):\n",
    "    X_onehot = np.empty(shape=(X.shape[0], X.shape[1], MAX_WORDS))\n",
    "    for seq_idx, seq in enumerate(X):\n",
    "        for word_idx, word in enumerate(seq):\n",
    "            if word > 0:\n",
    "                X_onehot[seq_idx, word_idx, word] = 1\n",
    "    return X_onehot\n",
    "        \n",
    "X_train_onehot = convert_to_word_onehot(X_train)  \n",
    "X_test_onehot = convert_to_word_onehot(X_test)  "
   ]
  },
  {
   "cell_type": "code",
   "execution_count": 21,
   "metadata": {},
   "outputs": [
    {
     "name": "stdout",
     "output_type": "stream",
     "text": [
      "_________________________________________________________________\n",
      "Layer (type)                 Output Shape              Param #   \n",
      "=================================================================\n",
      "conv1d_4 (Conv1D)            (None, 25, 128)           640128    \n",
      "_________________________________________________________________\n",
      "flatten_4 (Flatten)          (None, 3200)              0         \n",
      "_________________________________________________________________\n",
      "dense_10 (Dense)             (None, 128)               409728    \n",
      "_________________________________________________________________\n",
      "activation_10 (Activation)   (None, 128)               0         \n",
      "_________________________________________________________________\n",
      "dense_11 (Dense)             (None, 64)                8256      \n",
      "_________________________________________________________________\n",
      "activation_11 (Activation)   (None, 64)                0         \n",
      "_________________________________________________________________\n",
      "dense_12 (Dense)             (None, 3)                 195       \n",
      "_________________________________________________________________\n",
      "activation_12 (Activation)   (None, 3)                 0         \n",
      "=================================================================\n",
      "Total params: 1,058,307\n",
      "Trainable params: 1,058,307\n",
      "Non-trainable params: 0\n",
      "_________________________________________________________________\n",
      "None\n"
     ]
    }
   ],
   "source": [
    "model_onehot = Sequential()\n",
    "model_onehot.add(Conv1D(128, 5, activation='relu', input_shape=(max_seq_len, MAX_WORDS)))\n",
    "#model_onehot.add(MaxPooling1D(5))\n",
    "model_onehot.add(Flatten())\n",
    "model_onehot.add(Dense(128))\n",
    "model_onehot.add(Activation('relu'))\n",
    "model_onehot.add(Dense(64)) \n",
    "model_onehot.add(Activation('relu'))\n",
    "model_onehot.add(Dense(NUM_LABELS))\n",
    "model_onehot.add(Activation('softmax'))\n",
    "\n",
    "print(model_onehot.summary())"
   ]
  },
  {
   "cell_type": "code",
   "execution_count": 22,
   "metadata": {},
   "outputs": [],
   "source": [
    "model_onehot.compile(loss='categorical_crossentropy', optimizer='adam', metrics=['accuracy'])"
   ]
  },
  {
   "cell_type": "code",
   "execution_count": 23,
   "metadata": {},
   "outputs": [
    {
     "name": "stdout",
     "output_type": "stream",
     "text": [
      "Train on 629 samples, validate on 70 samples\n",
      "Epoch 1/20\n",
      "629/629 [==============================] - 2s 2ms/step - loss: 1.0842 - acc: 0.3847 - val_loss: 1.0729 - val_acc: 0.3429\n",
      "Epoch 2/20\n",
      "629/629 [==============================] - 1s 2ms/step - loss: 0.9290 - acc: 0.5978 - val_loss: 1.0125 - val_acc: 0.5143\n",
      "Epoch 3/20\n",
      "629/629 [==============================] - 1s 2ms/step - loss: 0.4942 - acc: 0.7965 - val_loss: 0.9585 - val_acc: 0.6000\n",
      "Epoch 4/20\n",
      "629/629 [==============================] - 1s 2ms/step - loss: 0.1642 - acc: 0.9698 - val_loss: 1.1953 - val_acc: 0.5571\n",
      "Epoch 5/20\n",
      "629/629 [==============================] - 1s 2ms/step - loss: 0.0531 - acc: 0.9889 - val_loss: 1.3428 - val_acc: 0.5857\n",
      "Epoch 6/20\n",
      "629/629 [==============================] - 1s 2ms/step - loss: 0.0233 - acc: 0.9936 - val_loss: 1.5596 - val_acc: 0.5571\n",
      "Epoch 7/20\n",
      "629/629 [==============================] - 1s 2ms/step - loss: 0.0150 - acc: 0.9968 - val_loss: 1.5831 - val_acc: 0.6143\n",
      "Epoch 8/20\n",
      "629/629 [==============================] - 1s 2ms/step - loss: 0.0068 - acc: 0.9984 - val_loss: 1.7998 - val_acc: 0.5571\n",
      "Epoch 9/20\n",
      "629/629 [==============================] - 1s 2ms/step - loss: 0.0048 - acc: 1.0000 - val_loss: 1.6203 - val_acc: 0.6000\n",
      "Epoch 10/20\n",
      "629/629 [==============================] - 1s 2ms/step - loss: 0.0028 - acc: 1.0000 - val_loss: 1.6003 - val_acc: 0.6143\n",
      "Epoch 11/20\n",
      "629/629 [==============================] - 1s 2ms/step - loss: 0.0020 - acc: 1.0000 - val_loss: 1.6456 - val_acc: 0.6000\n",
      "Epoch 12/20\n",
      "629/629 [==============================] - 1s 2ms/step - loss: 0.0015 - acc: 1.0000 - val_loss: 1.7356 - val_acc: 0.6143\n",
      "Epoch 13/20\n",
      "629/629 [==============================] - 1s 2ms/step - loss: 0.0012 - acc: 1.0000 - val_loss: 1.6394 - val_acc: 0.6000\n",
      "Epoch 14/20\n",
      "629/629 [==============================] - 1s 2ms/step - loss: 9.9385e-04 - acc: 1.0000 - val_loss: 1.6987 - val_acc: 0.6286\n",
      "Epoch 15/20\n",
      "629/629 [==============================] - 1s 2ms/step - loss: 8.0467e-04 - acc: 1.0000 - val_loss: 1.6960 - val_acc: 0.6143\n",
      "Epoch 16/20\n",
      "629/629 [==============================] - 1s 2ms/step - loss: 6.7578e-04 - acc: 1.0000 - val_loss: 1.7056 - val_acc: 0.6000\n",
      "Epoch 17/20\n",
      "629/629 [==============================] - 1s 2ms/step - loss: 6.1586e-04 - acc: 1.0000 - val_loss: 1.6868 - val_acc: 0.6286\n",
      "Epoch 18/20\n",
      "629/629 [==============================] - 1s 2ms/step - loss: 5.0854e-04 - acc: 1.0000 - val_loss: 1.7136 - val_acc: 0.6286\n",
      "Epoch 19/20\n",
      "629/629 [==============================] - 1s 2ms/step - loss: 4.4049e-04 - acc: 1.0000 - val_loss: 1.7703 - val_acc: 0.6286\n",
      "Epoch 20/20\n",
      "629/629 [==============================] - 1s 2ms/step - loss: 4.1107e-04 - acc: 1.0000 - val_loss: 1.7195 - val_acc: 0.6143\n"
     ]
    }
   ],
   "source": [
    "history_onehot = model_onehot.fit(X_train_onehot, y_train, batch_size=32, epochs=20, verbose=1, validation_split=0.1)"
   ]
  },
  {
   "cell_type": "code",
   "execution_count": 24,
   "metadata": {},
   "outputs": [
    {
     "name": "stdout",
     "output_type": "stream",
     "text": [
      "298/298 [==============================] - 0s 894us/step\n",
      "Test score: 1.49082253283\n",
      "Test accuracy: 0.640939596915\n"
     ]
    }
   ],
   "source": [
    "score_onehot = model_onehot.evaluate(X_test_onehot, y_test, batch_size=32, verbose=1)\n",
    "print('Test score:', score_onehot[0])\n",
    "print('Test accuracy:', score_onehot[1])"
   ]
  },
  {
   "cell_type": "markdown",
   "metadata": {},
   "source": [
    "## Training the model (with word embeddings)\n",
    "\n",
    "Finally, we use word embeddings. 3 ways to do so are possible:\n",
    "\n",
    "* Embedding layer with randomly initialized weights\n",
    "\n",
    "* Embedding layer with pretrained weights (trainable: the weights will be update during training)\n",
    "\n",
    "* Embedding layer with pretrained weights (not trainable: the weights won't be updated during training)"
   ]
  },
  {
   "cell_type": "markdown",
   "metadata": {},
   "source": [
    "### Load pretrained word embeddings (GloVe)"
   ]
  },
  {
   "cell_type": "code",
   "execution_count": 25,
   "metadata": {},
   "outputs": [
    {
     "data": {
      "text/html": [
       "<div>\n",
       "<style scoped>\n",
       "    .dataframe tbody tr th:only-of-type {\n",
       "        vertical-align: middle;\n",
       "    }\n",
       "\n",
       "    .dataframe tbody tr th {\n",
       "        vertical-align: top;\n",
       "    }\n",
       "\n",
       "    .dataframe thead th {\n",
       "        text-align: right;\n",
       "    }\n",
       "</style>\n",
       "<table border=\"1\" class=\"dataframe\">\n",
       "  <thead>\n",
       "    <tr style=\"text-align: right;\">\n",
       "      <th></th>\n",
       "      <th>1</th>\n",
       "      <th>2</th>\n",
       "      <th>3</th>\n",
       "      <th>4</th>\n",
       "      <th>5</th>\n",
       "      <th>6</th>\n",
       "      <th>7</th>\n",
       "      <th>8</th>\n",
       "      <th>9</th>\n",
       "      <th>10</th>\n",
       "      <th>...</th>\n",
       "      <th>41</th>\n",
       "      <th>42</th>\n",
       "      <th>43</th>\n",
       "      <th>44</th>\n",
       "      <th>45</th>\n",
       "      <th>46</th>\n",
       "      <th>47</th>\n",
       "      <th>48</th>\n",
       "      <th>49</th>\n",
       "      <th>50</th>\n",
       "    </tr>\n",
       "    <tr>\n",
       "      <th>0</th>\n",
       "      <th></th>\n",
       "      <th></th>\n",
       "      <th></th>\n",
       "      <th></th>\n",
       "      <th></th>\n",
       "      <th></th>\n",
       "      <th></th>\n",
       "      <th></th>\n",
       "      <th></th>\n",
       "      <th></th>\n",
       "      <th></th>\n",
       "      <th></th>\n",
       "      <th></th>\n",
       "      <th></th>\n",
       "      <th></th>\n",
       "      <th></th>\n",
       "      <th></th>\n",
       "      <th></th>\n",
       "      <th></th>\n",
       "      <th></th>\n",
       "      <th></th>\n",
       "    </tr>\n",
       "  </thead>\n",
       "  <tbody>\n",
       "    <tr>\n",
       "      <th>the</th>\n",
       "      <td>0.418000</td>\n",
       "      <td>0.249680</td>\n",
       "      <td>-0.41242</td>\n",
       "      <td>0.12170</td>\n",
       "      <td>0.34527</td>\n",
       "      <td>-0.044457</td>\n",
       "      <td>-0.49688</td>\n",
       "      <td>-0.17862</td>\n",
       "      <td>-0.00066</td>\n",
       "      <td>-0.656600</td>\n",
       "      <td>...</td>\n",
       "      <td>-0.298710</td>\n",
       "      <td>-0.157490</td>\n",
       "      <td>-0.347580</td>\n",
       "      <td>-0.045637</td>\n",
       "      <td>-0.44251</td>\n",
       "      <td>0.187850</td>\n",
       "      <td>0.002785</td>\n",
       "      <td>-0.184110</td>\n",
       "      <td>-0.115140</td>\n",
       "      <td>-0.78581</td>\n",
       "    </tr>\n",
       "    <tr>\n",
       "      <th>,</th>\n",
       "      <td>0.013441</td>\n",
       "      <td>0.236820</td>\n",
       "      <td>-0.16899</td>\n",
       "      <td>0.40951</td>\n",
       "      <td>0.63812</td>\n",
       "      <td>0.477090</td>\n",
       "      <td>-0.42852</td>\n",
       "      <td>-0.55641</td>\n",
       "      <td>-0.36400</td>\n",
       "      <td>-0.239380</td>\n",
       "      <td>...</td>\n",
       "      <td>-0.080262</td>\n",
       "      <td>0.630030</td>\n",
       "      <td>0.321110</td>\n",
       "      <td>-0.467650</td>\n",
       "      <td>0.22786</td>\n",
       "      <td>0.360340</td>\n",
       "      <td>-0.378180</td>\n",
       "      <td>-0.566570</td>\n",
       "      <td>0.044691</td>\n",
       "      <td>0.30392</td>\n",
       "    </tr>\n",
       "    <tr>\n",
       "      <th>.</th>\n",
       "      <td>0.151640</td>\n",
       "      <td>0.301770</td>\n",
       "      <td>-0.16763</td>\n",
       "      <td>0.17684</td>\n",
       "      <td>0.31719</td>\n",
       "      <td>0.339730</td>\n",
       "      <td>-0.43478</td>\n",
       "      <td>-0.31086</td>\n",
       "      <td>-0.44999</td>\n",
       "      <td>-0.294860</td>\n",
       "      <td>...</td>\n",
       "      <td>-0.000064</td>\n",
       "      <td>0.068987</td>\n",
       "      <td>0.087939</td>\n",
       "      <td>-0.102850</td>\n",
       "      <td>-0.13931</td>\n",
       "      <td>0.223140</td>\n",
       "      <td>-0.080803</td>\n",
       "      <td>-0.356520</td>\n",
       "      <td>0.016413</td>\n",
       "      <td>0.10216</td>\n",
       "    </tr>\n",
       "    <tr>\n",
       "      <th>of</th>\n",
       "      <td>0.708530</td>\n",
       "      <td>0.570880</td>\n",
       "      <td>-0.47160</td>\n",
       "      <td>0.18048</td>\n",
       "      <td>0.54449</td>\n",
       "      <td>0.726030</td>\n",
       "      <td>0.18157</td>\n",
       "      <td>-0.52393</td>\n",
       "      <td>0.10381</td>\n",
       "      <td>-0.175660</td>\n",
       "      <td>...</td>\n",
       "      <td>-0.347270</td>\n",
       "      <td>0.284830</td>\n",
       "      <td>0.075693</td>\n",
       "      <td>-0.062178</td>\n",
       "      <td>-0.38988</td>\n",
       "      <td>0.229020</td>\n",
       "      <td>-0.216170</td>\n",
       "      <td>-0.225620</td>\n",
       "      <td>-0.093918</td>\n",
       "      <td>-0.80375</td>\n",
       "    </tr>\n",
       "    <tr>\n",
       "      <th>to</th>\n",
       "      <td>0.680470</td>\n",
       "      <td>-0.039263</td>\n",
       "      <td>0.30186</td>\n",
       "      <td>-0.17792</td>\n",
       "      <td>0.42962</td>\n",
       "      <td>0.032246</td>\n",
       "      <td>-0.41376</td>\n",
       "      <td>0.13228</td>\n",
       "      <td>-0.29847</td>\n",
       "      <td>-0.085253</td>\n",
       "      <td>...</td>\n",
       "      <td>-0.094375</td>\n",
       "      <td>0.018324</td>\n",
       "      <td>0.210480</td>\n",
       "      <td>-0.030880</td>\n",
       "      <td>-0.19722</td>\n",
       "      <td>0.082279</td>\n",
       "      <td>-0.094340</td>\n",
       "      <td>-0.073297</td>\n",
       "      <td>-0.064699</td>\n",
       "      <td>-0.26044</td>\n",
       "    </tr>\n",
       "  </tbody>\n",
       "</table>\n",
       "<p>5 rows × 50 columns</p>\n",
       "</div>"
      ],
      "text/plain": [
       "           1         2        3        4        5         6        7   \\\n",
       "0                                                                       \n",
       "the  0.418000  0.249680 -0.41242  0.12170  0.34527 -0.044457 -0.49688   \n",
       ",    0.013441  0.236820 -0.16899  0.40951  0.63812  0.477090 -0.42852   \n",
       ".    0.151640  0.301770 -0.16763  0.17684  0.31719  0.339730 -0.43478   \n",
       "of   0.708530  0.570880 -0.47160  0.18048  0.54449  0.726030  0.18157   \n",
       "to   0.680470 -0.039263  0.30186 -0.17792  0.42962  0.032246 -0.41376   \n",
       "\n",
       "          8        9         10   ...           41        42        43  \\\n",
       "0                                 ...                                    \n",
       "the -0.17862 -0.00066 -0.656600   ...    -0.298710 -0.157490 -0.347580   \n",
       ",   -0.55641 -0.36400 -0.239380   ...    -0.080262  0.630030  0.321110   \n",
       ".   -0.31086 -0.44999 -0.294860   ...    -0.000064  0.068987  0.087939   \n",
       "of  -0.52393  0.10381 -0.175660   ...    -0.347270  0.284830  0.075693   \n",
       "to   0.13228 -0.29847 -0.085253   ...    -0.094375  0.018324  0.210480   \n",
       "\n",
       "           44       45        46        47        48        49       50  \n",
       "0                                                                        \n",
       "the -0.045637 -0.44251  0.187850  0.002785 -0.184110 -0.115140 -0.78581  \n",
       ",   -0.467650  0.22786  0.360340 -0.378180 -0.566570  0.044691  0.30392  \n",
       ".   -0.102850 -0.13931  0.223140 -0.080803 -0.356520  0.016413  0.10216  \n",
       "of  -0.062178 -0.38988  0.229020 -0.216170 -0.225620 -0.093918 -0.80375  \n",
       "to  -0.030880 -0.19722  0.082279 -0.094340 -0.073297 -0.064699 -0.26044  \n",
       "\n",
       "[5 rows x 50 columns]"
      ]
     },
     "execution_count": 25,
     "metadata": {},
     "output_type": "execute_result"
    }
   ],
   "source": [
    "df_glove = pd.read_table('data/pretrained-word-vectors/glove.6B.50d.txt', sep=\" \", index_col=0, header=None, quoting=csv.QUOTE_NONE)\n",
    "\n",
    "# Print the first 5 lines\n",
    "df_glove.head()"
   ]
  },
  {
   "cell_type": "code",
   "execution_count": 26,
   "metadata": {},
   "outputs": [
    {
     "name": "stdout",
     "output_type": "stream",
     "text": [
      "1    -0.058880\n",
      "2    -0.114330\n",
      "3     0.091460\n",
      "4    -0.778940\n",
      "5     1.950600\n",
      "6     0.218560\n",
      "7    -0.139900\n",
      "8     1.074100\n",
      "9     0.033428\n",
      "10   -1.533700\n",
      "11    0.282160\n",
      "12   -0.767850\n",
      "13   -0.139840\n",
      "14    0.192400\n",
      "15    0.192250\n",
      "16   -1.037200\n",
      "17   -0.483610\n",
      "18    0.567100\n",
      "19   -0.879310\n",
      "20    0.598970\n",
      "21   -0.667220\n",
      "22    1.227400\n",
      "23   -0.190130\n",
      "24    0.000916\n",
      "25    0.047809\n",
      "26   -1.953500\n",
      "27   -0.583520\n",
      "28   -0.345640\n",
      "29    0.611330\n",
      "30    0.530760\n",
      "31    1.878600\n",
      "32   -0.884640\n",
      "33   -0.795120\n",
      "34    0.269860\n",
      "35    0.456810\n",
      "36    1.119200\n",
      "37    0.219990\n",
      "38   -0.963350\n",
      "39   -0.194830\n",
      "40   -0.224560\n",
      "41    0.385940\n",
      "42    0.099907\n",
      "43    0.301910\n",
      "44   -0.846750\n",
      "45    1.072900\n",
      "46   -0.901990\n",
      "47   -0.183620\n",
      "48   -0.192430\n",
      "49   -0.044231\n",
      "50   -0.125190\n",
      "Name: soldier, dtype: float64\n"
     ]
    }
   ],
   "source": [
    "print(df_glove.loc[\"soldier\"])"
   ]
  },
  {
   "cell_type": "markdown",
   "metadata": {},
   "source": [
    "We first need to convert the loaded word vectors into form that we can provide the `Embedding` layer as an input (see below).\n",
    "\n",
    "Pretrained word embeddings are trained over large datasets like news articles or Wikipedia pages. However, there is no guarantee that they cover all words in the vocabulary of a dataset. This is particularly true for social media content where user write all kinds of words and non-words. To get some idea, let's calculate the ration of words in our vocabulary that are not part of the pretrained word vectors."
   ]
  },
  {
   "cell_type": "code",
   "execution_count": 27,
   "metadata": {},
   "outputs": [
    {
     "name": "stdout",
     "output_type": "stream",
     "text": [
      "Number of words not in the pretrained set: 523\n",
      "Ratio of words not in the pretrained set: 0.19\n"
     ]
    }
   ],
   "source": [
    "oov_words = set()\n",
    "\n",
    "embedding_matrix = np.random.random((MAX_WORDS, EMBEDDING_DIM))\n",
    "for word, i in word_index.items():\n",
    "    try:\n",
    "        embedding_vector = df_glove.loc[word].as_matrix()\n",
    "        try:\n",
    "            embedding_matrix[i] = embedding_vector\n",
    "        except:\n",
    "            pass\n",
    "        #print(\">>>>\", word)\n",
    "    except Exception as e:\n",
    "        oov_words.add(word)\n",
    "        \n",
    "        \n",
    "print(\"Number of words not in the pretrained set: {}\".format(len(oov_words)))\n",
    "print(\"Ratio of words not in the pretrained set: {:.2}\".format(len(oov_words)/len(word_index)))"
   ]
  },
  {
   "cell_type": "markdown",
   "metadata": {},
   "source": [
    "### Define network model\n",
    "\n",
    "This model now has an `Embedding` layer. By choose on the 3 respective lines of code you can choose how you want to initialize the layer (random vs. pretrained) and if the weights are updated during training or not (trainable vs. non-trainable)."
   ]
  },
  {
   "cell_type": "code",
   "execution_count": 28,
   "metadata": {},
   "outputs": [
    {
     "name": "stdout",
     "output_type": "stream",
     "text": [
      "_________________________________________________________________\n",
      "Layer (type)                 Output Shape              Param #   \n",
      "=================================================================\n",
      "embedding_1 (Embedding)      (None, 29, 50)            50000     \n",
      "_________________________________________________________________\n",
      "conv1d_5 (Conv1D)            (None, 25, 128)           32128     \n",
      "_________________________________________________________________\n",
      "flatten_5 (Flatten)          (None, 3200)              0         \n",
      "_________________________________________________________________\n",
      "dense_13 (Dense)             (None, 128)               409728    \n",
      "_________________________________________________________________\n",
      "activation_13 (Activation)   (None, 128)               0         \n",
      "_________________________________________________________________\n",
      "dense_14 (Dense)             (None, 64)                8256      \n",
      "_________________________________________________________________\n",
      "activation_14 (Activation)   (None, 64)                0         \n",
      "_________________________________________________________________\n",
      "dense_15 (Dense)             (None, 3)                 195       \n",
      "_________________________________________________________________\n",
      "activation_15 (Activation)   (None, 3)                 0         \n",
      "=================================================================\n",
      "Total params: 500,307\n",
      "Trainable params: 500,307\n",
      "Non-trainable params: 0\n",
      "_________________________________________________________________\n",
      "None\n"
     ]
    }
   ],
   "source": [
    "model_embed = Sequential()\n",
    "\n",
    "# Choose one of the following lines\n",
    "#model_embed.add(Embedding(MAX_WORDS, EMBEDDING_DIM, input_length=max_seq_len))\n",
    "#model_embed.add(Embedding(MAX_WORDS, EMBEDDING_DIM, input_length=max_seq_len, weights=[embedding_matrix], trainable=False))\n",
    "model_embed.add(Embedding(MAX_WORDS, EMBEDDING_DIM, input_length=max_seq_len, weights=[embedding_matrix], trainable=True))\n",
    "\n",
    "model_embed.add(Conv1D(128, 5, activation='relu'))\n",
    "#model_embed.add(MaxPooling1D(5))\n",
    "model_embed.add(Flatten())\n",
    "model_embed.add(Dense(128))\n",
    "model_embed.add(Activation('relu'))\n",
    "model_embed.add(Dense(64)) \n",
    "model_embed.add(Activation('relu'))\n",
    "model_embed.add(Dense(NUM_LABELS))\n",
    "model_embed.add(Activation('softmax'))\n",
    "\n",
    "print(model_embed.summary())"
   ]
  },
  {
   "cell_type": "markdown",
   "metadata": {},
   "source": [
    "### Compile model"
   ]
  },
  {
   "cell_type": "code",
   "execution_count": 29,
   "metadata": {},
   "outputs": [],
   "source": [
    "model_embed.compile(loss='categorical_crossentropy', optimizer='adam', metrics=['accuracy'])"
   ]
  },
  {
   "cell_type": "markdown",
   "metadata": {},
   "source": [
    "### Train model"
   ]
  },
  {
   "cell_type": "code",
   "execution_count": 30,
   "metadata": {},
   "outputs": [
    {
     "name": "stdout",
     "output_type": "stream",
     "text": [
      "Train on 629 samples, validate on 70 samples\n",
      "Epoch 1/20\n",
      "629/629 [==============================] - 1s 895us/step - loss: 1.0900 - acc: 0.3800 - val_loss: 1.0462 - val_acc: 0.4429\n",
      "Epoch 2/20\n",
      "629/629 [==============================] - 0s 475us/step - loss: 0.9526 - acc: 0.5437 - val_loss: 1.0396 - val_acc: 0.4857\n",
      "Epoch 3/20\n",
      "629/629 [==============================] - 0s 461us/step - loss: 0.7590 - acc: 0.6979 - val_loss: 0.9917 - val_acc: 0.5286\n",
      "Epoch 4/20\n",
      "629/629 [==============================] - 0s 479us/step - loss: 0.6037 - acc: 0.7647 - val_loss: 1.1026 - val_acc: 0.5714\n",
      "Epoch 5/20\n",
      "629/629 [==============================] - 0s 499us/step - loss: 0.4080 - acc: 0.8458 - val_loss: 1.1731 - val_acc: 0.6000\n",
      "Epoch 6/20\n",
      "629/629 [==============================] - 0s 497us/step - loss: 0.2491 - acc: 0.9221 - val_loss: 1.1843 - val_acc: 0.6429\n",
      "Epoch 7/20\n",
      "629/629 [==============================] - 0s 493us/step - loss: 0.1472 - acc: 0.9523 - val_loss: 1.1602 - val_acc: 0.6429\n",
      "Epoch 8/20\n",
      "629/629 [==============================] - 0s 457us/step - loss: 0.0921 - acc: 0.9762 - val_loss: 1.2576 - val_acc: 0.6571\n",
      "Epoch 9/20\n",
      "629/629 [==============================] - 0s 476us/step - loss: 0.0529 - acc: 0.9889 - val_loss: 1.4462 - val_acc: 0.6429\n",
      "Epoch 10/20\n",
      "629/629 [==============================] - 0s 459us/step - loss: 0.0369 - acc: 0.9936 - val_loss: 1.4512 - val_acc: 0.6714\n",
      "Epoch 11/20\n",
      "629/629 [==============================] - 0s 492us/step - loss: 0.0237 - acc: 0.9984 - val_loss: 1.5134 - val_acc: 0.6857\n",
      "Epoch 12/20\n",
      "629/629 [==============================] - 0s 477us/step - loss: 0.0148 - acc: 0.9984 - val_loss: 1.5845 - val_acc: 0.6857\n",
      "Epoch 13/20\n",
      "629/629 [==============================] - 0s 503us/step - loss: 0.0118 - acc: 1.0000 - val_loss: 1.6894 - val_acc: 0.6571\n",
      "Epoch 14/20\n",
      "629/629 [==============================] - 0s 501us/step - loss: 0.0075 - acc: 1.0000 - val_loss: 1.7101 - val_acc: 0.6714\n",
      "Epoch 15/20\n",
      "629/629 [==============================] - 0s 485us/step - loss: 0.0055 - acc: 1.0000 - val_loss: 1.6956 - val_acc: 0.6857\n",
      "Epoch 16/20\n",
      "629/629 [==============================] - 0s 494us/step - loss: 0.0050 - acc: 1.0000 - val_loss: 1.7246 - val_acc: 0.6857\n",
      "Epoch 17/20\n",
      "629/629 [==============================] - 0s 482us/step - loss: 0.0038 - acc: 1.0000 - val_loss: 1.7283 - val_acc: 0.6857\n",
      "Epoch 18/20\n",
      "629/629 [==============================] - 0s 500us/step - loss: 0.0026 - acc: 1.0000 - val_loss: 1.9673 - val_acc: 0.6286\n",
      "Epoch 19/20\n",
      "629/629 [==============================] - 0s 483us/step - loss: 0.0023 - acc: 1.0000 - val_loss: 1.8091 - val_acc: 0.6857\n",
      "Epoch 20/20\n",
      "629/629 [==============================] - 0s 472us/step - loss: 0.0017 - acc: 1.0000 - val_loss: 1.8335 - val_acc: 0.6857\n"
     ]
    }
   ],
   "source": [
    "history_embed = model_embed.fit(X_train, y_train, batch_size=32, epochs=20, verbose=1, validation_split=0.1)"
   ]
  },
  {
   "cell_type": "markdown",
   "metadata": {},
   "source": [
    "### Evaluate model"
   ]
  },
  {
   "cell_type": "code",
   "execution_count": 31,
   "metadata": {},
   "outputs": [
    {
     "name": "stdout",
     "output_type": "stream",
     "text": [
      "298/298 [==============================] - 0s 136us/step\n",
      "Test score: 1.57325528612\n",
      "Test accuracy: 0.634228187919\n"
     ]
    }
   ],
   "source": [
    "score_embed = model_embed.evaluate(X_test, y_test, batch_size=32, verbose=1)\n",
    "print('Test score:', score_embed[0])\n",
    "print('Test accuracy:', score_embed[1])"
   ]
  },
  {
   "cell_type": "code",
   "execution_count": null,
   "metadata": {},
   "outputs": [],
   "source": []
  }
 ],
 "metadata": {
  "anaconda-cloud": {},
  "kernelspec": {
   "display_name": "Python 3",
   "language": "python",
   "name": "python3"
  },
  "language_info": {
   "codemirror_mode": {
    "name": "ipython",
    "version": 3
   },
   "file_extension": ".py",
   "mimetype": "text/x-python",
   "name": "python",
   "nbconvert_exporter": "python",
   "pygments_lexer": "ipython3",
   "version": "3.5.2"
  }
 },
 "nbformat": 4,
 "nbformat_minor": 1
}
