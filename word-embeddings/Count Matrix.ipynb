{
 "cells": [
  {
   "cell_type": "code",
   "execution_count": 30,
   "metadata": {},
   "outputs": [],
   "source": [
    "import pandas as pd\n",
    "import numpy as np\n",
    "import math"
   ]
  },
  {
   "cell_type": "code",
   "execution_count": 38,
   "metadata": {},
   "outputs": [],
   "source": [
    "class CountVec():\n",
    "    def __init__(self, delimiter=\" \"):\n",
    "        self.position_dic = {}\n",
    "        self.delimiter = delimiter\n",
    "        pass\n",
    "    \n",
    "    def fit(self, documents):\n",
    "        index_counter = 0\n",
    "        position_dic = {}\n",
    "        for document in documents:\n",
    "            for word in document.split(self.delimiter):\n",
    "                if word not in position_dic:\n",
    "                    position_dic[word] = index_counter\n",
    "                    index_counter = index_counter+1\n",
    "        self.index_counter = index_counter\n",
    "        self.position_dic = position_dic\n",
    "        \n",
    "    def transform(self, documents):\n",
    "        arr = []\n",
    "        for document in documents:\n",
    "            vec = np.zeros(self.index_counter)\n",
    "            for word in document.split(self.delimiter):\n",
    "                if word not in self.position_dic:\n",
    "                    vec[self.position_dic[word]] = 0\n",
    "                vec[self.position_dic[word]] = vec[self.position_dic[word]] + 1\n",
    "            arr.append(vec)\n",
    "        return arr\n",
    "    \n",
    "    def fit_transform(self, documents):\n",
    "        self.fit(documents)\n",
    "        return self.transform(documents)"
   ]
  },
  {
   "cell_type": "code",
   "execution_count": 40,
   "metadata": {},
   "outputs": [
    {
     "data": {
      "text/plain": [
       "[array([2., 1., 1., 1., 1., 1., 0., 0.]),\n",
       " array([2., 0., 1., 1., 1., 0., 1., 1.])]"
      ]
     },
     "execution_count": 40,
     "metadata": {},
     "output_type": "execute_result"
    }
   ],
   "source": [
    "vectorizer = CountVec()\n",
    "vectorizer.fit_transform([\"the car is driven on the road.\", \"the truck is driven on the highway.\"])"
   ]
  },
  {
   "cell_type": "code",
   "execution_count": 41,
   "metadata": {},
   "outputs": [],
   "source": [
    "from sklearn.feature_extraction.text import CountVectorizer"
   ]
  },
  {
   "cell_type": "code",
   "execution_count": 42,
   "metadata": {},
   "outputs": [],
   "source": [
    "vectorizer = CountVectorizer()"
   ]
  },
  {
   "cell_type": "code",
   "execution_count": 43,
   "metadata": {},
   "outputs": [],
   "source": [
    "X = vectorizer.fit_transform([\"The car is driven on the road.\", \"The truck is driven on the highway.\"])"
   ]
  },
  {
   "cell_type": "code",
   "execution_count": 44,
   "metadata": {},
   "outputs": [
    {
     "data": {
      "text/plain": [
       "array([[1, 1, 0, 1, 1, 1, 2, 0]])"
      ]
     },
     "execution_count": 44,
     "metadata": {},
     "output_type": "execute_result"
    }
   ],
   "source": [
    "X[0].toarray()"
   ]
  },
  {
   "cell_type": "code",
   "execution_count": null,
   "metadata": {},
   "outputs": [],
   "source": []
  }
 ],
 "metadata": {
  "kernelspec": {
   "display_name": "Python 2",
   "language": "python",
   "name": "python2"
  },
  "language_info": {
   "codemirror_mode": {
    "name": "ipython",
    "version": 2
   },
   "file_extension": ".py",
   "mimetype": "text/x-python",
   "name": "python",
   "nbconvert_exporter": "python",
   "pygments_lexer": "ipython2",
   "version": "2.7.13"
  }
 },
 "nbformat": 4,
 "nbformat_minor": 2
}
