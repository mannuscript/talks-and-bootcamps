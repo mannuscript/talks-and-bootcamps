{
 "cells": [
  {
   "cell_type": "markdown",
   "metadata": {},
   "source": [
    "# Normalization\n",
    "\n",
    "Normalization is the task of converting a document into a single canonical form"
   ]
  },
  {
   "cell_type": "markdown",
   "metadata": {},
   "source": [
    "## Import required packages"
   ]
  },
  {
   "cell_type": "code",
   "execution_count": 8,
   "metadata": {},
   "outputs": [],
   "source": [
    "import re\n",
    "\n",
    "from nltk.corpus import stopwords"
   ]
  },
  {
   "cell_type": "markdown",
   "metadata": {},
   "source": [
    "### Load stopwords as provided by NLTK"
   ]
  },
  {
   "cell_type": "code",
   "execution_count": 9,
   "metadata": {},
   "outputs": [],
   "source": [
    "nltk_stopwords = list(stopwords.words('english'))"
   ]
  },
  {
   "cell_type": "code",
   "execution_count": 10,
   "metadata": {},
   "outputs": [
    {
     "name": "stdout",
     "output_type": "stream",
     "text": [
      "['i', 'me', 'my', 'myself', 'we', 'our', 'ours', 'ourselves', 'you', \"you're\", \"you've\", \"you'll\", \"you'd\", 'your', 'yours', 'yourself', 'yourselves', 'he', 'him', 'his', 'himself', 'she', \"she's\", 'her', 'hers', 'herself', 'it', \"it's\", 'its', 'itself', 'they', 'them', 'their', 'theirs', 'themselves', 'what', 'which', 'who', 'whom', 'this', 'that', \"that'll\", 'these', 'those', 'am', 'is', 'are', 'was', 'were', 'be', 'been', 'being', 'have', 'has', 'had', 'having', 'do', 'does', 'did', 'doing', 'a', 'an', 'the', 'and', 'but', 'if', 'or', 'because', 'as', 'until', 'while', 'of', 'at', 'by', 'for', 'with', 'about', 'against', 'between', 'into', 'through', 'during', 'before', 'after', 'above', 'below', 'to', 'from', 'up', 'down', 'in', 'out', 'on', 'off', 'over', 'under', 'again', 'further', 'then', 'once', 'here', 'there', 'when', 'where', 'why', 'how', 'all', 'any', 'both', 'each', 'few', 'more', 'most', 'other', 'some', 'such', 'no', 'nor', 'not', 'only', 'own', 'same', 'so', 'than', 'too', 'very', 's', 't', 'can', 'will', 'just', 'don', \"don't\", 'should', \"should've\", 'now', 'd', 'll', 'm', 'o', 're', 've', 'y', 'ain', 'aren', \"aren't\", 'couldn', \"couldn't\", 'didn', \"didn't\", 'doesn', \"doesn't\", 'hadn', \"hadn't\", 'hasn', \"hasn't\", 'haven', \"haven't\", 'isn', \"isn't\", 'ma', 'mightn', \"mightn't\", 'mustn', \"mustn't\", 'needn', \"needn't\", 'shan', \"shan't\", 'shouldn', \"shouldn't\", 'wasn', \"wasn't\", 'weren', \"weren't\", 'won', \"won't\", 'wouldn', \"wouldn't\"]\n"
     ]
    }
   ],
   "source": [
    "print(nltk_stopwords)"
   ]
  },
  {
   "cell_type": "markdown",
   "metadata": {},
   "source": [
    "## Define a document\n",
    "\n",
    "We first create list of sentences, and we make it particularly \"ugly\"."
   ]
  },
  {
   "cell_type": "code",
   "execution_count": 11,
   "metadata": {},
   "outputs": [],
   "source": [
    "sentences = [\"Text processing with Python    is great hahahaha.\", \n",
    "             \"It     isn't (very) cooomplicated to get started.\",\n",
    "             \"However,careful to...you know....avoid mistakes.\",\n",
    "             \"Contact me at vonderweth@nus.edu.sg; see http://nus.edu.sg.\",\n",
    "             \"This is so cooool #nltkrocks     :))) :-P <3.\"]"
   ]
  },
  {
   "cell_type": "markdown",
   "metadata": {},
   "source": [
    "## Normalize raw sentences"
   ]
  },
  {
   "cell_type": "markdown",
   "metadata": {},
   "source": [
    "#### Lowercase all letters"
   ]
  },
  {
   "cell_type": "code",
   "execution_count": 12,
   "metadata": {},
   "outputs": [
    {
     "name": "stdout",
     "output_type": "stream",
     "text": [
      "text processing with python    is great hahahaha.\n",
      "it     isn't (very) cooomplicated to get started.\n",
      "however,careful to...you know....avoid mistakes.\n",
      "contact me at vonderweth@nus.edu.sg; see http://nus.edu.sg.\n",
      "this is so cooool #nltkrocks     :))) :-p <3.\n"
     ]
    }
   ],
   "source": [
    "for s in sentences:\n",
    "    print(s.lower())"
   ]
  },
  {
   "cell_type": "markdown",
   "metadata": {},
   "source": [
    "#### Remove duplicate whitespaces"
   ]
  },
  {
   "cell_type": "code",
   "execution_count": 13,
   "metadata": {},
   "outputs": [
    {
     "name": "stdout",
     "output_type": "stream",
     "text": [
      "Text processing with Python is great hahahaha.\n",
      "It isn't (very) cooomplicated to get started.\n",
      "However,careful to...you know....avoid mistakes.\n",
      "Contact me at vonderweth@nus.edu.sg; see http://nus.edu.sg.\n",
      "This is so cooool #nltkrocks :))) :-P <3.\n"
     ]
    }
   ],
   "source": [
    "for s in sentences:\n",
    "    print(re.sub(r'\\s+', ' ', s))\n",
    "    "
   ]
  },
  {
   "cell_type": "markdown",
   "metadata": {},
   "source": [
    "#### Remove ellipses (...)"
   ]
  },
  {
   "cell_type": "code",
   "execution_count": 14,
   "metadata": {},
   "outputs": [
    {
     "name": "stdout",
     "output_type": "stream",
     "text": [
      "Text processing with Python    is great hahahaha.\n",
      "It     isn't (very) cooomplicated to get started.\n",
      "However,careful to you know avoid mistakes.\n",
      "Contact me at vonderweth@nus.edu.sg; see http://nus.edu.sg.\n",
      "This is so cooool #nltkrocks     :))) :-P <3.\n"
     ]
    }
   ],
   "source": [
    "for s in sentences:\n",
    "    print(re.sub(r'([.]){2,}', ' ', s))"
   ]
  },
  {
   "cell_type": "markdown",
   "metadata": {},
   "source": [
    "#### Wrapping it all together (with additional steps)"
   ]
  },
  {
   "cell_type": "code",
   "execution_count": 15,
   "metadata": {},
   "outputs": [
    {
     "name": "stdout",
     "output_type": "stream",
     "text": [
      "text processing with python is great haha.\n",
      "it is not coomplicated to get started.\n",
      "however, careful to you know avoid mistakes.\n",
      "contact me at vonderweth@nus.edu.sg; see http://nus.edu.sg.\n",
      "this is so cool #nltkrocks :)) :-p <3.\n"
     ]
    }
   ],
   "source": [
    "for s in sentences:\n",
    "    s = s.lower()                                                   # Lowercase whole sentence\n",
    "    s = re.sub(r'\\s+', ' ', s)                                      # Remove duplicate whitespaces\n",
    "    s = re.sub(r'([.]){2,}', ' ', s)                                # Remove ellipses ...\n",
    "    s = re.sub(r'([\\w.-]+)([,;])([\\w.-]+)', '\\g<1>\\g<2> \\g<3>', s)  # Add missing whitespace after , and ;\n",
    "    s = re.sub(r'(.+)\\1{2,}', '\\g<1>\\g<1>', s)                      # Reduce repeated sequences to 2\n",
    "    s = re.sub(r'[\\(\\[].*?[\\)\\]]', ' ', s)                          # Remove all words in brackets\n",
    "    s = re.sub(r'(n\\'t)', ' not', s)                                # Resolve contraction \"-n't\"\n",
    "    #s = re.sub(r'[^a-zA-Z0-9_-]+', ' ', s)                         # Remove all \"odd\" characters\n",
    "    s = re.sub(r'\\s+', ' ', s)                                      # Remove duplicate whitespaces (again)\n",
    "    s = s.strip()                                                   # Remove trailing whitespaces\n",
    "    print(s)"
   ]
  },
  {
   "cell_type": "markdown",
   "metadata": {},
   "source": [
    "## Normalize token lists"
   ]
  },
  {
   "cell_type": "markdown",
   "metadata": {},
   "source": [
    "We use the TweetTokenizer since we have many informal tokens such as email addresses, URLs, and emoticons"
   ]
  },
  {
   "cell_type": "code",
   "execution_count": 16,
   "metadata": {},
   "outputs": [],
   "source": [
    "from nltk.tokenize import TweetTokenizer"
   ]
  },
  {
   "cell_type": "code",
   "execution_count": 17,
   "metadata": {},
   "outputs": [],
   "source": [
    "tweet_tokenizer = TweetTokenizer()"
   ]
  },
  {
   "cell_type": "markdown",
   "metadata": {},
   "source": [
    "### Tokenize all sentences"
   ]
  },
  {
   "cell_type": "code",
   "execution_count": 18,
   "metadata": {},
   "outputs": [
    {
     "name": "stdout",
     "output_type": "stream",
     "text": [
      "['Text', 'processing', 'with', 'Python', 'is', 'great', 'hahahaha', '.']\n",
      "['It', \"isn't\", '(', 'very', ')', 'cooomplicated', 'to', 'get', 'started', '.']\n",
      "['However', ',', 'careful', 'to', '...', 'you', 'know', '...', 'avoid', 'mistakes', '.']\n",
      "['Contact', 'me', 'at', 'vonderweth@nus.edu.sg', ';', 'see', 'http://nus.edu.sg', '.']\n",
      "['This', 'is', 'so', 'cooool', '#nltkrocks', ':)', ')', ')', ':-P', '<3', '.']\n"
     ]
    }
   ],
   "source": [
    "token_lists = [ tweet_tokenizer.tokenize(s) for s in sentences ]\n",
    "\n",
    "for tl in token_lists:\n",
    "    print(tl)"
   ]
  },
  {
   "cell_type": "code",
   "execution_count": 19,
   "metadata": {},
   "outputs": [
    {
     "name": "stdout",
     "output_type": "stream",
     "text": [
      "[['Text', 'processing', 'with', 'Python', 'is', 'great', 'hahahaha', '.'], ['It', \"isn't\", '(', 'very', ')', 'cooomplicated', 'to', 'get', 'started', '.'], ['However', ',', 'careful', 'to', '...', 'you', 'know', '...', 'avoid', 'mistakes', '.'], ['Contact', 'me', 'at', 'vonderweth@nus.edu.sg', ';', 'see', 'http://nus.edu.sg', '.'], ['This', 'is', 'so', 'cooool', '#nltkrocks', ':)', ')', ')', ':-P', '<3', '.']]\n"
     ]
    }
   ],
   "source": [
    "print(token_lists)"
   ]
  },
  {
   "cell_type": "markdown",
   "metadata": {},
   "source": [
    "#### Lowercase all letters"
   ]
  },
  {
   "cell_type": "code",
   "execution_count": 20,
   "metadata": {},
   "outputs": [
    {
     "name": "stdout",
     "output_type": "stream",
     "text": [
      "['text', 'processing', 'with', 'python', 'is', 'great', 'hahahaha', '.']\n",
      "['it', \"isn't\", '(', 'very', ')', 'cooomplicated', 'to', 'get', 'started', '.']\n",
      "['however', ',', 'careful', 'to', '...', 'you', 'know', '...', 'avoid', 'mistakes', '.']\n",
      "['contact', 'me', 'at', 'vonderweth@nus.edu.sg', ';', 'see', 'http://nus.edu.sg', '.']\n",
      "['this', 'is', 'so', 'cooool', '#nltkrocks', ':)', ')', ')', ':-p', '<3', '.']\n"
     ]
    }
   ],
   "source": [
    "for tl in token_lists:\n",
    "    print([token.lower() for token in tl])"
   ]
  },
  {
   "cell_type": "markdown",
   "metadata": {},
   "source": [
    "#### Remove duplicate whitespaces\n",
    "\n",
    "Well, not needed anymore. The tokenizer already took care of it"
   ]
  },
  {
   "cell_type": "markdown",
   "metadata": {},
   "source": [
    "#### Remove ellipses (...)\n",
    "\n",
    "This translates to removing all tokens of the form \"..\" ot with even more consecutive dots"
   ]
  },
  {
   "cell_type": "code",
   "execution_count": 21,
   "metadata": {},
   "outputs": [
    {
     "name": "stdout",
     "output_type": "stream",
     "text": [
      "['Text', 'processing', 'with', 'Python', 'is', 'great', 'hahahaha', '.']\n",
      "['It', \"isn't\", '(', 'very', ')', 'cooomplicated', 'to', 'get', 'started', '.']\n",
      "['However', ',', 'careful', 'to', 'you', 'know', 'avoid', 'mistakes', '.']\n",
      "['Contact', 'me', 'at', 'vonderweth@nus.edu.sg', ';', 'see', 'http://nus.edu.sg', '.']\n",
      "['This', 'is', 'so', 'cooool', '#nltkrocks', ':)', ')', ')', ':-P', '<3', '.']\n"
     ]
    }
   ],
   "source": [
    "for tl in token_lists:\n",
    "    print([token for token in tl if not token.startswith(\"..\")])"
   ]
  },
  {
   "cell_type": "markdown",
   "metadata": {},
   "source": [
    "#### Wrapping it all together (with additional steps)\n",
    "\n",
    "We are trying the achieve the same results as above."
   ]
  },
  {
   "cell_type": "code",
   "execution_count": 83,
   "metadata": {},
   "outputs": [
    {
     "name": "stdout",
     "output_type": "stream",
     "text": [
      "['text', 'processing', 'python', 'great', 'haha', '.']\n",
      "['is not', 'coomplicated', 'get', 'started', '.']\n",
      "['however', ',', 'careful', 'know', 'avoid', 'mistakes', '.']\n",
      "['contact', 'vonderweth@nus.edu.sg', ';', 'see', 'http://nus.edu.sg', '.']\n",
      "['cool', '#nltkrocks', ':)', ')', ')', ':-p', '<3', '.']\n"
     ]
    }
   ],
   "source": [
    "for i, tl in enumerate(token_lists):\n",
    "    for j, token in enumerate(tl):\n",
    "        s = token\n",
    "        s = s.lower()\n",
    "        s = re.sub(r'([.]){2,}', ' ', s)                                # Remove ellipses ...\n",
    "        s = re.sub(r'([\\w.-]+)([,;])([\\w.-]+)', '\\g<1>\\g<2> \\g<3>', s)  # Add missing whitespace after , and ;\n",
    "        s = re.sub(r'(.+)\\1{2,}', '\\g<1>\\g<1>', s)                      # Reduce repeated sequences to 2\n",
    "        s = re.sub(r'[\\(\\[].*?[\\)\\]]', ' ', s)                          # Remove all words in brackets\n",
    "        s = re.sub(r'(n\\'t)', ' not', s)                                # Resolve contraction \"-n't\"\n",
    "        s = re.sub(r'\\s+', ' ', s)                                      # Remove duplicate whitespaces (again)\n",
    "        s = s.strip()                                                   # Remove trailing whitespaces\n",
    "        tl[j] = s\n",
    "    \n",
    "    token_lists[i] = [ token for token in tl if token.strip() != '' ]\n",
    "    print(token_lists[i])"
   ]
  },
  {
   "cell_type": "markdown",
   "metadata": {},
   "source": [
    "Note how the conversion from \"isn't\" to \"is not\" makes the result no longer perfectly tokenized"
   ]
  },
  {
   "cell_type": "code",
   "execution_count": 89,
   "metadata": {},
   "outputs": [
    {
     "name": "stdout",
     "output_type": "stream",
     "text": [
      "['text', 'processing', 'python', 'great', 'haha', '.']\n",
      "['is', 'not', 'coomplicated', 'get', 'started', '.']\n",
      "['however', ',', 'careful', 'know', 'avoid', 'mistakes', '.']\n",
      "['contact', 'vonderweth@nus.edu.sg', ';', 'see', 'http://nus.edu.sg', '.']\n",
      "['cool', '#nltkrocks', ':)', ')', ')', ':-p', '<3', '.']\n"
     ]
    }
   ],
   "source": [
    "for i, tl in enumerate(token_lists):\n",
    "    new_tl = []\n",
    "    for j, token in enumerate(tl):\n",
    "        token_tl = tweet_tokenizer.tokenize(token)\n",
    "        new_tl.extend(token_tl)\n",
    "    token_lists[i] = new_tl\n",
    "    print(token_lists[i])"
   ]
  },
  {
   "cell_type": "markdown",
   "metadata": {},
   "source": [
    "Also the removal of all words in brackets failed. The problem is that the tokenizer has split the brackets from the words. As a consequence, just by looking at a word, we cannot decide if it was enclosed in brackets or not. However, we can still remove bracketed words \"manually\", by checking each token/word if the preceding and succeeding token is a open and closing bracked, respectively."
   ]
  },
  {
   "cell_type": "code",
   "execution_count": 90,
   "metadata": {},
   "outputs": [
    {
     "name": "stdout",
     "output_type": "stream",
     "text": [
      "['text', 'processing', 'python', 'great', 'haha', '.']\n",
      "['is', 'not', 'coomplicated', 'get', 'started', '.']\n",
      "['however', ',', 'careful', 'know', 'avoid', 'mistakes', '.']\n",
      "['contact', 'vonderweth@nus.edu.sg', ';', 'see', 'http://nus.edu.sg', '.']\n",
      "['cool', '#nltkrocks', ':)', ')', ')', ':-p', '<3', '.']\n"
     ]
    }
   ],
   "source": [
    "for i, tl in enumerate(token_lists):\n",
    "    for j, token in enumerate(tl):\n",
    "        s = token\n",
    "        try:\n",
    "            if tl[j-1] in \"[(\" and tl[j+1] in \")]\":\n",
    "                s = ''\n",
    "                tl[j-1] = ''\n",
    "                tl[j+1] = ''\n",
    "        except:\n",
    "            pass\n",
    "        tl[j] = s\n",
    "        \n",
    "    token_lists[i] = [ token for token in tl if token.strip() != '' ]\n",
    "    print(token_lists[i])"
   ]
  },
  {
   "cell_type": "markdown",
   "metadata": {},
   "source": [
    "### Remove stopwords"
   ]
  },
  {
   "cell_type": "code",
   "execution_count": 91,
   "metadata": {},
   "outputs": [],
   "source": [
    "for i, tl in enumerate(token_lists):\n",
    "    for j, token in enumerate(tl):\n",
    "        if token in nltk_stopwords:\n",
    "            token = ''\n",
    "        tl[j] = token\n",
    "    token_lists[i] = [ token for token in tl if token.strip() != '' ]"
   ]
  },
  {
   "cell_type": "code",
   "execution_count": 92,
   "metadata": {},
   "outputs": [
    {
     "name": "stdout",
     "output_type": "stream",
     "text": [
      "[['text', 'processing', 'python', 'great', 'haha', '.'], ['coomplicated', 'get', 'started', '.'], ['however', ',', 'careful', 'know', 'avoid', 'mistakes', '.'], ['contact', 'vonderweth@nus.edu.sg', ';', 'see', 'http://nus.edu.sg', '.'], ['cool', '#nltkrocks', ':)', ')', ')', ':-p', '<3', '.']]\n"
     ]
    }
   ],
   "source": [
    "print(token_lists)"
   ]
  },
  {
   "cell_type": "code",
   "execution_count": null,
   "metadata": {},
   "outputs": [],
   "source": []
  }
 ],
 "metadata": {
  "anaconda-cloud": {},
  "kernelspec": {
   "display_name": "Python 3",
   "language": "python",
   "name": "python3"
  },
  "language_info": {
   "codemirror_mode": {
    "name": "ipython",
    "version": 3
   },
   "file_extension": ".py",
   "mimetype": "text/x-python",
   "name": "python",
   "nbconvert_exporter": "python",
   "pygments_lexer": "ipython3",
   "version": "3.5.2"
  }
 },
 "nbformat": 4,
 "nbformat_minor": 1
}
