{
 "cells": [
  {
   "cell_type": "markdown",
   "metadata": {},
   "source": [
    "# Regular Expressions\n",
    "\n",
    "A regular expression is a pattern that the regular expression engine attempts to match in input text. A pattern consists of one or more character literals, operators, or constructs. Regular expressions provide a powerful, flexible, and efficient method for processing text. The extensive pattern-matching notation of regular expressions enables you to\n",
    "- quickly parse large amounts of text to find specific character patterns; \n",
    "- to validate text to ensure that it matches a predefined pattern (such as an e-mail address)\n",
    "- to extract, edit, replace, or delete text substrings"
   ]
  },
  {
   "cell_type": "code",
   "execution_count": 1,
   "metadata": {},
   "outputs": [],
   "source": [
    "import re"
   ]
  },
  {
   "cell_type": "markdown",
   "metadata": {},
   "source": [
    "- `search()`: returns match object of the for the first location where the regular expression pattern produces a match, and return a corresponding match object; returns None if no position in the string matches the pattern.\n",
    "\n",
    "- `match()`: similar to `search()`, but the match has to occur the beginning of the string and not anywhere in the string.\n",
    "\n",
    "- `findall()`: returns all non-overlapping matches of a pattern in a string as a list of strings, or a list of tuples containing strings in case of groups; returns an empty list of no matches are found.\n",
    "\n",
    "- `finditer()`: returns an iterator that iterates of all match objects (not strings) for a pattern in a string\n",
    "\n",
    "- `sub()`: returns a string obtained by replacing the leftmost non-overlapping occurrences of pattern in string by the given replacement. returns the same input string if the pattern is not found.\n",
    "\n",
    "\n",
    "The full of functions inluding the respective input parameters can be found here:\n",
    "- https://docs.python.org/3.4/library/re.html#re.search"
   ]
  },
  {
   "cell_type": "markdown",
   "metadata": {},
   "source": [
    "The method `show_matches()` is only there to simplify the following examples. It it's core, its simply uses the method `finditer()` to find matches based on a given expression in a given string. The rest of the methos only prints the result depending on the form of the matches."
   ]
  },
  {
   "cell_type": "code",
   "execution_count": 2,
   "metadata": {},
   "outputs": [],
   "source": [
    "def show_matches(pattern, string, flags=0):\n",
    "    matches = re.findall(pattern, string, flags)\n",
    "    if len(matches) == 0:\n",
    "        print(\"No match found.\", \"\\n\")\n",
    "    else:\n",
    "        try:\n",
    "            print(', '.join(matches), '\\n')\n",
    "        except:\n",
    "            print(matches, '\\n')"
   ]
  },
  {
   "cell_type": "markdown",
   "metadata": {},
   "source": [
    "Let's use the next controversional statement for a series of examples."
   ]
  },
  {
   "cell_type": "code",
   "execution_count": 3,
   "metadata": {},
   "outputs": [],
   "source": [
    "sentence = \"Having 1 cat is nice, but having 20 cats is crazy!\""
   ]
  },
  {
   "cell_type": "markdown",
   "metadata": {},
   "source": [
    "## Basic patterns"
   ]
  },
  {
   "cell_type": "markdown",
   "metadata": {},
   "source": [
    "- `a`, `X`, `9`, `<`: ordinary characters just match themselves exactly. The meta-characters which do not match themselves because they have special meanings are: `.` `^` `$` `*` `+` `?` `{` `[` `]` `\\` `|` `(` `)` (details below)\n",
    "- `.` (a period): matches any single character except newline `\\n`\n",
    "- `\\w`: (lowercase w) matches a \"word\" character: a letter or digit or underbar `[a-zA-Z0-9_]`. Note that although \"word\" is the mnemonic for this, it only matches a single word char, not a whole word. `\\W` (upper case W) matches any non-word character.\n",
    "- `\\b`: boundary between word and non-word\n",
    "- `\\s`: (lowercase s) matches a single whitespace character -- space, newline, return, tab, form `[ \\n\\r\\t\\f]`. `\\S` (upper case S) matches any non-whitespace character.\n",
    "- `\\t`, `\\n`, `\\r`: tab, newline, return\n",
    "- `\\d`: decimal digit [0-9] (some older regex utilities do not support but `\\d`, but they all support `\\w` and `\\s`)\n",
    "- `^` = start, `$` = end: match the start or end of the string\n",
    "- `\\`: inhibit the \"specialness\" of a character. So, for example, use `\\`. to match a period or `\\\\` to match a slash. If you are unsure if a character has special meaning, such as `@`, you can put a slash in front of it, `\\@`, to make sure it is treated just as a character. "
   ]
  },
  {
   "cell_type": "code",
   "execution_count": 4,
   "metadata": {},
   "outputs": [
    {
     "name": "stdout",
     "output_type": "stream",
     "text": [
      "cat, cat \n",
      "\n",
      "cats \n",
      "\n",
      "cat  \n",
      "\n",
      "cat \n",
      "\n",
      "No match found. \n",
      "\n",
      "No match found. \n",
      "\n"
     ]
    }
   ],
   "source": [
    "show_matches(r'cat', sentence)\n",
    "show_matches(r'cats', sentence)\n",
    "show_matches(r'cat\\s', sentence)\n",
    "show_matches(r'\\bcat\\b', sentence)\n",
    "show_matches(r'^cat', sentence)\n",
    "show_matches(r'cat$', sentence)"
   ]
  },
  {
   "cell_type": "code",
   "execution_count": 5,
   "metadata": {},
   "outputs": [
    {
     "name": "stdout",
     "output_type": "stream",
     "text": [
      "No match found. \n",
      "\n",
      "cat, cat \n",
      "\n"
     ]
    }
   ],
   "source": [
    "show_matches(r'Cat', sentence)\n",
    "show_matches(r'Cat', sentence, flags=re.IGNORECASE)"
   ]
  },
  {
   "cell_type": "markdown",
   "metadata": {},
   "source": [
    "By default, every part of a pattern has to match for the whole pattern to match. The pipe operator `|` allows to combine two patterns by means of a logical OR:"
   ]
  },
  {
   "cell_type": "code",
   "execution_count": null,
   "metadata": {},
   "outputs": [],
   "source": [
    "show_matches(r'cats|cat', sentence)\n",
    "show_matches(r'cat|cats', sentence)"
   ]
  },
  {
   "cell_type": "markdown",
   "metadata": {},
   "source": [
    "Notice that the two expressions do noy yield the same result. In the second expression, the successful match happens already with the first three letters of \"cats\". If the words would share a common substring, the order wouldn't matter. for, example `cat|dog` and `dog|cat` would indeed yield the same results."
   ]
  },
  {
   "cell_type": "code",
   "execution_count": 6,
   "metadata": {},
   "outputs": [
    {
     "name": "stdout",
     "output_type": "stream",
     "text": [
      "1, 2, 0 \n",
      "\n",
      "20 \n",
      "\n",
      "No match found. \n",
      "\n"
     ]
    }
   ],
   "source": [
    "show_matches(r'\\d', sentence)        # Same as: show_matches(r'[0-9]', sentence)\n",
    "show_matches(r'\\d\\d', sentence)      # Same as: show_matches(r'[0-9][0-9]', sentence)\n",
    "show_matches(r'\\d\\d\\d', sentence)    # Same as: show_matches(r'[0-9][0-9][0-9]', sentence)"
   ]
  },
  {
   "cell_type": "code",
   "execution_count": 7,
   "metadata": {},
   "outputs": [
    {
     "name": "stdout",
     "output_type": "stream",
     "text": [
      "H, a, v, i, n, g, 1, c, a, t, i, s, n, i, c, e, b, u, t, h, a, v, i, n, g, 2, 0, c, a, t, s, i, s, c, r, a, z, y \n",
      "\n",
      "Ha, vi, ng, ca, is, ni, ce, bu, ha, vi, ng, 20, ca, ts, is, cr, az \n",
      "\n",
      "Hav, ing, cat, nic, but, hav, ing, cat, cra \n",
      "\n"
     ]
    }
   ],
   "source": [
    "show_matches(r'\\w', sentence)        # Same as: show_matches(r'[a-zA-Z0-9_]', sentence)\n",
    "show_matches(r'\\w\\w', sentence)      # Same as: show_matches(r'[a-zA-Z0-9_][a-zA-Z0-9_]', sentence)\n",
    "show_matches(r'\\w\\w\\w', sentence)    # Same as: show_matches(r'[a-zA-Z0-9_][a-zA-Z0-9_][a-zA-Z0-9_]', sentence)"
   ]
  },
  {
   "cell_type": "markdown",
   "metadata": {},
   "source": [
    "Notice that matches never overlap. For example, in the last example, one might assume something like: `Hav`, `avi`, `vin`, `ing`, `cat`, `nic`, `ice`, etc. Basic RegEx analyzer don not support overlapping matches, but there are RegEx packages for Python availble that do, e.g., `import regex`."
   ]
  },
  {
   "cell_type": "code",
   "execution_count": 8,
   "metadata": {},
   "outputs": [
    {
     "name": "stdout",
     "output_type": "stream",
     "text": [
      "Having \n",
      "\n",
      "Having \n",
      "\n",
      "No match found. \n",
      "\n"
     ]
    }
   ],
   "source": [
    "show_matches(r'Having', sentence)\n",
    "show_matches(r'^Having', sentence)\n",
    "show_matches(r'Having$', sentence)"
   ]
  },
  {
   "cell_type": "code",
   "execution_count": 9,
   "metadata": {},
   "outputs": [
    {
     "name": "stdout",
     "output_type": "stream",
     "text": [
      "Having 1 dog is nice, but having 20 dogs is crazy!\n"
     ]
    }
   ],
   "source": [
    "print(re.sub(r'cat', 'dog', sentence))"
   ]
  },
  {
   "cell_type": "markdown",
   "metadata": {},
   "source": [
    "**Important:** Be always careful with what you're doing!"
   ]
  },
  {
   "cell_type": "code",
   "execution_count": 52,
   "metadata": {},
   "outputs": [
    {
     "name": "stdout",
     "output_type": "stream",
     "text": [
      "The sdogter plot shows all the dogegories\n"
     ]
    }
   ],
   "source": [
    "print(re.sub(r'cat', 'dog', 'The scatter plot shows all the categories'))"
   ]
  },
  {
   "cell_type": "markdown",
   "metadata": {},
   "source": [
    "## Repetition patterns"
   ]
  },
  {
   "cell_type": "markdown",
   "metadata": {},
   "source": [
    "- `+`: 1 or more occurrences of the pattern to its left, e.g. 'i+' = one or more i's\n",
    "- `*`: 0 or more occurrences of the pattern to its left\n",
    "- `?`: match 0 or 1 occurrences of the pattern to its left \n",
    "- `{n}`: spcification of number of occurrences\n",
    "- `{l,u}`: specification of a lower bound `l` and an upper bound `u`. The interval can be unbounded: `{l,}` or `{,u}`"
   ]
  },
  {
   "cell_type": "code",
   "execution_count": 53,
   "metadata": {},
   "outputs": [
    {
     "name": "stdout",
     "output_type": "stream",
     "text": [
      "1, 20 \n",
      "\n",
      ", , , , , , , 1, , , , , , , , , , , , , , , , , , , , , , , , , , 20, , , , , , , , , , , , , , , ,  \n",
      "\n",
      ", , , , , , , 1, , , , , , , , , , , , , , , , , , , , , , , , , , 2, 0, , , , , , , , , , , , , , , ,  \n",
      "\n"
     ]
    }
   ],
   "source": [
    "show_matches(r'\\d+', sentence)        # Same as: show_matches(r'[0-9]+', sentence)\n",
    "show_matches(r'\\d*', sentence)        # Same as: show_matches(r'[0-9]*', sentence)\n",
    "show_matches(r'\\d?', sentence)        # Same as: show_matches(r'[0-9]?', sentence)"
   ]
  },
  {
   "cell_type": "code",
   "execution_count": 54,
   "metadata": {},
   "outputs": [
    {
     "name": "stdout",
     "output_type": "stream",
     "text": [
      ", , , , , , , 1, , , , , , , , , , , , , , , , , , , , , , , , , , 20, , , , , , , , , , , , , , , ,  \n",
      "\n",
      "1, 2, 0 \n",
      "\n",
      "1, 2, 0 \n",
      "\n",
      "20 \n",
      "\n",
      "20 \n",
      "\n",
      "1, 20 \n",
      "\n"
     ]
    }
   ],
   "source": [
    "show_matches(r'\\d{,3}', sentence)\n",
    "show_matches(r'\\d{1}', sentence)\n",
    "show_matches(r'\\d{1,1}', sentence)\n",
    "show_matches(r'\\d{2,3}', sentence)\n",
    "show_matches(r'\\d{2,2}', sentence)\n",
    "show_matches(r'\\d{1,}', sentence)"
   ]
  },
  {
   "cell_type": "code",
   "execution_count": 55,
   "metadata": {},
   "outputs": [
    {
     "name": "stdout",
     "output_type": "stream",
     "text": [
      "Having, 1, cat, is, nice, but, having, 20, cats, is, crazy \n",
      "\n",
      "Having, , 1, , cat, , is, , nice, , , but, , having, , 20, , cats, , is, , crazy, ,  \n",
      "\n",
      "H, a, v, i, n, g, , 1, , c, a, t, , i, s, , n, i, c, e, , , b, u, t, , h, a, v, i, n, g, , 2, 0, , c, a, t, s, , i, s, , c, r, a, z, y, ,  \n",
      "\n",
      "Having, cat, is, nice, but, having, cats, is, crazy \n",
      "\n"
     ]
    }
   ],
   "source": [
    "show_matches(r'\\w+', sentence)        # Same as: show_matches(r'[a-zA-Z0-9_]+', sentence)\n",
    "show_matches(r'\\w*', sentence)        # Same as: show_matches(r'[a-zA-Z0-9_]*', sentence)\n",
    "show_matches(r'\\w?', sentence)        # Same as: show_matches(r'[a-zA-Z0-9_]?', sentence)\n",
    "show_matches(r'[a-zA-Z]+', sentence)"
   ]
  },
  {
   "cell_type": "code",
   "execution_count": 56,
   "metadata": {},
   "outputs": [
    {
     "name": "stdout",
     "output_type": "stream",
     "text": [
      "cats \n",
      "\n",
      "cat, cats \n",
      "\n",
      "cat, cats \n",
      "\n"
     ]
    }
   ],
   "source": [
    "show_matches(r'cats+', sentence)\n",
    "show_matches(r'cats*', sentence)\n",
    "show_matches(r'cats?', sentence)"
   ]
  },
  {
   "cell_type": "markdown",
   "metadata": {},
   "source": [
    "## Group extraction\n",
    "\n",
    "Groups are very useful to \"organize\" a regular expression into different parts. While for a match all parts/groups must match, the individual groups are captured individually and can be accessed as such. As a result, the output is no longer a list of strings, one for each match, but a list of tuples. The number of elements in each tuples reflects the number of groups in the regular expression."
   ]
  },
  {
   "cell_type": "markdown",
   "metadata": {},
   "source": [
    "The following looks for all number-word pairs (e.g., \"20 cats\", but also \"300km\" since the whitespace between number and word is optional)."
   ]
  },
  {
   "cell_type": "code",
   "execution_count": 57,
   "metadata": {},
   "outputs": [
    {
     "name": "stdout",
     "output_type": "stream",
     "text": [
      "[('1', 'cat'), ('20', 'cats')] \n",
      "\n"
     ]
    }
   ],
   "source": [
    "show_matches(r'(\\d+)\\s?(\\w+)', sentence)"
   ]
  },
  {
   "cell_type": "markdown",
   "metadata": {},
   "source": [
    "The following examples splits a sentence into different clauses by looking for commas, colons, and semicolons."
   ]
  },
  {
   "cell_type": "code",
   "execution_count": 58,
   "metadata": {},
   "outputs": [
    {
     "name": "stdout",
     "output_type": "stream",
     "text": [
      "[('Having 1 cat is nice', ' but having 20 cats is crazy')] \n",
      "\n"
     ]
    }
   ],
   "source": [
    "show_matches(r'([\\w\\s]+)[,;:]([\\w\\s]+)', sentence)"
   ]
  },
  {
   "cell_type": "markdown",
   "metadata": {},
   "source": [
    "The following examples looks for email addresses in a string."
   ]
  },
  {
   "cell_type": "code",
   "execution_count": 64,
   "metadata": {},
   "outputs": [
    {
     "name": "stdout",
     "output_type": "stream",
     "text": [
      "('test@example.org', 'test', 'example.')\n",
      "('demo.user.@example.org', 'user.', 'example.')\n"
     ]
    }
   ],
   "source": [
    "email_sentence = \"You can contact me via test@example.org or demo.user.@example.org.\"\n",
    "\n",
    "matches = re.findall(r'[\\w.-]+@[\\w.-]+\\w', email_sentence)\n",
    "matches = re.findall(r'((\\w+[\\w.])*@(\\w+[.])*\\w+)', email_sentence)\n",
    "\n",
    "for m in matches:\n",
    "    print(m)"
   ]
  },
  {
   "cell_type": "markdown",
   "metadata": {},
   "source": [
    "We can use groups to make it easy to individually get the account name (string for @) and the server name (string after @)."
   ]
  },
  {
   "cell_type": "code",
   "execution_count": 19,
   "metadata": {},
   "outputs": [
    {
     "name": "stdout",
     "output_type": "stream",
     "text": [
      "('test', 'example.org')\n",
      "-- account name: test\n",
      "-- server name:  example.org\n",
      "('demo', 'example.org')\n",
      "-- account name: demo\n",
      "-- server name:  example.org\n"
     ]
    }
   ],
   "source": [
    "matches = re.findall(r'([\\w.-]+)@([\\w.-]+\\w)', email_sentence)\n",
    "\n",
    "for m in matches:\n",
    "    print(m)\n",
    "    print(\"-- account name: {}\".format(m[0]))\n",
    "    print(\"-- server name:  {}\".format(m[1]))"
   ]
  },
  {
   "cell_type": "markdown",
   "metadata": {},
   "source": [
    "Sometime, we not only want the matching substrings but also the position of each match in the input string. For example, in can be interesting how far apart two matches are in the string. To accomplish this, we can use the method `finditer()` which returns an iterator of match objects which in turn provide functions to get the location a match in terms of the positions of the first character anf the last character."
   ]
  },
  {
   "cell_type": "code",
   "execution_count": 20,
   "metadata": {},
   "outputs": [
    {
     "name": "stdout",
     "output_type": "stream",
     "text": [
      "<_sre.SRE_Match object; span=(23, 39), match='test@example.org'>\n",
      "test@example.org (23, 39)\n",
      "test (23, 27)\n",
      "example.org (28, 39)\n",
      "\n",
      "<_sre.SRE_Match object; span=(43, 60), match='demo@example.org.'>\n",
      "demo@example.org. (43, 60)\n",
      "demo (43, 47)\n",
      "example.org. (48, 60)\n",
      "\n"
     ]
    }
   ],
   "source": [
    "pattern = re.compile(r'([\\w.-]+)@([\\w.-]+)')\n",
    "\n",
    "for m in pattern.finditer(email_sentence):\n",
    "    print(m)\n",
    "    print(m.group(), m.span())      # Same as print(m.group(0), m.span(0))\n",
    "    print(m.group(1), m.span(1))\n",
    "    print(m.group(2), m.span(2))\n",
    "    print()"
   ]
  },
  {
   "cell_type": "markdown",
   "metadata": {},
   "source": [
    "Note that `m` is not a string but a match object, since we are using `finditer()` instead of `findall()`.\n",
    "\n",
    "Be default, groups are getting number with respect to the order of appearance. Thus to access the first group, we have to write `group(1)` and `span(1)`. `span(0)` or simply `span()` returns the complete match covering all groups and the \"rest\".\n",
    "\n",
    "Groups can also be nested -- see the example later below. In case of nesting, the numbering derives from the order in which groups are opened by `(`."
   ]
  },
  {
   "cell_type": "markdown",
   "metadata": {},
   "source": [
    "### Named groups\n",
    "\n",
    "Instead of using the implicit ordering of groups to access the (partial) matches, we can also give each group its own name with `(?P<account>...)`. This later allows to access the groups using the name, which avoids to keep track of the ordering -- but makes the regular expression more scary looking.\n",
    "\n",
    "The example below again extracts all email address and differentiating between the account and server part of the address; see above. However, here we use named groups make printing the matches more intuitive."
   ]
  },
  {
   "cell_type": "code",
   "execution_count": 21,
   "metadata": {},
   "outputs": [
    {
     "name": "stdout",
     "output_type": "stream",
     "text": [
      "<_sre.SRE_Match object; span=(23, 39), match='test@example.org'>\n",
      "test@example.org (23, 39)\n",
      "test (23, 27)\n",
      "example.org (28, 39)\n",
      "\n",
      "<_sre.SRE_Match object; span=(43, 59), match='demo@example.org'>\n",
      "demo@example.org (43, 59)\n",
      "demo (43, 47)\n",
      "example.org (48, 59)\n",
      "\n"
     ]
    }
   ],
   "source": [
    "pattern = re.compile(r'(?P<account>[\\w.-]+)@(?P<server>[\\w.-]+\\w)')\n",
    "\n",
    "for m in pattern.finditer(email_sentence):\n",
    "    print(m)\n",
    "    print(m.group(), m.span())\n",
    "    print(m.group('account'), m.span('account'))\n",
    "    print(m.group('server'), m.span('server'))\n",
    "    print()"
   ]
  },
  {
   "cell_type": "markdown",
   "metadata": {},
   "source": [
    "### Grouping and Capturing\n",
    "\n",
    "Parentheses serve two different purposes: grouping expressions and capturing the text that matches an expression. That is, by default, each matching group is captured and returned. However, sometimes groups are only used for matching by not capturing. Consider the following example:"
   ]
  },
  {
   "cell_type": "code",
   "execution_count": 22,
   "metadata": {},
   "outputs": [],
   "source": [
    "gc_sentence = \"Aircraft and airplane are synonyms, but a jet is a special kind of airplane.\""
   ]
  },
  {
   "cell_type": "markdown",
   "metadata": {},
   "source": [
    "From this sentence we want to extract all mentions of \"aircraft\", \"airplane\", and \"jet\". Making use of the syntactical similarities between \"aircraft\" and \"airplane\", we can accomplish this by using:"
   ]
  },
  {
   "cell_type": "code",
   "execution_count": 23,
   "metadata": {},
   "outputs": [
    {
     "name": "stdout",
     "output_type": "stream",
     "text": [
      "Aircraft (0, 8)\n",
      "craft (3, 8)\n",
      "airplane (13, 21)\n",
      "plane (16, 21)\n",
      "jet (42, 45)\n",
      "None (-1, -1)\n",
      "airplane (67, 75)\n",
      "plane (70, 75)\n"
     ]
    }
   ],
   "source": [
    "pattern = re.compile(r'(air(craft|plane)|jet)', flags=re.IGNORECASE)\n",
    "\n",
    "for m in pattern.finditer(gc_sentence):\n",
    "    print(m.group(1), m.span(1))\n",
    "    print(m.group(2), m.span(2))"
   ]
  },
  {
   "cell_type": "markdown",
   "metadata": {},
   "source": [
    "Since we have two groups, we not only capture \"aircraft\" and \"airplane\" but also \"craft\" and \"plane\". This is not really what we want. To ged rid of is, we can switch off the caputering of the 2nd group with `?:` -- now the 2n group is only used for matching:"
   ]
  },
  {
   "cell_type": "code",
   "execution_count": 24,
   "metadata": {},
   "outputs": [
    {
     "name": "stdout",
     "output_type": "stream",
     "text": [
      "Aircraft (0, 8)\n",
      "airplane (13, 21)\n",
      "jet (42, 45)\n",
      "airplane (67, 75)\n"
     ]
    }
   ],
   "source": [
    "pattern = re.compile(r'(air(?:craft|plane)|jet)', flags=re.IGNORECASE)\n",
    "\n",
    "for m in pattern.finditer(gc_sentence):\n",
    "    print(m.group(1), m.span(1))\n",
    "    # print(m.group(2), m.span(2)) # Now throws an error since the 2nd group has been \"disabled\""
   ]
  },
  {
   "cell_type": "markdown",
   "metadata": {},
   "source": [
    "Side note: In this easy example, `(aircraft|airplane|jet)` would also work just fine"
   ]
  },
  {
   "cell_type": "markdown",
   "metadata": {},
   "source": [
    "## Backreferences\n",
    "\n",
    "Backreferences are a concept related to groups. They allow to refer to a group in the regular expressions. The common use case is to find repeated patters in a string."
   ]
  },
  {
   "cell_type": "code",
   "execution_count": 25,
   "metadata": {},
   "outputs": [],
   "source": [
    "br_sentence = \"School is the coolest time of the day hahahahahaha.\""
   ]
  },
  {
   "cell_type": "markdown",
   "metadata": {},
   "source": [
    "In the following example, we are looking for words that contain repeated subtrings. According the to sentence above, that can be \"school\" where the repated substring is \"o\", or \"hahahahahaha\" where the repeated substring is \"ha\"."
   ]
  },
  {
   "cell_type": "code",
   "execution_count": 26,
   "metadata": {},
   "outputs": [
    {
     "name": "stdout",
     "output_type": "stream",
     "text": [
      "o, o \n",
      "\n",
      "o, o, ha \n",
      "\n"
     ]
    }
   ],
   "source": [
    "show_matches(r'\\w*(\\w)\\1\\w*', br_sentence)\n",
    "show_matches(r'\\w*(\\w+)\\1\\w*', br_sentence)"
   ]
  },
  {
   "cell_type": "markdown",
   "metadata": {},
   "source": [
    "This didn't quite work since `findall()` captures only groups, if groups are used. To capture the full match one can use `finditer()` or keep `findall()` but change the expression a little bit."
   ]
  },
  {
   "cell_type": "code",
   "execution_count": 27,
   "metadata": {},
   "outputs": [
    {
     "name": "stdout",
     "output_type": "stream",
     "text": [
      "School (0, 6)\n",
      "coolest (14, 21)\n",
      "hahahahahaha (38, 50)\n"
     ]
    }
   ],
   "source": [
    "pattern = re.compile(r'\\w*(\\w+)\\1\\w*')\n",
    "\n",
    "for m in pattern.finditer(br_sentence):\n",
    "    print(m.group(), m.span())"
   ]
  },
  {
   "cell_type": "markdown",
   "metadata": {},
   "source": [
    "The alterantive is to use `findall()` and pack the whole expression into its own group. The only require change is that we need to replace `\\1` by `\\2` since we now have two groups -- actually nested groups, and the group that checks frou doubled characters is the inner group."
   ]
  },
  {
   "cell_type": "code",
   "execution_count": 41,
   "metadata": {},
   "outputs": [
    {
     "name": "stdout",
     "output_type": "stream",
     "text": [
      "No match found. \n",
      "\n",
      "No match found. \n",
      "\n",
      "[('test', 't')] \n",
      "\n"
     ]
    }
   ],
   "source": [
    "br_sentence = \"This is a test.\"\n",
    "\n",
    "show_matches(r'(\\w*(\\w)\\2\\w*)', br_sentence)\n",
    "show_matches(r'(\\w*(\\w{2,})\\2\\w*)', br_sentence)\n",
    "show_matches(r'(\\b(\\w)\\w*\\2\\b)', br_sentence, flags=re.IGNORECASE)\n",
    "\n",
    "for m in re.findall(r'(\\w*(\\w+)\\2\\w*)', br_sentence):\n",
    "    print(m[0]) # We know that we are interested in the first group ==> first element in tuple"
   ]
  },
  {
   "cell_type": "markdown",
   "metadata": {},
   "source": [
    "Just as an additional example, let's use named groups to make the access to the matches mroe intuitive."
   ]
  },
  {
   "cell_type": "code",
   "execution_count": 33,
   "metadata": {},
   "outputs": [
    {
     "name": "stdout",
     "output_type": "stream",
     "text": [
      "School (0, 6)\n",
      "\n",
      "coolest (14, 21)\n",
      "\n",
      "hahahahahaha (38, 50)\n",
      "\n"
     ]
    }
   ],
   "source": [
    "pattern = re.compile(r'(?P<doubledword>\\w*(\\w+)\\2\\w*)')\n",
    "\n",
    "for m in pattern.finditer(br_sentence):\n",
    "    print(m.group('doubledword'), m.span('doubledword'))\n",
    "    print()"
   ]
  },
  {
   "cell_type": "markdown",
   "metadata": {},
   "source": [
    "### Replacing substrings using backreferences\n",
    "\n",
    "The replacement string can also return backreferences. However, the syntax is slightly different to avoid potential ambiguities: to refer to the first group, instead of `\\1` use `\\g<1>`."
   ]
  },
  {
   "cell_type": "code",
   "execution_count": 34,
   "metadata": {},
   "outputs": [
    {
     "name": "stdout",
     "output_type": "stream",
     "text": [
      "School was and is the coolest time of the day hahahahahaha.\n"
     ]
    }
   ],
   "source": [
    "print(re.sub(r'(is)', 'was and \\g<1>', br_sentence))"
   ]
  },
  {
   "cell_type": "markdown",
   "metadata": {},
   "source": [
    "The following substring replacement using `sub()` first finds double words and replaces them with just the first occurence."
   ]
  },
  {
   "cell_type": "code",
   "execution_count": 35,
   "metadata": {},
   "outputs": [
    {
     "name": "stdout",
     "output_type": "stream",
     "text": [
      "The length of a text is often defined by the number of words.\n"
     ]
    }
   ],
   "source": [
    "print(re.sub(r'\\b(\\w+)\\s+\\1\\b', '\\g<1>', 'The the length of of a text is often defined by the the number of words.', flags=re.IGNORECASE))"
   ]
  },
  {
   "cell_type": "markdown",
   "metadata": {},
   "source": [
    "We can also replace doubled words with the second occurence, but this is likely to cause more problems when the doubled words appear at the beginning of sentence with the first occurence being capitalized and the second one being lowercase. Not that we first have to change `\\1` to `(\\1)` to put the second occurence into its own group, otherwise we cannot refer to it with `\\g<2>`."
   ]
  },
  {
   "cell_type": "code",
   "execution_count": 36,
   "metadata": {},
   "outputs": [
    {
     "name": "stdout",
     "output_type": "stream",
     "text": [
      "the length of a text is often defined by the number of words.\n"
     ]
    }
   ],
   "source": [
    "print(re.sub(r'\\b(\\w+)\\s+(\\1)\\b', '\\g<2>', 'The the length of of a text is often defined by the the number of words.', flags=re.IGNORECASE))"
   ]
  },
  {
   "cell_type": "markdown",
   "metadata": {},
   "source": [
    "## Lookarounds: Lookaheads & Lookbehinds\n",
    "\n",
    "Lookarounds are assertions that look ahead or behind to ensure that a subpattern does or does not occur. Lookarounds match characters just like any other pattern, but then gives up the match, returning only the result: match or no match (hence an assertion).\n",
    "\n",
    "With the 2 directions (ahead, behind) and the 2 types of assertions (match, no match), there a for types of lookarounds:\n",
    "\n",
    "- `(?=)`: positive lookahead -- `A(?=B)` finds expression A but only when followed by expression B\n",
    "\n",
    "- `(?!)`: negative lookahead -- `A(?!B)` finds expression A but only when *not* followed by expression B\n",
    "\n",
    "- `(?<=)`: positive lookbehind -- `(?<=B)A` finds expression A but only when preceded by expression B\n",
    "\n",
    "- `(?<!)`: negative lookbehind -- `(?<!B)A` finds expression A but only when *not* preceded by expression B\n",
    "\n",
    "\n",
    "Lookaround expressions are very useful when there are several conditions. \n",
    "\n",
    "**Important:** The pattern of the lookbehinds need be of fixed length, that is, these patterns cannot any repitition specifier that allows for various number of characters. For example, `(?<!B+)A`, for some expression `B` would throw an error."
   ]
  },
  {
   "cell_type": "markdown",
   "metadata": {},
   "source": [
    "### Lookaheads"
   ]
  },
  {
   "cell_type": "markdown",
   "metadata": {},
   "source": [
    "The following examples shows a simple positive lookahead: We are searching for all first name of people with the last names \"Simpson\". That means, we are looking for all words that are followed be \"Simpsons\" (but we do not care about \"Simpson\" itself)"
   ]
  },
  {
   "cell_type": "code",
   "execution_count": 79,
   "metadata": {},
   "outputs": [
    {
     "name": "stdout",
     "output_type": "stream",
     "text": [
      "Homer\n",
      "Marge\n"
     ]
    }
   ],
   "source": [
    "lap_sentence = \"The team consists of Homer Simpson, Barney Gumble, Monty Burns, Marge Simpson, Ned Flanders, and Lenny Lennard.\"\n",
    "\n",
    "pattern = re.compile(r'\\w+(?= Simpson)')\n",
    "\n",
    "for m in pattern.finditer(lap_sentence):\n",
    "    print(m.group())"
   ]
  },
  {
   "cell_type": "markdown",
   "metadata": {},
   "source": [
    "### Lookbehinds"
   ]
  },
  {
   "cell_type": "markdown",
   "metadata": {},
   "source": [
    "The following examples shows a simple positive lookbehind: We are searching for all amounts of money in SGD."
   ]
  },
  {
   "cell_type": "code",
   "execution_count": 606,
   "metadata": {},
   "outputs": [
    {
     "name": "stdout",
     "output_type": "stream",
     "text": [
      "1,307,600.00\n"
     ]
    }
   ],
   "source": [
    "lbp_sentence = \"For 5 years, the funding is $1,000,000.00 which converts to S$1,307,600.00.\"\n",
    "\n",
    "# pattern = re.compile(r'[0-9,.]*\\d')     # try the pattern without the lookbehind\n",
    "pattern = re.compile(r'(?<=S\\$)[0-9,.]*\\d')\n",
    "\n",
    "for m in pattern.finditer(lbp_sentence):\n",
    "    print(m.group())"
   ]
  },
  {
   "cell_type": "markdown",
   "metadata": {},
   "source": [
    "Note that we have to escape `$` to `\\$` since `$` is a reserved symbol within regular expressions."
   ]
  },
  {
   "cell_type": "markdown",
   "metadata": {},
   "source": [
    "## More Examples"
   ]
  },
  {
   "cell_type": "markdown",
   "metadata": {},
   "source": [
    "### Find all dates in a text"
   ]
  },
  {
   "cell_type": "code",
   "execution_count": 3,
   "metadata": {},
   "outputs": [
    {
     "name": "stdout",
     "output_type": "stream",
     "text": [
      "20/03/2017\n",
      "25.03.2017\n"
     ]
    }
   ],
   "source": [
    "date_sentence = \"the office will be closed from 20/03/2017 to 25.03.2017.\"\n",
    "\n",
    "pattern = re.compile(r'\\d+[/.]\\d+[/.]\\d+')\n",
    "\n",
    "for m in pattern.finditer(date_sentence):\n",
    "    print(m.group())"
   ]
  },
  {
   "cell_type": "markdown",
   "metadata": {},
   "source": [
    "Don't forget that regular expressions only look for mattern. The expression above cannot truly find only real dates. For example, the epxression would also match `123.456.789` which might be a phone number. It is usually always possible to make regular expression more robust agains wrong matches, but the its complexity can quickly shoot up. In this example, we can use `r'\\d{1,2}[/.]\\d{1,2}[/.]\\d{2,4}'` to ensure that `123.456.789` wouldn't match."
   ]
  },
  {
   "cell_type": "markdown",
   "metadata": {},
   "source": [
    "### Find all IATA flight numbers in a text\n",
    "\n",
    "According to Wikipedia, IATA flight numbers are comprised of a 2-letter identifier of the airline and an assigned number -- fun fact: low numbers represent more prestigious flights. Officially, there's no whitespace between the airline code and the number, but many sources place one."
   ]
  },
  {
   "cell_type": "code",
   "execution_count": 607,
   "metadata": {},
   "outputs": [
    {
     "name": "stdout",
     "output_type": "stream",
     "text": [
      "SQ 326\n",
      "LH9765\n"
     ]
    }
   ],
   "source": [
    "iata_sentence = \"Was thinking about taking the SQ 326 but now I'm taking LH9765.\"\n",
    "\n",
    "pattern = re.compile(r'\\b[a-zA-Z]{2}\\s?[\\d]{1,4}\\b')\n",
    "\n",
    "for m in pattern.finditer(iata_sentence):\n",
    "    print(m.group())"
   ]
  },
  {
   "cell_type": "markdown",
   "metadata": {},
   "source": [
    "### Change text from American English to British English (a bit)"
   ]
  },
  {
   "cell_type": "code",
   "execution_count": 608,
   "metadata": {},
   "outputs": [],
   "source": [
    "ae_sentence = \"Let's organize a meeting to list all commercialized products for the citizens.\""
   ]
  },
  {
   "cell_type": "code",
   "execution_count": 609,
   "metadata": {},
   "outputs": [
    {
     "name": "stdout",
     "output_type": "stream",
     "text": [
      "Let's organise a meeting to list all commercialised products for the citizens.\n"
     ]
    }
   ],
   "source": [
    "# be_sentence = re.sub(r'ize', 'ise', ae_sentence, flags=re.IGNORECASE) # Check why this fails\n",
    "\n",
    "be_sentence = re.sub(r'\\b([\\w]+)iz(ing|e[sd]?)?\\b', '\\g<1>is\\g<2>', ae_sentence, flags=re.IGNORECASE) # Check why this fails\n",
    "\n",
    "print(be_sentence)"
   ]
  },
  {
   "cell_type": "markdown",
   "metadata": {},
   "source": [
    "### Password strength checker\n",
    "\n",
    "Regular expression do not necessarily need to return a match. In this example, we use a regular expression to check the strength of passwords, i.e., a password needs to fulfil some requirements to be valid (see list below). A check for several conditions is often a good indicator that lookarounds are they best option.\n",
    "\n",
    "- `(?=.*[a-z])`: at least 1 lowercase alphabetical character\n",
    "\n",
    "- `(?=.*[A-Z])`: at least 1 uppercase alphabetical character\n",
    "\n",
    "- `(?=.*[0-9])`: at least 1 numeric character\n",
    "\n",
    "- `(?=.*[!@#\\$%\\^&\\*])`: at least one special character (note the escaped reserved RegEx characters)\n",
    "\n",
    "- `(?=.{8,})`: eight characters or longer"
   ]
  },
  {
   "cell_type": "code",
   "execution_count": 610,
   "metadata": {},
   "outputs": [],
   "source": [
    "good_password = 'testTEST123#'\n",
    "bad_password = 'testtest123#'   # no uppercase character"
   ]
  },
  {
   "cell_type": "code",
   "execution_count": 611,
   "metadata": {},
   "outputs": [
    {
     "name": "stdout",
     "output_type": "stream",
     "text": [
      "<_sre.SRE_Match object; span=(0, 0), match=''>\n",
      "None\n"
     ]
    }
   ],
   "source": [
    "pattern = re.compile(r'^(?=.*[a-z])(?=.*[A-Z])(?=.*[0-9])(?=.*[!@#\\$%\\^&\\*])(?=.{8,})')\n",
    "\n",
    "print(pattern.match(good_password))\n",
    "print(pattern.match(bad_password))"
   ]
  },
  {
   "cell_type": "markdown",
   "metadata": {},
   "source": [
    "Not that even valid passwords don't return only an empty string. This is because the whole pattern is comprised of lookaheads, which are assertions (i.e., patterns that give up the match; see above). If you want get the password as a matched string you can change the last lookahaead `(?=.{8,})` to a normal pattern `.{8,}`."
   ]
  },
  {
   "cell_type": "markdown",
   "metadata": {},
   "source": [
    "## Summary\n",
    "\n",
    "Regular expressions are a powerful and flexible tool to analyze text. This tutorial covered only a small subset of the capabilities of regular expressions.\n",
    "\n",
    "- In general, the same task can be solved with different regular expressions, from simple to (overly) complex\n",
    "\n",
    "- Regular expressions are \"easy to learn but hard to master\"\n",
    "\n",
    "- Practically all modern programming languages support regular expressions\n",
    "\n",
    "- RegeEx engines (e.g., Python's `re`) are not all created equal. Not all support all (advanced) features."
   ]
  },
  {
   "cell_type": "code",
   "execution_count": null,
   "metadata": {},
   "outputs": [],
   "source": []
  }
 ],
 "metadata": {
  "anaconda-cloud": {},
  "kernelspec": {
   "display_name": "Python 3",
   "language": "python",
   "name": "python3"
  },
  "language_info": {
   "codemirror_mode": {
    "name": "ipython",
    "version": 3
   },
   "file_extension": ".py",
   "mimetype": "text/x-python",
   "name": "python",
   "nbconvert_exporter": "python",
   "pygments_lexer": "ipython3",
   "version": "3.5.2"
  }
 },
 "nbformat": 4,
 "nbformat_minor": 1
}
